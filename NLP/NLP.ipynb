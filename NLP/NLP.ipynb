{
  "nbformat": 4,
  "nbformat_minor": 0,
  "metadata": {
    "anaconda-cloud": {},
    "colab": {
      "name": "TD_1_sol.ipynb",
      "provenance": [],
      "collapsed_sections": [],
      "toc_visible": true
    },
    "kernelspec": {
      "display_name": "Python 3",
      "language": "python",
      "name": "python3"
    },
    "language_info": {
      "codemirror_mode": {
        "name": "ipython",
        "version": 3
      },
      "file_extension": ".py",
      "mimetype": "text/x-python",
      "name": "python",
      "nbconvert_exporter": "python",
      "pygments_lexer": "ipython3",
      "version": "3.6.3"
    }
  },
  "cells": [
    {
      "cell_type": "code",
      "metadata": {
        "colab": {
          "base_uri": "https://localhost:8080/"
        },
        "id": "UtV-fWKP1c2_",
        "outputId": "63c1f6ef-1e33-41a7-8ffb-59caebfd4ede"
      },
      "source": [
        "from google.colab import drive\n",
        "drive.mount('/content/drive')"
      ],
      "execution_count": null,
      "outputs": [
        {
          "output_type": "stream",
          "text": [
            "Mounted at /content/drive\n"
          ],
          "name": "stdout"
        }
      ]
    },
    {
      "cell_type": "markdown",
      "metadata": {
        "id": "BHnEwgLcu4wj"
      },
      "source": [
        "# <center> TP - Text-Mining <center/>"
      ]
    },
    {
      "cell_type": "markdown",
      "metadata": {
        "id": "bEyABl2ou4wp"
      },
      "source": [
        "** Before you begin this notebook, please make sure that you have the data folder + that you are running this notebook from your workspace **\n",
        "\n",
        "data are here :\n",
        "\n",
        "https://drive.google.com/drive/folders/1d2hM-NbxT3mGCzRaq-s4nuAAJQcmQj54?usp=sharing\n"
      ]
    },
    {
      "cell_type": "markdown",
      "metadata": {
        "id": "thnWx-pju4wp"
      },
      "source": [
        "_Now let's practice and use some text-mining techniques!_\n",
        "<br/>\n",
        "<br/> In this notebook we will study a mail dataset.\n",
        "Our final goal is to have some insights about the different subjects that appear in mailboxes. Among other problems, one big issue is that these mailboxes are poluted with a lot of spams.\n",
        "\n",
        "> The sequence we propose :\n",
        "- First you'll work on pre-processing the content of the mails\n",
        "- Then you will try to detect whether a mail is a spam or not through a supervized learning algorithm\n",
        "- Finally, once you've trained an algorithm to detect spams, you will try to identify the main topics in the remaining non-spam mails"
      ]
    },
    {
      "cell_type": "markdown",
      "metadata": {
        "id": "LUgRDEE-u4wp"
      },
      "source": [
        "## The data"
      ]
    },
    {
      "cell_type": "markdown",
      "metadata": {
        "id": "8sr9Tx-Cu4wq"
      },
      "source": [
        "Data are separated in six parts, each containing around 5000 mails.\n",
        "<br/> Each of these data chunks are separated in two parts : \n",
        ">- hams : that is to say non-spam mails\n",
        "- spams : containing advertisement or unrelevant content"
      ]
    },
    {
      "cell_type": "markdown",
      "metadata": {
        "id": "RGm7OI0Xu4wq"
      },
      "source": [
        "***\n",
        "***"
      ]
    },
    {
      "cell_type": "markdown",
      "metadata": {
        "id": "7KCGtBSmu4wq"
      },
      "source": [
        "## 0. Imports"
      ]
    },
    {
      "cell_type": "code",
      "metadata": {
        "colab": {
          "base_uri": "https://localhost:8080/"
        },
        "id": "Jl2w5Sytu4wq",
        "outputId": "eae9c3d3-4e5a-4233-9cad-6c91bf998ad6"
      },
      "source": [
        "#Import usefull package\n",
        "import os\n",
        "import re\n",
        "import string\n",
        "import random\n",
        "import numpy as np\n",
        "import pandas as pd\n",
        "from collections import Counter\n",
        "\n",
        "#Import nltk packages to manipulate text\n",
        "import nltk\n",
        "from nltk.corpus import wordnet\n",
        "from nltk.corpus import stopwords\n",
        "from nltk.metrics import ConfusionMatrix\n",
        "from nltk.stem.snowball import SnowballStemmer\n",
        "\n",
        "from nltk import word_tokenize, WordNetLemmatizer, PorterStemmer\n",
        "from nltk import pos_tag\n",
        "from nltk import ngrams\n",
        "from nltk import sent_tokenize\n",
        "\n",
        "#***\n",
        "nltk.download('punkt')\n",
        "nltk.download('wordnet')\n",
        "nltk.download('averaged_perceptron_tagger')\n",
        "nltk.download('stopwords')\n",
        "\n",
        "\n",
        "# Let's add a path containing some useful nltk data\n",
        "nltk.data.path += ['/mnt/share/nltk_data']\n",
        "\n",
        "\n",
        "# word2vec\n",
        "import gensim\n",
        "from gensim.models import Word2Vec"
      ],
      "execution_count": null,
      "outputs": [
        {
          "output_type": "stream",
          "text": [
            "[nltk_data] Downloading package punkt to /root/nltk_data...\n",
            "[nltk_data]   Unzipping tokenizers/punkt.zip.\n",
            "[nltk_data] Downloading package wordnet to /root/nltk_data...\n",
            "[nltk_data]   Unzipping corpora/wordnet.zip.\n",
            "[nltk_data] Downloading package averaged_perceptron_tagger to\n",
            "[nltk_data]     /root/nltk_data...\n",
            "[nltk_data]   Unzipping taggers/averaged_perceptron_tagger.zip.\n",
            "[nltk_data] Downloading package stopwords to /root/nltk_data...\n",
            "[nltk_data]   Unzipping corpora/stopwords.zip.\n"
          ],
          "name": "stdout"
        }
      ]
    },
    {
      "cell_type": "markdown",
      "metadata": {
        "id": "UAwi-13Yu4wr"
      },
      "source": [
        "# I. Data ingestion"
      ]
    },
    {
      "cell_type": "markdown",
      "metadata": {
        "id": "ILtiiDszeYL9"
      },
      "source": [
        "You should use all data here :\n",
        "\n",
        "CSV FORMAT :\n",
        "\n",
        "https://drive.google.com/drive/folders/1_t_lMo3kzqUnOs5sFi3dBuL5dDzKqwXt?usp=sharing"
      ]
    },
    {
      "cell_type": "code",
      "metadata": {
        "collapsed": true,
        "id": "IGS0r7ADu4wr"
      },
      "source": [
        "# You should modify the variable hereunder to you data folder\n",
        "path_data_all  = 'drive/My Drive/data/dataTM_all/'"
      ],
      "execution_count": null,
      "outputs": []
    },
    {
      "cell_type": "markdown",
      "metadata": {
        "id": "qRmfcmhau4ws"
      },
      "source": [
        "## A. Load data"
      ]
    },
    {
      "cell_type": "markdown",
      "metadata": {
        "id": "n1Sw8c5SnB-6"
      },
      "source": [
        "Read all mails"
      ]
    },
    {
      "cell_type": "code",
      "metadata": {
        "id": "xkANizLw1Sef"
      },
      "source": [
        "spams = pd.read_csv(path_data_all + \"spams.csv\")\n",
        "hams = pd.read_csv(path_data_all + \"hams.csv\")"
      ],
      "execution_count": null,
      "outputs": []
    },
    {
      "cell_type": "code",
      "metadata": {
        "colab": {
          "base_uri": "https://localhost:8080/",
          "height": 173
        },
        "id": "uiRYasCw3kbe",
        "outputId": "ac3be274-4b61-40ec-88f8-a246e7a676b4"
      },
      "source": [
        "hams.describe()"
      ],
      "execution_count": null,
      "outputs": [
        {
          "output_type": "execute_result",
          "data": {
            "text/html": [
              "<div>\n",
              "<style scoped>\n",
              "    .dataframe tbody tr th:only-of-type {\n",
              "        vertical-align: middle;\n",
              "    }\n",
              "\n",
              "    .dataframe tbody tr th {\n",
              "        vertical-align: top;\n",
              "    }\n",
              "\n",
              "    .dataframe thead th {\n",
              "        text-align: right;\n",
              "    }\n",
              "</style>\n",
              "<table border=\"1\" class=\"dataframe\">\n",
              "  <thead>\n",
              "    <tr style=\"text-align: right;\">\n",
              "      <th></th>\n",
              "      <th>type</th>\n",
              "      <th>text</th>\n",
              "    </tr>\n",
              "  </thead>\n",
              "  <tbody>\n",
              "    <tr>\n",
              "      <th>count</th>\n",
              "      <td>16545</td>\n",
              "      <td>16545</td>\n",
              "    </tr>\n",
              "    <tr>\n",
              "      <th>unique</th>\n",
              "      <td>1</td>\n",
              "      <td>15635</td>\n",
              "    </tr>\n",
              "    <tr>\n",
              "      <th>top</th>\n",
              "      <td>ham</td>\n",
              "      <td>Subject: calpine daily gas nomination &gt; ricky ...</td>\n",
              "    </tr>\n",
              "    <tr>\n",
              "      <th>freq</th>\n",
              "      <td>16545</td>\n",
              "      <td>20</td>\n",
              "    </tr>\n",
              "  </tbody>\n",
              "</table>\n",
              "</div>"
            ],
            "text/plain": [
              "         type                                               text\n",
              "count   16545                                              16545\n",
              "unique      1                                              15635\n",
              "top       ham  Subject: calpine daily gas nomination > ricky ...\n",
              "freq    16545                                                 20"
            ]
          },
          "metadata": {
            "tags": []
          },
          "execution_count": 7
        }
      ]
    },
    {
      "cell_type": "code",
      "metadata": {
        "colab": {
          "base_uri": "https://localhost:8080/",
          "height": 173
        },
        "id": "dh4nsoCpfpLR",
        "outputId": "ab93299b-a900-40b5-d417-082f41f3f2b5"
      },
      "source": [
        "spams.describe()"
      ],
      "execution_count": null,
      "outputs": [
        {
          "output_type": "execute_result",
          "data": {
            "text/html": [
              "<div>\n",
              "<style scoped>\n",
              "    .dataframe tbody tr th:only-of-type {\n",
              "        vertical-align: middle;\n",
              "    }\n",
              "\n",
              "    .dataframe tbody tr th {\n",
              "        vertical-align: top;\n",
              "    }\n",
              "\n",
              "    .dataframe thead th {\n",
              "        text-align: right;\n",
              "    }\n",
              "</style>\n",
              "<table border=\"1\" class=\"dataframe\">\n",
              "  <thead>\n",
              "    <tr style=\"text-align: right;\">\n",
              "      <th></th>\n",
              "      <th>type</th>\n",
              "      <th>text</th>\n",
              "    </tr>\n",
              "  </thead>\n",
              "  <tbody>\n",
              "    <tr>\n",
              "      <th>count</th>\n",
              "      <td>17171</td>\n",
              "      <td>17171</td>\n",
              "    </tr>\n",
              "    <tr>\n",
              "      <th>unique</th>\n",
              "      <td>1</td>\n",
              "      <td>14579</td>\n",
              "    </tr>\n",
              "    <tr>\n",
              "      <th>top</th>\n",
              "      <td>spam</td>\n",
              "      <td>Subject:</td>\n",
              "    </tr>\n",
              "    <tr>\n",
              "      <th>freq</th>\n",
              "      <td>17171</td>\n",
              "      <td>51</td>\n",
              "    </tr>\n",
              "  </tbody>\n",
              "</table>\n",
              "</div>"
            ],
            "text/plain": [
              "         type        text\n",
              "count   17171       17171\n",
              "unique      1       14579\n",
              "top      spam  Subject:  \n",
              "freq    17171          51"
            ]
          },
          "metadata": {
            "tags": []
          },
          "execution_count": 8
        }
      ]
    },
    {
      "cell_type": "markdown",
      "metadata": {
        "id": "AgAlfQ_Zu4wt"
      },
      "source": [
        "# II. Preprocessing"
      ]
    },
    {
      "cell_type": "markdown",
      "metadata": {
        "id": "O01QenXHu4wu"
      },
      "source": [
        "## A. Preprocessing one email"
      ]
    },
    {
      "cell_type": "markdown",
      "metadata": {
        "id": "ASh8oqisu4wu"
      },
      "source": [
        "Display one email content"
      ]
    },
    {
      "cell_type": "code",
      "metadata": {
        "colab": {
          "base_uri": "https://localhost:8080/"
        },
        "id": "GsrgaUKju4wu",
        "scrolled": true,
        "outputId": "7b4f4109-1eff-492f-de33-6b14bdf8f11f"
      },
      "source": [
        "#Get one spam-email & print it\n",
        "single_email = hams['text'][0]\n",
        "print(single_email)"
      ],
      "execution_count": null,
      "outputs": [
        {
          "output_type": "stream",
          "text": [
            "Subject: ena sales on hpl just to update you on this project ' s status : based on a new report that scott mills ran for me from sitara , i have come up with the following counterparties as the ones to which ena is selling gas off of hpl ' s pipe . altrade transaction , l . l . c . gulf gas utilities company brazoria , city of panther pipeline , inc . central illinois light company praxair , inc . central power and light company reliant energy - entex ces - equistar chemicals , lp reliant energy - hl & p corpus christi gas marketing , lp southern union company d & h gas company , inc . texas utilities fuel company duke energy field services , inc . txu gas distribution entex gas marketing company union carbide corporation equistar chemicals , lp unit gas transmission company inc . since i ' m not sure exactly what gets entered into sitara , pat clynes suggested that i check with daren farmer to make sure that i ' m not missing something ( which i did below ) . while i am waiting for a response from him and / or mary smith , i will begin gathering the contractual volumes under the above contracts . - - - - - - - - - - - - - - - - - - - - - - forwarded by cheryl dudley / hou / ect on 05 / 10 / 2000 07 : 56 am - - - - - - - - - - - - - - - - - - - - - - - - - - - cheryl d king 05 / 08 / 2000 04 : 11 pm sent by : cheryl dudley to : daren j farmer / hou / ect @ ect , mary m smith / hou / ect @ ect cc : subject : ena sales on hpl i am working on a project for brenda herod & was wondering if one of you could tell me if i ' m on the right track & if this will get everything for which she is looking . she is trying to draft a long - term transport / storage agreement between ena & hplc which will allow ena to move the gas to their markets . in order to accomplish this , she needs to know all of the sales to customers that ena is doing off of hpl ' s pipe . i had scott mills run a report from sitara showing all ena buy / sell activity on hpl since 7 / 99 . if i eliminate the buys & the desk - to - desk deals , will this give me everything that i need ? are there buy / sell deals done with ena on hpl ' s pipe that wouldn ' t show up in sitara ? someone mentioned something about deals where hpl transports the gas on it ' s own behalf then ena sells it to a customer at that same spot - - ? ? ? ? ? do deals like that happen ? would they show up in sitara ? is there anything else that i ' m missing ? i ' m not real familiar with how some of these deals happen nowadays so am very receptive to any ideas / suggestions / help that you can offer ! ! ! thanks in advance .\n"
          ],
          "name": "stdout"
        }
      ]
    },
    {
      "cell_type": "markdown",
      "metadata": {
        "id": "rex_JwA1u4wu"
      },
      "source": [
        "### Lower verbatim"
      ]
    },
    {
      "cell_type": "markdown",
      "metadata": {
        "id": "RDlT0RNlu4wu"
      },
      "source": [
        "Lower the content of the previously displayed mail"
      ]
    },
    {
      "cell_type": "code",
      "metadata": {
        "colab": {
          "base_uri": "https://localhost:8080/"
        },
        "id": "2Qye7vA8u4wu",
        "outputId": "8d945fbe-5720-4c45-9e57-d213a271abef"
      },
      "source": [
        "#TODO : lower case the email & print it\n",
        "lower_mail = single_email.lower()\n",
        "print(lower_mail)"
      ],
      "execution_count": null,
      "outputs": [
        {
          "output_type": "stream",
          "text": [
            "subject: ena sales on hpl just to update you on this project ' s status : based on a new report that scott mills ran for me from sitara , i have come up with the following counterparties as the ones to which ena is selling gas off of hpl ' s pipe . altrade transaction , l . l . c . gulf gas utilities company brazoria , city of panther pipeline , inc . central illinois light company praxair , inc . central power and light company reliant energy - entex ces - equistar chemicals , lp reliant energy - hl & p corpus christi gas marketing , lp southern union company d & h gas company , inc . texas utilities fuel company duke energy field services , inc . txu gas distribution entex gas marketing company union carbide corporation equistar chemicals , lp unit gas transmission company inc . since i ' m not sure exactly what gets entered into sitara , pat clynes suggested that i check with daren farmer to make sure that i ' m not missing something ( which i did below ) . while i am waiting for a response from him and / or mary smith , i will begin gathering the contractual volumes under the above contracts . - - - - - - - - - - - - - - - - - - - - - - forwarded by cheryl dudley / hou / ect on 05 / 10 / 2000 07 : 56 am - - - - - - - - - - - - - - - - - - - - - - - - - - - cheryl d king 05 / 08 / 2000 04 : 11 pm sent by : cheryl dudley to : daren j farmer / hou / ect @ ect , mary m smith / hou / ect @ ect cc : subject : ena sales on hpl i am working on a project for brenda herod & was wondering if one of you could tell me if i ' m on the right track & if this will get everything for which she is looking . she is trying to draft a long - term transport / storage agreement between ena & hplc which will allow ena to move the gas to their markets . in order to accomplish this , she needs to know all of the sales to customers that ena is doing off of hpl ' s pipe . i had scott mills run a report from sitara showing all ena buy / sell activity on hpl since 7 / 99 . if i eliminate the buys & the desk - to - desk deals , will this give me everything that i need ? are there buy / sell deals done with ena on hpl ' s pipe that wouldn ' t show up in sitara ? someone mentioned something about deals where hpl transports the gas on it ' s own behalf then ena sells it to a customer at that same spot - - ? ? ? ? ? do deals like that happen ? would they show up in sitara ? is there anything else that i ' m missing ? i ' m not real familiar with how some of these deals happen nowadays so am very receptive to any ideas / suggestions / help that you can offer ! ! ! thanks in advance .\n"
          ],
          "name": "stdout"
        }
      ]
    },
    {
      "cell_type": "markdown",
      "metadata": {
        "id": "Lf_2BNWzu4wu"
      },
      "source": [
        "### Tokenization"
      ]
    },
    {
      "cell_type": "markdown",
      "metadata": {
        "id": "T6mbksrDu4wv"
      },
      "source": [
        "Here we are using a word tokenizer to divide the sentence into tokens"
      ]
    },
    {
      "cell_type": "code",
      "metadata": {
        "colab": {
          "base_uri": "https://localhost:8080/"
        },
        "id": "YipGifXCu4wv",
        "scrolled": true,
        "outputId": "3978db99-e6d3-4f2f-9099-405373b30d45"
      },
      "source": [
        "#TODO : tokenize your email and print it\n",
        "tokenized_mail = word_tokenize(lower_mail)\n",
        "print(tokenized_mail[0:100])"
      ],
      "execution_count": null,
      "outputs": [
        {
          "output_type": "stream",
          "text": [
            "['subject', ':', 'ena', 'sales', 'on', 'hpl', 'just', 'to', 'update', 'you', 'on', 'this', 'project', \"'\", 's', 'status', ':', 'based', 'on', 'a', 'new', 'report', 'that', 'scott', 'mills', 'ran', 'for', 'me', 'from', 'sitara', ',', 'i', 'have', 'come', 'up', 'with', 'the', 'following', 'counterparties', 'as', 'the', 'ones', 'to', 'which', 'ena', 'is', 'selling', 'gas', 'off', 'of', 'hpl', \"'\", 's', 'pipe', '.', 'altrade', 'transaction', ',', 'l', '.', 'l', '.', 'c', '.', 'gulf', 'gas', 'utilities', 'company', 'brazoria', ',', 'city', 'of', 'panther', 'pipeline', ',', 'inc', '.', 'central', 'illinois', 'light', 'company', 'praxair', ',', 'inc', '.', 'central', 'power', 'and', 'light', 'company', 'reliant', 'energy', '-', 'entex', 'ces', '-', 'equistar', 'chemicals', ',', 'lp']\n"
          ],
          "name": "stdout"
        }
      ]
    },
    {
      "cell_type": "code",
      "metadata": {
        "colab": {
          "base_uri": "https://localhost:8080/"
        },
        "id": "eYWnd6xJu4wv",
        "outputId": "0f804684-1edf-4f96-f8fc-8009c982639b"
      },
      "source": [
        "#TODO : create bigrams of your email & print it\n",
        "bigrams = [bigram for bigram in ngrams(tokenized_mail,2)]\n",
        "bigrams"
      ],
      "execution_count": null,
      "outputs": [
        {
          "output_type": "execute_result",
          "data": {
            "text/plain": [
              "[('subject', ':'),\n",
              " (':', 'ena'),\n",
              " ('ena', 'sales'),\n",
              " ('sales', 'on'),\n",
              " ('on', 'hpl'),\n",
              " ('hpl', 'just'),\n",
              " ('just', 'to'),\n",
              " ('to', 'update'),\n",
              " ('update', 'you'),\n",
              " ('you', 'on'),\n",
              " ('on', 'this'),\n",
              " ('this', 'project'),\n",
              " ('project', \"'\"),\n",
              " (\"'\", 's'),\n",
              " ('s', 'status'),\n",
              " ('status', ':'),\n",
              " (':', 'based'),\n",
              " ('based', 'on'),\n",
              " ('on', 'a'),\n",
              " ('a', 'new'),\n",
              " ('new', 'report'),\n",
              " ('report', 'that'),\n",
              " ('that', 'scott'),\n",
              " ('scott', 'mills'),\n",
              " ('mills', 'ran'),\n",
              " ('ran', 'for'),\n",
              " ('for', 'me'),\n",
              " ('me', 'from'),\n",
              " ('from', 'sitara'),\n",
              " ('sitara', ','),\n",
              " (',', 'i'),\n",
              " ('i', 'have'),\n",
              " ('have', 'come'),\n",
              " ('come', 'up'),\n",
              " ('up', 'with'),\n",
              " ('with', 'the'),\n",
              " ('the', 'following'),\n",
              " ('following', 'counterparties'),\n",
              " ('counterparties', 'as'),\n",
              " ('as', 'the'),\n",
              " ('the', 'ones'),\n",
              " ('ones', 'to'),\n",
              " ('to', 'which'),\n",
              " ('which', 'ena'),\n",
              " ('ena', 'is'),\n",
              " ('is', 'selling'),\n",
              " ('selling', 'gas'),\n",
              " ('gas', 'off'),\n",
              " ('off', 'of'),\n",
              " ('of', 'hpl'),\n",
              " ('hpl', \"'\"),\n",
              " (\"'\", 's'),\n",
              " ('s', 'pipe'),\n",
              " ('pipe', '.'),\n",
              " ('.', 'altrade'),\n",
              " ('altrade', 'transaction'),\n",
              " ('transaction', ','),\n",
              " (',', 'l'),\n",
              " ('l', '.'),\n",
              " ('.', 'l'),\n",
              " ('l', '.'),\n",
              " ('.', 'c'),\n",
              " ('c', '.'),\n",
              " ('.', 'gulf'),\n",
              " ('gulf', 'gas'),\n",
              " ('gas', 'utilities'),\n",
              " ('utilities', 'company'),\n",
              " ('company', 'brazoria'),\n",
              " ('brazoria', ','),\n",
              " (',', 'city'),\n",
              " ('city', 'of'),\n",
              " ('of', 'panther'),\n",
              " ('panther', 'pipeline'),\n",
              " ('pipeline', ','),\n",
              " (',', 'inc'),\n",
              " ('inc', '.'),\n",
              " ('.', 'central'),\n",
              " ('central', 'illinois'),\n",
              " ('illinois', 'light'),\n",
              " ('light', 'company'),\n",
              " ('company', 'praxair'),\n",
              " ('praxair', ','),\n",
              " (',', 'inc'),\n",
              " ('inc', '.'),\n",
              " ('.', 'central'),\n",
              " ('central', 'power'),\n",
              " ('power', 'and'),\n",
              " ('and', 'light'),\n",
              " ('light', 'company'),\n",
              " ('company', 'reliant'),\n",
              " ('reliant', 'energy'),\n",
              " ('energy', '-'),\n",
              " ('-', 'entex'),\n",
              " ('entex', 'ces'),\n",
              " ('ces', '-'),\n",
              " ('-', 'equistar'),\n",
              " ('equistar', 'chemicals'),\n",
              " ('chemicals', ','),\n",
              " (',', 'lp'),\n",
              " ('lp', 'reliant'),\n",
              " ('reliant', 'energy'),\n",
              " ('energy', '-'),\n",
              " ('-', 'hl'),\n",
              " ('hl', '&'),\n",
              " ('&', 'p'),\n",
              " ('p', 'corpus'),\n",
              " ('corpus', 'christi'),\n",
              " ('christi', 'gas'),\n",
              " ('gas', 'marketing'),\n",
              " ('marketing', ','),\n",
              " (',', 'lp'),\n",
              " ('lp', 'southern'),\n",
              " ('southern', 'union'),\n",
              " ('union', 'company'),\n",
              " ('company', 'd'),\n",
              " ('d', '&'),\n",
              " ('&', 'h'),\n",
              " ('h', 'gas'),\n",
              " ('gas', 'company'),\n",
              " ('company', ','),\n",
              " (',', 'inc'),\n",
              " ('inc', '.'),\n",
              " ('.', 'texas'),\n",
              " ('texas', 'utilities'),\n",
              " ('utilities', 'fuel'),\n",
              " ('fuel', 'company'),\n",
              " ('company', 'duke'),\n",
              " ('duke', 'energy'),\n",
              " ('energy', 'field'),\n",
              " ('field', 'services'),\n",
              " ('services', ','),\n",
              " (',', 'inc'),\n",
              " ('inc', '.'),\n",
              " ('.', 'txu'),\n",
              " ('txu', 'gas'),\n",
              " ('gas', 'distribution'),\n",
              " ('distribution', 'entex'),\n",
              " ('entex', 'gas'),\n",
              " ('gas', 'marketing'),\n",
              " ('marketing', 'company'),\n",
              " ('company', 'union'),\n",
              " ('union', 'carbide'),\n",
              " ('carbide', 'corporation'),\n",
              " ('corporation', 'equistar'),\n",
              " ('equistar', 'chemicals'),\n",
              " ('chemicals', ','),\n",
              " (',', 'lp'),\n",
              " ('lp', 'unit'),\n",
              " ('unit', 'gas'),\n",
              " ('gas', 'transmission'),\n",
              " ('transmission', 'company'),\n",
              " ('company', 'inc'),\n",
              " ('inc', '.'),\n",
              " ('.', 'since'),\n",
              " ('since', 'i'),\n",
              " ('i', \"'\"),\n",
              " (\"'\", 'm'),\n",
              " ('m', 'not'),\n",
              " ('not', 'sure'),\n",
              " ('sure', 'exactly'),\n",
              " ('exactly', 'what'),\n",
              " ('what', 'gets'),\n",
              " ('gets', 'entered'),\n",
              " ('entered', 'into'),\n",
              " ('into', 'sitara'),\n",
              " ('sitara', ','),\n",
              " (',', 'pat'),\n",
              " ('pat', 'clynes'),\n",
              " ('clynes', 'suggested'),\n",
              " ('suggested', 'that'),\n",
              " ('that', 'i'),\n",
              " ('i', 'check'),\n",
              " ('check', 'with'),\n",
              " ('with', 'daren'),\n",
              " ('daren', 'farmer'),\n",
              " ('farmer', 'to'),\n",
              " ('to', 'make'),\n",
              " ('make', 'sure'),\n",
              " ('sure', 'that'),\n",
              " ('that', 'i'),\n",
              " ('i', \"'\"),\n",
              " (\"'\", 'm'),\n",
              " ('m', 'not'),\n",
              " ('not', 'missing'),\n",
              " ('missing', 'something'),\n",
              " ('something', '('),\n",
              " ('(', 'which'),\n",
              " ('which', 'i'),\n",
              " ('i', 'did'),\n",
              " ('did', 'below'),\n",
              " ('below', ')'),\n",
              " (')', '.'),\n",
              " ('.', 'while'),\n",
              " ('while', 'i'),\n",
              " ('i', 'am'),\n",
              " ('am', 'waiting'),\n",
              " ('waiting', 'for'),\n",
              " ('for', 'a'),\n",
              " ('a', 'response'),\n",
              " ('response', 'from'),\n",
              " ('from', 'him'),\n",
              " ('him', 'and'),\n",
              " ('and', '/'),\n",
              " ('/', 'or'),\n",
              " ('or', 'mary'),\n",
              " ('mary', 'smith'),\n",
              " ('smith', ','),\n",
              " (',', 'i'),\n",
              " ('i', 'will'),\n",
              " ('will', 'begin'),\n",
              " ('begin', 'gathering'),\n",
              " ('gathering', 'the'),\n",
              " ('the', 'contractual'),\n",
              " ('contractual', 'volumes'),\n",
              " ('volumes', 'under'),\n",
              " ('under', 'the'),\n",
              " ('the', 'above'),\n",
              " ('above', 'contracts'),\n",
              " ('contracts', '.'),\n",
              " ('.', '-'),\n",
              " ('-', '-'),\n",
              " ('-', '-'),\n",
              " ('-', '-'),\n",
              " ('-', '-'),\n",
              " ('-', '-'),\n",
              " ('-', '-'),\n",
              " ('-', '-'),\n",
              " ('-', '-'),\n",
              " ('-', '-'),\n",
              " ('-', '-'),\n",
              " ('-', '-'),\n",
              " ('-', '-'),\n",
              " ('-', '-'),\n",
              " ('-', '-'),\n",
              " ('-', '-'),\n",
              " ('-', '-'),\n",
              " ('-', '-'),\n",
              " ('-', '-'),\n",
              " ('-', '-'),\n",
              " ('-', '-'),\n",
              " ('-', '-'),\n",
              " ('-', 'forwarded'),\n",
              " ('forwarded', 'by'),\n",
              " ('by', 'cheryl'),\n",
              " ('cheryl', 'dudley'),\n",
              " ('dudley', '/'),\n",
              " ('/', 'hou'),\n",
              " ('hou', '/'),\n",
              " ('/', 'ect'),\n",
              " ('ect', 'on'),\n",
              " ('on', '05'),\n",
              " ('05', '/'),\n",
              " ('/', '10'),\n",
              " ('10', '/'),\n",
              " ('/', '2000'),\n",
              " ('2000', '07'),\n",
              " ('07', ':'),\n",
              " (':', '56'),\n",
              " ('56', 'am'),\n",
              " ('am', '-'),\n",
              " ('-', '-'),\n",
              " ('-', '-'),\n",
              " ('-', '-'),\n",
              " ('-', '-'),\n",
              " ('-', '-'),\n",
              " ('-', '-'),\n",
              " ('-', '-'),\n",
              " ('-', '-'),\n",
              " ('-', '-'),\n",
              " ('-', '-'),\n",
              " ('-', '-'),\n",
              " ('-', '-'),\n",
              " ('-', '-'),\n",
              " ('-', '-'),\n",
              " ('-', '-'),\n",
              " ('-', '-'),\n",
              " ('-', '-'),\n",
              " ('-', '-'),\n",
              " ('-', '-'),\n",
              " ('-', '-'),\n",
              " ('-', '-'),\n",
              " ('-', '-'),\n",
              " ('-', '-'),\n",
              " ('-', '-'),\n",
              " ('-', '-'),\n",
              " ('-', '-'),\n",
              " ('-', 'cheryl'),\n",
              " ('cheryl', 'd'),\n",
              " ('d', 'king'),\n",
              " ('king', '05'),\n",
              " ('05', '/'),\n",
              " ('/', '08'),\n",
              " ('08', '/'),\n",
              " ('/', '2000'),\n",
              " ('2000', '04'),\n",
              " ('04', ':'),\n",
              " (':', '11'),\n",
              " ('11', 'pm'),\n",
              " ('pm', 'sent'),\n",
              " ('sent', 'by'),\n",
              " ('by', ':'),\n",
              " (':', 'cheryl'),\n",
              " ('cheryl', 'dudley'),\n",
              " ('dudley', 'to'),\n",
              " ('to', ':'),\n",
              " (':', 'daren'),\n",
              " ('daren', 'j'),\n",
              " ('j', 'farmer'),\n",
              " ('farmer', '/'),\n",
              " ('/', 'hou'),\n",
              " ('hou', '/'),\n",
              " ('/', 'ect'),\n",
              " ('ect', '@'),\n",
              " ('@', 'ect'),\n",
              " ('ect', ','),\n",
              " (',', 'mary'),\n",
              " ('mary', 'm'),\n",
              " ('m', 'smith'),\n",
              " ('smith', '/'),\n",
              " ('/', 'hou'),\n",
              " ('hou', '/'),\n",
              " ('/', 'ect'),\n",
              " ('ect', '@'),\n",
              " ('@', 'ect'),\n",
              " ('ect', 'cc'),\n",
              " ('cc', ':'),\n",
              " (':', 'subject'),\n",
              " ('subject', ':'),\n",
              " (':', 'ena'),\n",
              " ('ena', 'sales'),\n",
              " ('sales', 'on'),\n",
              " ('on', 'hpl'),\n",
              " ('hpl', 'i'),\n",
              " ('i', 'am'),\n",
              " ('am', 'working'),\n",
              " ('working', 'on'),\n",
              " ('on', 'a'),\n",
              " ('a', 'project'),\n",
              " ('project', 'for'),\n",
              " ('for', 'brenda'),\n",
              " ('brenda', 'herod'),\n",
              " ('herod', '&'),\n",
              " ('&', 'was'),\n",
              " ('was', 'wondering'),\n",
              " ('wondering', 'if'),\n",
              " ('if', 'one'),\n",
              " ('one', 'of'),\n",
              " ('of', 'you'),\n",
              " ('you', 'could'),\n",
              " ('could', 'tell'),\n",
              " ('tell', 'me'),\n",
              " ('me', 'if'),\n",
              " ('if', 'i'),\n",
              " ('i', \"'\"),\n",
              " (\"'\", 'm'),\n",
              " ('m', 'on'),\n",
              " ('on', 'the'),\n",
              " ('the', 'right'),\n",
              " ('right', 'track'),\n",
              " ('track', '&'),\n",
              " ('&', 'if'),\n",
              " ('if', 'this'),\n",
              " ('this', 'will'),\n",
              " ('will', 'get'),\n",
              " ('get', 'everything'),\n",
              " ('everything', 'for'),\n",
              " ('for', 'which'),\n",
              " ('which', 'she'),\n",
              " ('she', 'is'),\n",
              " ('is', 'looking'),\n",
              " ('looking', '.'),\n",
              " ('.', 'she'),\n",
              " ('she', 'is'),\n",
              " ('is', 'trying'),\n",
              " ('trying', 'to'),\n",
              " ('to', 'draft'),\n",
              " ('draft', 'a'),\n",
              " ('a', 'long'),\n",
              " ('long', '-'),\n",
              " ('-', 'term'),\n",
              " ('term', 'transport'),\n",
              " ('transport', '/'),\n",
              " ('/', 'storage'),\n",
              " ('storage', 'agreement'),\n",
              " ('agreement', 'between'),\n",
              " ('between', 'ena'),\n",
              " ('ena', '&'),\n",
              " ('&', 'hplc'),\n",
              " ('hplc', 'which'),\n",
              " ('which', 'will'),\n",
              " ('will', 'allow'),\n",
              " ('allow', 'ena'),\n",
              " ('ena', 'to'),\n",
              " ('to', 'move'),\n",
              " ('move', 'the'),\n",
              " ('the', 'gas'),\n",
              " ('gas', 'to'),\n",
              " ('to', 'their'),\n",
              " ('their', 'markets'),\n",
              " ('markets', '.'),\n",
              " ('.', 'in'),\n",
              " ('in', 'order'),\n",
              " ('order', 'to'),\n",
              " ('to', 'accomplish'),\n",
              " ('accomplish', 'this'),\n",
              " ('this', ','),\n",
              " (',', 'she'),\n",
              " ('she', 'needs'),\n",
              " ('needs', 'to'),\n",
              " ('to', 'know'),\n",
              " ('know', 'all'),\n",
              " ('all', 'of'),\n",
              " ('of', 'the'),\n",
              " ('the', 'sales'),\n",
              " ('sales', 'to'),\n",
              " ('to', 'customers'),\n",
              " ('customers', 'that'),\n",
              " ('that', 'ena'),\n",
              " ('ena', 'is'),\n",
              " ('is', 'doing'),\n",
              " ('doing', 'off'),\n",
              " ('off', 'of'),\n",
              " ('of', 'hpl'),\n",
              " ('hpl', \"'\"),\n",
              " (\"'\", 's'),\n",
              " ('s', 'pipe'),\n",
              " ('pipe', '.'),\n",
              " ('.', 'i'),\n",
              " ('i', 'had'),\n",
              " ('had', 'scott'),\n",
              " ('scott', 'mills'),\n",
              " ('mills', 'run'),\n",
              " ('run', 'a'),\n",
              " ('a', 'report'),\n",
              " ('report', 'from'),\n",
              " ('from', 'sitara'),\n",
              " ('sitara', 'showing'),\n",
              " ('showing', 'all'),\n",
              " ('all', 'ena'),\n",
              " ('ena', 'buy'),\n",
              " ('buy', '/'),\n",
              " ('/', 'sell'),\n",
              " ('sell', 'activity'),\n",
              " ('activity', 'on'),\n",
              " ('on', 'hpl'),\n",
              " ('hpl', 'since'),\n",
              " ('since', '7'),\n",
              " ('7', '/'),\n",
              " ('/', '99'),\n",
              " ('99', '.'),\n",
              " ('.', 'if'),\n",
              " ('if', 'i'),\n",
              " ('i', 'eliminate'),\n",
              " ('eliminate', 'the'),\n",
              " ('the', 'buys'),\n",
              " ('buys', '&'),\n",
              " ('&', 'the'),\n",
              " ('the', 'desk'),\n",
              " ('desk', '-'),\n",
              " ('-', 'to'),\n",
              " ('to', '-'),\n",
              " ('-', 'desk'),\n",
              " ('desk', 'deals'),\n",
              " ('deals', ','),\n",
              " (',', 'will'),\n",
              " ('will', 'this'),\n",
              " ('this', 'give'),\n",
              " ('give', 'me'),\n",
              " ('me', 'everything'),\n",
              " ('everything', 'that'),\n",
              " ('that', 'i'),\n",
              " ('i', 'need'),\n",
              " ('need', '?'),\n",
              " ('?', 'are'),\n",
              " ('are', 'there'),\n",
              " ('there', 'buy'),\n",
              " ('buy', '/'),\n",
              " ('/', 'sell'),\n",
              " ('sell', 'deals'),\n",
              " ('deals', 'done'),\n",
              " ('done', 'with'),\n",
              " ('with', 'ena'),\n",
              " ('ena', 'on'),\n",
              " ('on', 'hpl'),\n",
              " ('hpl', \"'\"),\n",
              " (\"'\", 's'),\n",
              " ('s', 'pipe'),\n",
              " ('pipe', 'that'),\n",
              " ('that', 'wouldn'),\n",
              " ('wouldn', \"'\"),\n",
              " (\"'\", 't'),\n",
              " ('t', 'show'),\n",
              " ('show', 'up'),\n",
              " ('up', 'in'),\n",
              " ('in', 'sitara'),\n",
              " ('sitara', '?'),\n",
              " ('?', 'someone'),\n",
              " ('someone', 'mentioned'),\n",
              " ('mentioned', 'something'),\n",
              " ('something', 'about'),\n",
              " ('about', 'deals'),\n",
              " ('deals', 'where'),\n",
              " ('where', 'hpl'),\n",
              " ('hpl', 'transports'),\n",
              " ('transports', 'the'),\n",
              " ('the', 'gas'),\n",
              " ('gas', 'on'),\n",
              " ('on', 'it'),\n",
              " ('it', \"'\"),\n",
              " (\"'\", 's'),\n",
              " ('s', 'own'),\n",
              " ('own', 'behalf'),\n",
              " ('behalf', 'then'),\n",
              " ('then', 'ena'),\n",
              " ('ena', 'sells'),\n",
              " ('sells', 'it'),\n",
              " ('it', 'to'),\n",
              " ('to', 'a'),\n",
              " ('a', 'customer'),\n",
              " ('customer', 'at'),\n",
              " ('at', 'that'),\n",
              " ('that', 'same'),\n",
              " ('same', 'spot'),\n",
              " ('spot', '-'),\n",
              " ('-', '-'),\n",
              " ('-', '?'),\n",
              " ('?', '?'),\n",
              " ('?', '?'),\n",
              " ('?', '?'),\n",
              " ('?', '?'),\n",
              " ('?', 'do'),\n",
              " ('do', 'deals'),\n",
              " ('deals', 'like'),\n",
              " ('like', 'that'),\n",
              " ('that', 'happen'),\n",
              " ('happen', '?'),\n",
              " ('?', 'would'),\n",
              " ('would', 'they'),\n",
              " ('they', 'show'),\n",
              " ('show', 'up'),\n",
              " ('up', 'in'),\n",
              " ('in', 'sitara'),\n",
              " ('sitara', '?'),\n",
              " ('?', 'is'),\n",
              " ('is', 'there'),\n",
              " ('there', 'anything'),\n",
              " ('anything', 'else'),\n",
              " ('else', 'that'),\n",
              " ('that', 'i'),\n",
              " ('i', \"'\"),\n",
              " (\"'\", 'm'),\n",
              " ('m', 'missing'),\n",
              " ('missing', '?'),\n",
              " ('?', 'i'),\n",
              " ('i', \"'\"),\n",
              " (\"'\", 'm'),\n",
              " ('m', 'not'),\n",
              " ('not', 'real'),\n",
              " ('real', 'familiar'),\n",
              " ('familiar', 'with'),\n",
              " ('with', 'how'),\n",
              " ('how', 'some'),\n",
              " ('some', 'of'),\n",
              " ('of', 'these'),\n",
              " ('these', 'deals'),\n",
              " ('deals', 'happen'),\n",
              " ('happen', 'nowadays'),\n",
              " ('nowadays', 'so'),\n",
              " ('so', 'am'),\n",
              " ('am', 'very'),\n",
              " ('very', 'receptive'),\n",
              " ('receptive', 'to'),\n",
              " ('to', 'any'),\n",
              " ('any', 'ideas'),\n",
              " ('ideas', '/'),\n",
              " ('/', 'suggestions'),\n",
              " ('suggestions', '/'),\n",
              " ('/', 'help'),\n",
              " ('help', 'that'),\n",
              " ('that', 'you'),\n",
              " ('you', 'can'),\n",
              " ('can', 'offer'),\n",
              " ('offer', '!'),\n",
              " ('!', '!'),\n",
              " ('!', '!'),\n",
              " ('!', 'thanks'),\n",
              " ('thanks', 'in'),\n",
              " ('in', 'advance'),\n",
              " ('advance', '.')]"
            ]
          },
          "metadata": {
            "tags": []
          },
          "execution_count": 12
        }
      ]
    },
    {
      "cell_type": "code",
      "metadata": {
        "colab": {
          "base_uri": "https://localhost:8080/"
        },
        "id": "RWMvVkyNu4wv",
        "outputId": "527f24ec-81ea-4d6e-afad-85ad2d1afc89"
      },
      "source": [
        "#TODO : create trigrams of your email & print it\n",
        "trigrams = [bigram for bigram in ngrams(tokenized_mail,3)]\n",
        "bigrams"
      ],
      "execution_count": null,
      "outputs": [
        {
          "output_type": "execute_result",
          "data": {
            "text/plain": [
              "[('subject', ':'),\n",
              " (':', 'ena'),\n",
              " ('ena', 'sales'),\n",
              " ('sales', 'on'),\n",
              " ('on', 'hpl'),\n",
              " ('hpl', 'just'),\n",
              " ('just', 'to'),\n",
              " ('to', 'update'),\n",
              " ('update', 'you'),\n",
              " ('you', 'on'),\n",
              " ('on', 'this'),\n",
              " ('this', 'project'),\n",
              " ('project', \"'\"),\n",
              " (\"'\", 's'),\n",
              " ('s', 'status'),\n",
              " ('status', ':'),\n",
              " (':', 'based'),\n",
              " ('based', 'on'),\n",
              " ('on', 'a'),\n",
              " ('a', 'new'),\n",
              " ('new', 'report'),\n",
              " ('report', 'that'),\n",
              " ('that', 'scott'),\n",
              " ('scott', 'mills'),\n",
              " ('mills', 'ran'),\n",
              " ('ran', 'for'),\n",
              " ('for', 'me'),\n",
              " ('me', 'from'),\n",
              " ('from', 'sitara'),\n",
              " ('sitara', ','),\n",
              " (',', 'i'),\n",
              " ('i', 'have'),\n",
              " ('have', 'come'),\n",
              " ('come', 'up'),\n",
              " ('up', 'with'),\n",
              " ('with', 'the'),\n",
              " ('the', 'following'),\n",
              " ('following', 'counterparties'),\n",
              " ('counterparties', 'as'),\n",
              " ('as', 'the'),\n",
              " ('the', 'ones'),\n",
              " ('ones', 'to'),\n",
              " ('to', 'which'),\n",
              " ('which', 'ena'),\n",
              " ('ena', 'is'),\n",
              " ('is', 'selling'),\n",
              " ('selling', 'gas'),\n",
              " ('gas', 'off'),\n",
              " ('off', 'of'),\n",
              " ('of', 'hpl'),\n",
              " ('hpl', \"'\"),\n",
              " (\"'\", 's'),\n",
              " ('s', 'pipe'),\n",
              " ('pipe', '.'),\n",
              " ('.', 'altrade'),\n",
              " ('altrade', 'transaction'),\n",
              " ('transaction', ','),\n",
              " (',', 'l'),\n",
              " ('l', '.'),\n",
              " ('.', 'l'),\n",
              " ('l', '.'),\n",
              " ('.', 'c'),\n",
              " ('c', '.'),\n",
              " ('.', 'gulf'),\n",
              " ('gulf', 'gas'),\n",
              " ('gas', 'utilities'),\n",
              " ('utilities', 'company'),\n",
              " ('company', 'brazoria'),\n",
              " ('brazoria', ','),\n",
              " (',', 'city'),\n",
              " ('city', 'of'),\n",
              " ('of', 'panther'),\n",
              " ('panther', 'pipeline'),\n",
              " ('pipeline', ','),\n",
              " (',', 'inc'),\n",
              " ('inc', '.'),\n",
              " ('.', 'central'),\n",
              " ('central', 'illinois'),\n",
              " ('illinois', 'light'),\n",
              " ('light', 'company'),\n",
              " ('company', 'praxair'),\n",
              " ('praxair', ','),\n",
              " (',', 'inc'),\n",
              " ('inc', '.'),\n",
              " ('.', 'central'),\n",
              " ('central', 'power'),\n",
              " ('power', 'and'),\n",
              " ('and', 'light'),\n",
              " ('light', 'company'),\n",
              " ('company', 'reliant'),\n",
              " ('reliant', 'energy'),\n",
              " ('energy', '-'),\n",
              " ('-', 'entex'),\n",
              " ('entex', 'ces'),\n",
              " ('ces', '-'),\n",
              " ('-', 'equistar'),\n",
              " ('equistar', 'chemicals'),\n",
              " ('chemicals', ','),\n",
              " (',', 'lp'),\n",
              " ('lp', 'reliant'),\n",
              " ('reliant', 'energy'),\n",
              " ('energy', '-'),\n",
              " ('-', 'hl'),\n",
              " ('hl', '&'),\n",
              " ('&', 'p'),\n",
              " ('p', 'corpus'),\n",
              " ('corpus', 'christi'),\n",
              " ('christi', 'gas'),\n",
              " ('gas', 'marketing'),\n",
              " ('marketing', ','),\n",
              " (',', 'lp'),\n",
              " ('lp', 'southern'),\n",
              " ('southern', 'union'),\n",
              " ('union', 'company'),\n",
              " ('company', 'd'),\n",
              " ('d', '&'),\n",
              " ('&', 'h'),\n",
              " ('h', 'gas'),\n",
              " ('gas', 'company'),\n",
              " ('company', ','),\n",
              " (',', 'inc'),\n",
              " ('inc', '.'),\n",
              " ('.', 'texas'),\n",
              " ('texas', 'utilities'),\n",
              " ('utilities', 'fuel'),\n",
              " ('fuel', 'company'),\n",
              " ('company', 'duke'),\n",
              " ('duke', 'energy'),\n",
              " ('energy', 'field'),\n",
              " ('field', 'services'),\n",
              " ('services', ','),\n",
              " (',', 'inc'),\n",
              " ('inc', '.'),\n",
              " ('.', 'txu'),\n",
              " ('txu', 'gas'),\n",
              " ('gas', 'distribution'),\n",
              " ('distribution', 'entex'),\n",
              " ('entex', 'gas'),\n",
              " ('gas', 'marketing'),\n",
              " ('marketing', 'company'),\n",
              " ('company', 'union'),\n",
              " ('union', 'carbide'),\n",
              " ('carbide', 'corporation'),\n",
              " ('corporation', 'equistar'),\n",
              " ('equistar', 'chemicals'),\n",
              " ('chemicals', ','),\n",
              " (',', 'lp'),\n",
              " ('lp', 'unit'),\n",
              " ('unit', 'gas'),\n",
              " ('gas', 'transmission'),\n",
              " ('transmission', 'company'),\n",
              " ('company', 'inc'),\n",
              " ('inc', '.'),\n",
              " ('.', 'since'),\n",
              " ('since', 'i'),\n",
              " ('i', \"'\"),\n",
              " (\"'\", 'm'),\n",
              " ('m', 'not'),\n",
              " ('not', 'sure'),\n",
              " ('sure', 'exactly'),\n",
              " ('exactly', 'what'),\n",
              " ('what', 'gets'),\n",
              " ('gets', 'entered'),\n",
              " ('entered', 'into'),\n",
              " ('into', 'sitara'),\n",
              " ('sitara', ','),\n",
              " (',', 'pat'),\n",
              " ('pat', 'clynes'),\n",
              " ('clynes', 'suggested'),\n",
              " ('suggested', 'that'),\n",
              " ('that', 'i'),\n",
              " ('i', 'check'),\n",
              " ('check', 'with'),\n",
              " ('with', 'daren'),\n",
              " ('daren', 'farmer'),\n",
              " ('farmer', 'to'),\n",
              " ('to', 'make'),\n",
              " ('make', 'sure'),\n",
              " ('sure', 'that'),\n",
              " ('that', 'i'),\n",
              " ('i', \"'\"),\n",
              " (\"'\", 'm'),\n",
              " ('m', 'not'),\n",
              " ('not', 'missing'),\n",
              " ('missing', 'something'),\n",
              " ('something', '('),\n",
              " ('(', 'which'),\n",
              " ('which', 'i'),\n",
              " ('i', 'did'),\n",
              " ('did', 'below'),\n",
              " ('below', ')'),\n",
              " (')', '.'),\n",
              " ('.', 'while'),\n",
              " ('while', 'i'),\n",
              " ('i', 'am'),\n",
              " ('am', 'waiting'),\n",
              " ('waiting', 'for'),\n",
              " ('for', 'a'),\n",
              " ('a', 'response'),\n",
              " ('response', 'from'),\n",
              " ('from', 'him'),\n",
              " ('him', 'and'),\n",
              " ('and', '/'),\n",
              " ('/', 'or'),\n",
              " ('or', 'mary'),\n",
              " ('mary', 'smith'),\n",
              " ('smith', ','),\n",
              " (',', 'i'),\n",
              " ('i', 'will'),\n",
              " ('will', 'begin'),\n",
              " ('begin', 'gathering'),\n",
              " ('gathering', 'the'),\n",
              " ('the', 'contractual'),\n",
              " ('contractual', 'volumes'),\n",
              " ('volumes', 'under'),\n",
              " ('under', 'the'),\n",
              " ('the', 'above'),\n",
              " ('above', 'contracts'),\n",
              " ('contracts', '.'),\n",
              " ('.', '-'),\n",
              " ('-', '-'),\n",
              " ('-', '-'),\n",
              " ('-', '-'),\n",
              " ('-', '-'),\n",
              " ('-', '-'),\n",
              " ('-', '-'),\n",
              " ('-', '-'),\n",
              " ('-', '-'),\n",
              " ('-', '-'),\n",
              " ('-', '-'),\n",
              " ('-', '-'),\n",
              " ('-', '-'),\n",
              " ('-', '-'),\n",
              " ('-', '-'),\n",
              " ('-', '-'),\n",
              " ('-', '-'),\n",
              " ('-', '-'),\n",
              " ('-', '-'),\n",
              " ('-', '-'),\n",
              " ('-', '-'),\n",
              " ('-', '-'),\n",
              " ('-', 'forwarded'),\n",
              " ('forwarded', 'by'),\n",
              " ('by', 'cheryl'),\n",
              " ('cheryl', 'dudley'),\n",
              " ('dudley', '/'),\n",
              " ('/', 'hou'),\n",
              " ('hou', '/'),\n",
              " ('/', 'ect'),\n",
              " ('ect', 'on'),\n",
              " ('on', '05'),\n",
              " ('05', '/'),\n",
              " ('/', '10'),\n",
              " ('10', '/'),\n",
              " ('/', '2000'),\n",
              " ('2000', '07'),\n",
              " ('07', ':'),\n",
              " (':', '56'),\n",
              " ('56', 'am'),\n",
              " ('am', '-'),\n",
              " ('-', '-'),\n",
              " ('-', '-'),\n",
              " ('-', '-'),\n",
              " ('-', '-'),\n",
              " ('-', '-'),\n",
              " ('-', '-'),\n",
              " ('-', '-'),\n",
              " ('-', '-'),\n",
              " ('-', '-'),\n",
              " ('-', '-'),\n",
              " ('-', '-'),\n",
              " ('-', '-'),\n",
              " ('-', '-'),\n",
              " ('-', '-'),\n",
              " ('-', '-'),\n",
              " ('-', '-'),\n",
              " ('-', '-'),\n",
              " ('-', '-'),\n",
              " ('-', '-'),\n",
              " ('-', '-'),\n",
              " ('-', '-'),\n",
              " ('-', '-'),\n",
              " ('-', '-'),\n",
              " ('-', '-'),\n",
              " ('-', '-'),\n",
              " ('-', '-'),\n",
              " ('-', 'cheryl'),\n",
              " ('cheryl', 'd'),\n",
              " ('d', 'king'),\n",
              " ('king', '05'),\n",
              " ('05', '/'),\n",
              " ('/', '08'),\n",
              " ('08', '/'),\n",
              " ('/', '2000'),\n",
              " ('2000', '04'),\n",
              " ('04', ':'),\n",
              " (':', '11'),\n",
              " ('11', 'pm'),\n",
              " ('pm', 'sent'),\n",
              " ('sent', 'by'),\n",
              " ('by', ':'),\n",
              " (':', 'cheryl'),\n",
              " ('cheryl', 'dudley'),\n",
              " ('dudley', 'to'),\n",
              " ('to', ':'),\n",
              " (':', 'daren'),\n",
              " ('daren', 'j'),\n",
              " ('j', 'farmer'),\n",
              " ('farmer', '/'),\n",
              " ('/', 'hou'),\n",
              " ('hou', '/'),\n",
              " ('/', 'ect'),\n",
              " ('ect', '@'),\n",
              " ('@', 'ect'),\n",
              " ('ect', ','),\n",
              " (',', 'mary'),\n",
              " ('mary', 'm'),\n",
              " ('m', 'smith'),\n",
              " ('smith', '/'),\n",
              " ('/', 'hou'),\n",
              " ('hou', '/'),\n",
              " ('/', 'ect'),\n",
              " ('ect', '@'),\n",
              " ('@', 'ect'),\n",
              " ('ect', 'cc'),\n",
              " ('cc', ':'),\n",
              " (':', 'subject'),\n",
              " ('subject', ':'),\n",
              " (':', 'ena'),\n",
              " ('ena', 'sales'),\n",
              " ('sales', 'on'),\n",
              " ('on', 'hpl'),\n",
              " ('hpl', 'i'),\n",
              " ('i', 'am'),\n",
              " ('am', 'working'),\n",
              " ('working', 'on'),\n",
              " ('on', 'a'),\n",
              " ('a', 'project'),\n",
              " ('project', 'for'),\n",
              " ('for', 'brenda'),\n",
              " ('brenda', 'herod'),\n",
              " ('herod', '&'),\n",
              " ('&', 'was'),\n",
              " ('was', 'wondering'),\n",
              " ('wondering', 'if'),\n",
              " ('if', 'one'),\n",
              " ('one', 'of'),\n",
              " ('of', 'you'),\n",
              " ('you', 'could'),\n",
              " ('could', 'tell'),\n",
              " ('tell', 'me'),\n",
              " ('me', 'if'),\n",
              " ('if', 'i'),\n",
              " ('i', \"'\"),\n",
              " (\"'\", 'm'),\n",
              " ('m', 'on'),\n",
              " ('on', 'the'),\n",
              " ('the', 'right'),\n",
              " ('right', 'track'),\n",
              " ('track', '&'),\n",
              " ('&', 'if'),\n",
              " ('if', 'this'),\n",
              " ('this', 'will'),\n",
              " ('will', 'get'),\n",
              " ('get', 'everything'),\n",
              " ('everything', 'for'),\n",
              " ('for', 'which'),\n",
              " ('which', 'she'),\n",
              " ('she', 'is'),\n",
              " ('is', 'looking'),\n",
              " ('looking', '.'),\n",
              " ('.', 'she'),\n",
              " ('she', 'is'),\n",
              " ('is', 'trying'),\n",
              " ('trying', 'to'),\n",
              " ('to', 'draft'),\n",
              " ('draft', 'a'),\n",
              " ('a', 'long'),\n",
              " ('long', '-'),\n",
              " ('-', 'term'),\n",
              " ('term', 'transport'),\n",
              " ('transport', '/'),\n",
              " ('/', 'storage'),\n",
              " ('storage', 'agreement'),\n",
              " ('agreement', 'between'),\n",
              " ('between', 'ena'),\n",
              " ('ena', '&'),\n",
              " ('&', 'hplc'),\n",
              " ('hplc', 'which'),\n",
              " ('which', 'will'),\n",
              " ('will', 'allow'),\n",
              " ('allow', 'ena'),\n",
              " ('ena', 'to'),\n",
              " ('to', 'move'),\n",
              " ('move', 'the'),\n",
              " ('the', 'gas'),\n",
              " ('gas', 'to'),\n",
              " ('to', 'their'),\n",
              " ('their', 'markets'),\n",
              " ('markets', '.'),\n",
              " ('.', 'in'),\n",
              " ('in', 'order'),\n",
              " ('order', 'to'),\n",
              " ('to', 'accomplish'),\n",
              " ('accomplish', 'this'),\n",
              " ('this', ','),\n",
              " (',', 'she'),\n",
              " ('she', 'needs'),\n",
              " ('needs', 'to'),\n",
              " ('to', 'know'),\n",
              " ('know', 'all'),\n",
              " ('all', 'of'),\n",
              " ('of', 'the'),\n",
              " ('the', 'sales'),\n",
              " ('sales', 'to'),\n",
              " ('to', 'customers'),\n",
              " ('customers', 'that'),\n",
              " ('that', 'ena'),\n",
              " ('ena', 'is'),\n",
              " ('is', 'doing'),\n",
              " ('doing', 'off'),\n",
              " ('off', 'of'),\n",
              " ('of', 'hpl'),\n",
              " ('hpl', \"'\"),\n",
              " (\"'\", 's'),\n",
              " ('s', 'pipe'),\n",
              " ('pipe', '.'),\n",
              " ('.', 'i'),\n",
              " ('i', 'had'),\n",
              " ('had', 'scott'),\n",
              " ('scott', 'mills'),\n",
              " ('mills', 'run'),\n",
              " ('run', 'a'),\n",
              " ('a', 'report'),\n",
              " ('report', 'from'),\n",
              " ('from', 'sitara'),\n",
              " ('sitara', 'showing'),\n",
              " ('showing', 'all'),\n",
              " ('all', 'ena'),\n",
              " ('ena', 'buy'),\n",
              " ('buy', '/'),\n",
              " ('/', 'sell'),\n",
              " ('sell', 'activity'),\n",
              " ('activity', 'on'),\n",
              " ('on', 'hpl'),\n",
              " ('hpl', 'since'),\n",
              " ('since', '7'),\n",
              " ('7', '/'),\n",
              " ('/', '99'),\n",
              " ('99', '.'),\n",
              " ('.', 'if'),\n",
              " ('if', 'i'),\n",
              " ('i', 'eliminate'),\n",
              " ('eliminate', 'the'),\n",
              " ('the', 'buys'),\n",
              " ('buys', '&'),\n",
              " ('&', 'the'),\n",
              " ('the', 'desk'),\n",
              " ('desk', '-'),\n",
              " ('-', 'to'),\n",
              " ('to', '-'),\n",
              " ('-', 'desk'),\n",
              " ('desk', 'deals'),\n",
              " ('deals', ','),\n",
              " (',', 'will'),\n",
              " ('will', 'this'),\n",
              " ('this', 'give'),\n",
              " ('give', 'me'),\n",
              " ('me', 'everything'),\n",
              " ('everything', 'that'),\n",
              " ('that', 'i'),\n",
              " ('i', 'need'),\n",
              " ('need', '?'),\n",
              " ('?', 'are'),\n",
              " ('are', 'there'),\n",
              " ('there', 'buy'),\n",
              " ('buy', '/'),\n",
              " ('/', 'sell'),\n",
              " ('sell', 'deals'),\n",
              " ('deals', 'done'),\n",
              " ('done', 'with'),\n",
              " ('with', 'ena'),\n",
              " ('ena', 'on'),\n",
              " ('on', 'hpl'),\n",
              " ('hpl', \"'\"),\n",
              " (\"'\", 's'),\n",
              " ('s', 'pipe'),\n",
              " ('pipe', 'that'),\n",
              " ('that', 'wouldn'),\n",
              " ('wouldn', \"'\"),\n",
              " (\"'\", 't'),\n",
              " ('t', 'show'),\n",
              " ('show', 'up'),\n",
              " ('up', 'in'),\n",
              " ('in', 'sitara'),\n",
              " ('sitara', '?'),\n",
              " ('?', 'someone'),\n",
              " ('someone', 'mentioned'),\n",
              " ('mentioned', 'something'),\n",
              " ('something', 'about'),\n",
              " ('about', 'deals'),\n",
              " ('deals', 'where'),\n",
              " ('where', 'hpl'),\n",
              " ('hpl', 'transports'),\n",
              " ('transports', 'the'),\n",
              " ('the', 'gas'),\n",
              " ('gas', 'on'),\n",
              " ('on', 'it'),\n",
              " ('it', \"'\"),\n",
              " (\"'\", 's'),\n",
              " ('s', 'own'),\n",
              " ('own', 'behalf'),\n",
              " ('behalf', 'then'),\n",
              " ('then', 'ena'),\n",
              " ('ena', 'sells'),\n",
              " ('sells', 'it'),\n",
              " ('it', 'to'),\n",
              " ('to', 'a'),\n",
              " ('a', 'customer'),\n",
              " ('customer', 'at'),\n",
              " ('at', 'that'),\n",
              " ('that', 'same'),\n",
              " ('same', 'spot'),\n",
              " ('spot', '-'),\n",
              " ('-', '-'),\n",
              " ('-', '?'),\n",
              " ('?', '?'),\n",
              " ('?', '?'),\n",
              " ('?', '?'),\n",
              " ('?', '?'),\n",
              " ('?', 'do'),\n",
              " ('do', 'deals'),\n",
              " ('deals', 'like'),\n",
              " ('like', 'that'),\n",
              " ('that', 'happen'),\n",
              " ('happen', '?'),\n",
              " ('?', 'would'),\n",
              " ('would', 'they'),\n",
              " ('they', 'show'),\n",
              " ('show', 'up'),\n",
              " ('up', 'in'),\n",
              " ('in', 'sitara'),\n",
              " ('sitara', '?'),\n",
              " ('?', 'is'),\n",
              " ('is', 'there'),\n",
              " ('there', 'anything'),\n",
              " ('anything', 'else'),\n",
              " ('else', 'that'),\n",
              " ('that', 'i'),\n",
              " ('i', \"'\"),\n",
              " (\"'\", 'm'),\n",
              " ('m', 'missing'),\n",
              " ('missing', '?'),\n",
              " ('?', 'i'),\n",
              " ('i', \"'\"),\n",
              " (\"'\", 'm'),\n",
              " ('m', 'not'),\n",
              " ('not', 'real'),\n",
              " ('real', 'familiar'),\n",
              " ('familiar', 'with'),\n",
              " ('with', 'how'),\n",
              " ('how', 'some'),\n",
              " ('some', 'of'),\n",
              " ('of', 'these'),\n",
              " ('these', 'deals'),\n",
              " ('deals', 'happen'),\n",
              " ('happen', 'nowadays'),\n",
              " ('nowadays', 'so'),\n",
              " ('so', 'am'),\n",
              " ('am', 'very'),\n",
              " ('very', 'receptive'),\n",
              " ('receptive', 'to'),\n",
              " ('to', 'any'),\n",
              " ('any', 'ideas'),\n",
              " ('ideas', '/'),\n",
              " ('/', 'suggestions'),\n",
              " ('suggestions', '/'),\n",
              " ('/', 'help'),\n",
              " ('help', 'that'),\n",
              " ('that', 'you'),\n",
              " ('you', 'can'),\n",
              " ('can', 'offer'),\n",
              " ('offer', '!'),\n",
              " ('!', '!'),\n",
              " ('!', '!'),\n",
              " ('!', 'thanks'),\n",
              " ('thanks', 'in'),\n",
              " ('in', 'advance'),\n",
              " ('advance', '.')]"
            ]
          },
          "metadata": {
            "tags": []
          },
          "execution_count": 13
        }
      ]
    },
    {
      "cell_type": "markdown",
      "metadata": {
        "id": "-9cfI8a-u4wv"
      },
      "source": [
        "### Lemmatize "
      ]
    },
    {
      "cell_type": "markdown",
      "metadata": {
        "id": "HApbCoxfu4wv"
      },
      "source": [
        "We want to lemmatize the verbatims"
      ]
    },
    {
      "cell_type": "code",
      "metadata": {
        "collapsed": true,
        "id": "JJvaPPFXu4wv"
      },
      "source": [
        "#TODO get lemmatizer\n",
        "lemmatizer = WordNetLemmatizer()"
      ],
      "execution_count": null,
      "outputs": []
    },
    {
      "cell_type": "code",
      "metadata": {
        "colab": {
          "base_uri": "https://localhost:8080/"
        },
        "id": "EJagBrGxu4ww",
        "scrolled": false,
        "outputId": "3b4ae000-5f84-49e8-d5da-8e34503ee3bd"
      },
      "source": [
        "#TODO print lemmatisation of \"found\" without POS\n",
        "print('Lemmatisation without POS : found -> ' + lemmatizer.lemmatize('found'))\n",
        "#TODO print lemmatisation of \"found\" with POS\n",
        "print('Lemmatisation with POS : found -> ' + lemmatizer.lemmatize('found',wordnet.VERB))"
      ],
      "execution_count": null,
      "outputs": [
        {
          "output_type": "stream",
          "text": [
            "Lemmatisation without POS : found -> found\n",
            "Lemmatisation with POS : found -> find\n"
          ],
          "name": "stdout"
        }
      ]
    },
    {
      "cell_type": "markdown",
      "metadata": {
        "id": "ssEylFmcu4ww"
      },
      "source": [
        "One little subtelty : Lemmatizing efficiently requires to pos_tag the words to know their grammatical nature"
      ]
    },
    {
      "cell_type": "markdown",
      "metadata": {
        "id": "tKU4eAz2u4ww"
      },
      "source": [
        "### Let's pos_tag the tokens"
      ]
    },
    {
      "cell_type": "code",
      "metadata": {
        "colab": {
          "base_uri": "https://localhost:8080/"
        },
        "id": "8jX64NQku4ww",
        "scrolled": true,
        "outputId": "e6acd6bd-6e44-4412-aee2-9cafb001bc0c"
      },
      "source": [
        "#TODO pos_tag your tokenized email & print it\n",
        "pos_tagged_mail = nltk.pos_tag(tokenized_mail)\n",
        "pos_tagged_mail"
      ],
      "execution_count": null,
      "outputs": [
        {
          "output_type": "execute_result",
          "data": {
            "text/plain": [
              "[('subject', 'NN'),\n",
              " (':', ':'),\n",
              " ('ena', 'NN'),\n",
              " ('sales', 'NNS'),\n",
              " ('on', 'IN'),\n",
              " ('hpl', 'NN'),\n",
              " ('just', 'RB'),\n",
              " ('to', 'TO'),\n",
              " ('update', 'VB'),\n",
              " ('you', 'PRP'),\n",
              " ('on', 'IN'),\n",
              " ('this', 'DT'),\n",
              " ('project', 'NN'),\n",
              " (\"'\", \"''\"),\n",
              " ('s', 'JJ'),\n",
              " ('status', 'NN'),\n",
              " (':', ':'),\n",
              " ('based', 'VBN'),\n",
              " ('on', 'IN'),\n",
              " ('a', 'DT'),\n",
              " ('new', 'JJ'),\n",
              " ('report', 'NN'),\n",
              " ('that', 'IN'),\n",
              " ('scott', 'VBZ'),\n",
              " ('mills', 'NNS'),\n",
              " ('ran', 'NN'),\n",
              " ('for', 'IN'),\n",
              " ('me', 'PRP'),\n",
              " ('from', 'IN'),\n",
              " ('sitara', 'NN'),\n",
              " (',', ','),\n",
              " ('i', 'NN'),\n",
              " ('have', 'VBP'),\n",
              " ('come', 'VBN'),\n",
              " ('up', 'RP'),\n",
              " ('with', 'IN'),\n",
              " ('the', 'DT'),\n",
              " ('following', 'VBG'),\n",
              " ('counterparties', 'NNS'),\n",
              " ('as', 'IN'),\n",
              " ('the', 'DT'),\n",
              " ('ones', 'NNS'),\n",
              " ('to', 'TO'),\n",
              " ('which', 'WDT'),\n",
              " ('ena', 'FW'),\n",
              " ('is', 'VBZ'),\n",
              " ('selling', 'VBG'),\n",
              " ('gas', 'NN'),\n",
              " ('off', 'IN'),\n",
              " ('of', 'IN'),\n",
              " ('hpl', 'NN'),\n",
              " (\"'\", \"''\"),\n",
              " ('s', 'JJ'),\n",
              " ('pipe', 'NN'),\n",
              " ('.', '.'),\n",
              " ('altrade', 'JJ'),\n",
              " ('transaction', 'NN'),\n",
              " (',', ','),\n",
              " ('l', 'NN'),\n",
              " ('.', '.'),\n",
              " ('l', 'NN'),\n",
              " ('.', '.'),\n",
              " ('c', 'NN'),\n",
              " ('.', '.'),\n",
              " ('gulf', 'NN'),\n",
              " ('gas', 'NN'),\n",
              " ('utilities', 'NNS'),\n",
              " ('company', 'NN'),\n",
              " ('brazoria', 'NN'),\n",
              " (',', ','),\n",
              " ('city', 'NN'),\n",
              " ('of', 'IN'),\n",
              " ('panther', 'JJ'),\n",
              " ('pipeline', 'NN'),\n",
              " (',', ','),\n",
              " ('inc', 'NN'),\n",
              " ('.', '.'),\n",
              " ('central', 'JJ'),\n",
              " ('illinois', 'NN'),\n",
              " ('light', 'VBD'),\n",
              " ('company', 'NN'),\n",
              " ('praxair', 'NN'),\n",
              " (',', ','),\n",
              " ('inc', 'NN'),\n",
              " ('.', '.'),\n",
              " ('central', 'JJ'),\n",
              " ('power', 'NN'),\n",
              " ('and', 'CC'),\n",
              " ('light', 'JJ'),\n",
              " ('company', 'NN'),\n",
              " ('reliant', 'VB'),\n",
              " ('energy', 'NN'),\n",
              " ('-', ':'),\n",
              " ('entex', 'NN'),\n",
              " ('ces', 'NNS'),\n",
              " ('-', ':'),\n",
              " ('equistar', 'NN'),\n",
              " ('chemicals', 'NNS'),\n",
              " (',', ','),\n",
              " ('lp', 'NN'),\n",
              " ('reliant', 'NN'),\n",
              " ('energy', 'NN'),\n",
              " ('-', ':'),\n",
              " ('hl', 'NN'),\n",
              " ('&', 'CC'),\n",
              " ('p', 'NN'),\n",
              " ('corpus', 'NN'),\n",
              " ('christi', 'NN'),\n",
              " ('gas', 'NN'),\n",
              " ('marketing', 'NN'),\n",
              " (',', ','),\n",
              " ('lp', 'NN'),\n",
              " ('southern', 'JJ'),\n",
              " ('union', 'NN'),\n",
              " ('company', 'NN'),\n",
              " ('d', 'NN'),\n",
              " ('&', 'CC'),\n",
              " ('h', 'NN'),\n",
              " ('gas', 'NN'),\n",
              " ('company', 'NN'),\n",
              " (',', ','),\n",
              " ('inc', 'NN'),\n",
              " ('.', '.'),\n",
              " ('texas', 'JJ'),\n",
              " ('utilities', 'NNS'),\n",
              " ('fuel', 'VBP'),\n",
              " ('company', 'NN'),\n",
              " ('duke', 'VB'),\n",
              " ('energy', 'NN'),\n",
              " ('field', 'NN'),\n",
              " ('services', 'NNS'),\n",
              " (',', ','),\n",
              " ('inc', 'NN'),\n",
              " ('.', '.'),\n",
              " ('txu', 'NN'),\n",
              " ('gas', 'NN'),\n",
              " ('distribution', 'NN'),\n",
              " ('entex', 'NN'),\n",
              " ('gas', 'NN'),\n",
              " ('marketing', 'NN'),\n",
              " ('company', 'NN'),\n",
              " ('union', 'NN'),\n",
              " ('carbide', 'NN'),\n",
              " ('corporation', 'NN'),\n",
              " ('equistar', 'NN'),\n",
              " ('chemicals', 'NNS'),\n",
              " (',', ','),\n",
              " ('lp', 'JJ'),\n",
              " ('unit', 'NN'),\n",
              " ('gas', 'NN'),\n",
              " ('transmission', 'NN'),\n",
              " ('company', 'NN'),\n",
              " ('inc', 'NN'),\n",
              " ('.', '.'),\n",
              " ('since', 'IN'),\n",
              " ('i', 'NN'),\n",
              " (\"'\", \"''\"),\n",
              " ('m', 'NNS'),\n",
              " ('not', 'RB'),\n",
              " ('sure', 'JJ'),\n",
              " ('exactly', 'RB'),\n",
              " ('what', 'WP'),\n",
              " ('gets', 'VBZ'),\n",
              " ('entered', 'VBN'),\n",
              " ('into', 'IN'),\n",
              " ('sitara', 'NN'),\n",
              " (',', ','),\n",
              " ('pat', 'NN'),\n",
              " ('clynes', 'NNS'),\n",
              " ('suggested', 'VBD'),\n",
              " ('that', 'IN'),\n",
              " ('i', 'JJ'),\n",
              " ('check', 'VBP'),\n",
              " ('with', 'IN'),\n",
              " ('daren', 'NNS'),\n",
              " ('farmer', 'VBP'),\n",
              " ('to', 'TO'),\n",
              " ('make', 'VB'),\n",
              " ('sure', 'JJ'),\n",
              " ('that', 'IN'),\n",
              " ('i', 'NN'),\n",
              " (\"'\", \"''\"),\n",
              " ('m', 'NN'),\n",
              " ('not', 'RB'),\n",
              " ('missing', 'VBG'),\n",
              " ('something', 'NN'),\n",
              " ('(', '('),\n",
              " ('which', 'WDT'),\n",
              " ('i', 'VBP'),\n",
              " ('did', 'VBD'),\n",
              " ('below', 'IN'),\n",
              " (')', ')'),\n",
              " ('.', '.'),\n",
              " ('while', 'IN'),\n",
              " ('i', 'JJ'),\n",
              " ('am', 'VBP'),\n",
              " ('waiting', 'VBG'),\n",
              " ('for', 'IN'),\n",
              " ('a', 'DT'),\n",
              " ('response', 'NN'),\n",
              " ('from', 'IN'),\n",
              " ('him', 'PRP'),\n",
              " ('and', 'CC'),\n",
              " ('/', 'VB'),\n",
              " ('or', 'CC'),\n",
              " ('mary', 'VB'),\n",
              " ('smith', 'NN'),\n",
              " (',', ','),\n",
              " ('i', 'NN'),\n",
              " ('will', 'MD'),\n",
              " ('begin', 'VB'),\n",
              " ('gathering', 'VBG'),\n",
              " ('the', 'DT'),\n",
              " ('contractual', 'JJ'),\n",
              " ('volumes', 'NNS'),\n",
              " ('under', 'IN'),\n",
              " ('the', 'DT'),\n",
              " ('above', 'JJ'),\n",
              " ('contracts', 'NNS'),\n",
              " ('.', '.'),\n",
              " ('-', ':'),\n",
              " ('-', ':'),\n",
              " ('-', ':'),\n",
              " ('-', ':'),\n",
              " ('-', ':'),\n",
              " ('-', ':'),\n",
              " ('-', ':'),\n",
              " ('-', ':'),\n",
              " ('-', ':'),\n",
              " ('-', ':'),\n",
              " ('-', ':'),\n",
              " ('-', ':'),\n",
              " ('-', ':'),\n",
              " ('-', ':'),\n",
              " ('-', ':'),\n",
              " ('-', ':'),\n",
              " ('-', ':'),\n",
              " ('-', ':'),\n",
              " ('-', ':'),\n",
              " ('-', ':'),\n",
              " ('-', ':'),\n",
              " ('-', ':'),\n",
              " ('forwarded', 'VBN'),\n",
              " ('by', 'IN'),\n",
              " ('cheryl', 'NN'),\n",
              " ('dudley', 'NN'),\n",
              " ('/', 'NNP'),\n",
              " ('hou', 'NN'),\n",
              " ('/', 'NNP'),\n",
              " ('ect', 'NN'),\n",
              " ('on', 'IN'),\n",
              " ('05', 'CD'),\n",
              " ('/', 'JJ'),\n",
              " ('10', 'CD'),\n",
              " ('/', 'JJ'),\n",
              " ('2000', 'CD'),\n",
              " ('07', 'CD'),\n",
              " (':', ':'),\n",
              " ('56', 'CD'),\n",
              " ('am', 'VBP'),\n",
              " ('-', ':'),\n",
              " ('-', ':'),\n",
              " ('-', ':'),\n",
              " ('-', ':'),\n",
              " ('-', ':'),\n",
              " ('-', ':'),\n",
              " ('-', ':'),\n",
              " ('-', ':'),\n",
              " ('-', ':'),\n",
              " ('-', ':'),\n",
              " ('-', ':'),\n",
              " ('-', ':'),\n",
              " ('-', ':'),\n",
              " ('-', ':'),\n",
              " ('-', ':'),\n",
              " ('-', ':'),\n",
              " ('-', ':'),\n",
              " ('-', ':'),\n",
              " ('-', ':'),\n",
              " ('-', ':'),\n",
              " ('-', ':'),\n",
              " ('-', ':'),\n",
              " ('-', ':'),\n",
              " ('-', ':'),\n",
              " ('-', ':'),\n",
              " ('-', ':'),\n",
              " ('-', ':'),\n",
              " ('cheryl', 'NN'),\n",
              " ('d', 'NN'),\n",
              " ('king', 'VBG'),\n",
              " ('05', 'CD'),\n",
              " ('/', 'JJ'),\n",
              " ('08', 'CD'),\n",
              " ('/', 'JJ'),\n",
              " ('2000', 'CD'),\n",
              " ('04', 'CD'),\n",
              " (':', ':'),\n",
              " ('11', 'CD'),\n",
              " ('pm', 'NN'),\n",
              " ('sent', 'VBN'),\n",
              " ('by', 'IN'),\n",
              " (':', ':'),\n",
              " ('cheryl', 'NN'),\n",
              " ('dudley', 'NN'),\n",
              " ('to', 'TO'),\n",
              " (':', ':'),\n",
              " ('daren', 'NNS'),\n",
              " ('j', 'VBP'),\n",
              " ('farmer', 'NN'),\n",
              " ('/', 'NNP'),\n",
              " ('hou', 'NN'),\n",
              " ('/', 'NNP'),\n",
              " ('ect', 'NN'),\n",
              " ('@', 'NNP'),\n",
              " ('ect', 'NN'),\n",
              " (',', ','),\n",
              " ('mary', 'JJ'),\n",
              " ('m', 'NN'),\n",
              " ('smith', 'NN'),\n",
              " ('/', 'NNP'),\n",
              " ('hou', 'NN'),\n",
              " ('/', 'NNP'),\n",
              " ('ect', 'NN'),\n",
              " ('@', 'NNP'),\n",
              " ('ect', 'NN'),\n",
              " ('cc', 'NN'),\n",
              " (':', ':'),\n",
              " ('subject', 'NN'),\n",
              " (':', ':'),\n",
              " ('ena', 'NN'),\n",
              " ('sales', 'NNS'),\n",
              " ('on', 'IN'),\n",
              " ('hpl', 'NN'),\n",
              " ('i', 'NN'),\n",
              " ('am', 'VBP'),\n",
              " ('working', 'VBG'),\n",
              " ('on', 'IN'),\n",
              " ('a', 'DT'),\n",
              " ('project', 'NN'),\n",
              " ('for', 'IN'),\n",
              " ('brenda', 'NN'),\n",
              " ('herod', 'NN'),\n",
              " ('&', 'CC'),\n",
              " ('was', 'VBD'),\n",
              " ('wondering', 'VBG'),\n",
              " ('if', 'IN'),\n",
              " ('one', 'CD'),\n",
              " ('of', 'IN'),\n",
              " ('you', 'PRP'),\n",
              " ('could', 'MD'),\n",
              " ('tell', 'VB'),\n",
              " ('me', 'PRP'),\n",
              " ('if', 'IN'),\n",
              " ('i', 'NN'),\n",
              " (\"'\", \"''\"),\n",
              " ('m', 'NN'),\n",
              " ('on', 'IN'),\n",
              " ('the', 'DT'),\n",
              " ('right', 'JJ'),\n",
              " ('track', 'NN'),\n",
              " ('&', 'CC'),\n",
              " ('if', 'IN'),\n",
              " ('this', 'DT'),\n",
              " ('will', 'MD'),\n",
              " ('get', 'VB'),\n",
              " ('everything', 'NN'),\n",
              " ('for', 'IN'),\n",
              " ('which', 'WDT'),\n",
              " ('she', 'PRP'),\n",
              " ('is', 'VBZ'),\n",
              " ('looking', 'VBG'),\n",
              " ('.', '.'),\n",
              " ('she', 'PRP'),\n",
              " ('is', 'VBZ'),\n",
              " ('trying', 'VBG'),\n",
              " ('to', 'TO'),\n",
              " ('draft', 'VB'),\n",
              " ('a', 'DT'),\n",
              " ('long', 'JJ'),\n",
              " ('-', ':'),\n",
              " ('term', 'NN'),\n",
              " ('transport', 'NN'),\n",
              " ('/', 'NNP'),\n",
              " ('storage', 'NN'),\n",
              " ('agreement', 'NN'),\n",
              " ('between', 'IN'),\n",
              " ('ena', 'NN'),\n",
              " ('&', 'CC'),\n",
              " ('hplc', 'NN'),\n",
              " ('which', 'WDT'),\n",
              " ('will', 'MD'),\n",
              " ('allow', 'VB'),\n",
              " ('ena', 'NN'),\n",
              " ('to', 'TO'),\n",
              " ('move', 'VB'),\n",
              " ('the', 'DT'),\n",
              " ('gas', 'NN'),\n",
              " ('to', 'TO'),\n",
              " ('their', 'PRP$'),\n",
              " ('markets', 'NNS'),\n",
              " ('.', '.'),\n",
              " ('in', 'IN'),\n",
              " ('order', 'NN'),\n",
              " ('to', 'TO'),\n",
              " ('accomplish', 'VB'),\n",
              " ('this', 'DT'),\n",
              " (',', ','),\n",
              " ('she', 'PRP'),\n",
              " ('needs', 'VBZ'),\n",
              " ('to', 'TO'),\n",
              " ('know', 'VB'),\n",
              " ('all', 'DT'),\n",
              " ('of', 'IN'),\n",
              " ('the', 'DT'),\n",
              " ('sales', 'NNS'),\n",
              " ('to', 'TO'),\n",
              " ('customers', 'NNS'),\n",
              " ('that', 'IN'),\n",
              " ('ena', 'NN'),\n",
              " ('is', 'VBZ'),\n",
              " ('doing', 'VBG'),\n",
              " ('off', 'IN'),\n",
              " ('of', 'IN'),\n",
              " ('hpl', 'NN'),\n",
              " (\"'\", \"''\"),\n",
              " ('s', 'JJ'),\n",
              " ('pipe', 'NN'),\n",
              " ('.', '.'),\n",
              " ('i', 'NN'),\n",
              " ('had', 'VBD'),\n",
              " ('scott', 'VBN'),\n",
              " ('mills', 'NNS'),\n",
              " ('run', 'VB'),\n",
              " ('a', 'DT'),\n",
              " ('report', 'NN'),\n",
              " ('from', 'IN'),\n",
              " ('sitara', 'JJ'),\n",
              " ('showing', 'VBG'),\n",
              " ('all', 'DT'),\n",
              " ('ena', 'JJ'),\n",
              " ('buy', 'VB'),\n",
              " ('/', 'NNP'),\n",
              " ('sell', 'NN'),\n",
              " ('activity', 'NN'),\n",
              " ('on', 'IN'),\n",
              " ('hpl', 'NN'),\n",
              " ('since', 'IN'),\n",
              " ('7', 'CD'),\n",
              " ('/', '$'),\n",
              " ('99', 'CD'),\n",
              " ('.', '.'),\n",
              " ('if', 'IN'),\n",
              " ('i', 'JJ'),\n",
              " ('eliminate', 'VBP'),\n",
              " ('the', 'DT'),\n",
              " ('buys', 'NN'),\n",
              " ('&', 'CC'),\n",
              " ('the', 'DT'),\n",
              " ('desk', 'NN'),\n",
              " ('-', ':'),\n",
              " ('to', 'TO'),\n",
              " ('-', ':'),\n",
              " ('desk', 'NN'),\n",
              " ('deals', 'NNS'),\n",
              " (',', ','),\n",
              " ('will', 'MD'),\n",
              " ('this', 'DT'),\n",
              " ('give', 'VB'),\n",
              " ('me', 'PRP'),\n",
              " ('everything', 'NN'),\n",
              " ('that', 'IN'),\n",
              " ('i', 'NN'),\n",
              " ('need', 'VBP'),\n",
              " ('?', '.'),\n",
              " ('are', 'VBP'),\n",
              " ('there', 'RB'),\n",
              " ('buy', 'VB'),\n",
              " ('/', 'NNP'),\n",
              " ('sell', 'JJ'),\n",
              " ('deals', 'NNS'),\n",
              " ('done', 'VBN'),\n",
              " ('with', 'IN'),\n",
              " ('ena', 'NN'),\n",
              " ('on', 'IN'),\n",
              " ('hpl', 'NN'),\n",
              " (\"'\", \"''\"),\n",
              " ('s', 'JJ'),\n",
              " ('pipe', 'NN'),\n",
              " ('that', 'IN'),\n",
              " ('wouldn', 'NN'),\n",
              " (\"'\", \"''\"),\n",
              " ('t', 'NN'),\n",
              " ('show', 'VBP'),\n",
              " ('up', 'RP'),\n",
              " ('in', 'IN'),\n",
              " ('sitara', 'NN'),\n",
              " ('?', '.'),\n",
              " ('someone', 'NN'),\n",
              " ('mentioned', 'VBD'),\n",
              " ('something', 'NN'),\n",
              " ('about', 'IN'),\n",
              " ('deals', 'NNS'),\n",
              " ('where', 'WRB'),\n",
              " ('hpl', 'NN'),\n",
              " ('transports', 'VBZ'),\n",
              " ('the', 'DT'),\n",
              " ('gas', 'NN'),\n",
              " ('on', 'IN'),\n",
              " ('it', 'PRP'),\n",
              " (\"'\", \"''\"),\n",
              " ('s', 'JJ'),\n",
              " ('own', 'JJ'),\n",
              " ('behalf', 'NN'),\n",
              " ('then', 'RB'),\n",
              " ('ena', 'VBZ'),\n",
              " ('sells', 'VBZ'),\n",
              " ('it', 'PRP'),\n",
              " ('to', 'TO'),\n",
              " ('a', 'DT'),\n",
              " ('customer', 'NN'),\n",
              " ('at', 'IN'),\n",
              " ('that', 'DT'),\n",
              " ('same', 'JJ'),\n",
              " ('spot', 'NN'),\n",
              " ('-', ':'),\n",
              " ('-', ':'),\n",
              " ('?', '.'),\n",
              " ('?', '.'),\n",
              " ('?', '.'),\n",
              " ('?', '.'),\n",
              " ('?', '.'),\n",
              " ('do', 'VBP'),\n",
              " ('deals', 'NNS'),\n",
              " ('like', 'IN'),\n",
              " ('that', 'DT'),\n",
              " ('happen', 'NN'),\n",
              " ('?', '.'),\n",
              " ('would', 'MD'),\n",
              " ('they', 'PRP'),\n",
              " ('show', 'VB'),\n",
              " ('up', 'RP'),\n",
              " ('in', 'IN'),\n",
              " ('sitara', 'NN'),\n",
              " ('?', '.'),\n",
              " ('is', 'VBZ'),\n",
              " ('there', 'RB'),\n",
              " ('anything', 'NN'),\n",
              " ('else', 'JJ'),\n",
              " ('that', 'IN'),\n",
              " ('i', 'NN'),\n",
              " (\"'\", \"''\"),\n",
              " ('m', 'NN'),\n",
              " ('missing', 'VBG'),\n",
              " ('?', '.'),\n",
              " ('i', 'NN'),\n",
              " (\"'\", \"''\"),\n",
              " ('m', 'NN'),\n",
              " ('not', 'RB'),\n",
              " ('real', 'JJ'),\n",
              " ('familiar', 'JJ'),\n",
              " ('with', 'IN'),\n",
              " ('how', 'WRB'),\n",
              " ('some', 'DT'),\n",
              " ('of', 'IN'),\n",
              " ('these', 'DT'),\n",
              " ('deals', 'NNS'),\n",
              " ('happen', 'VBP'),\n",
              " ('nowadays', 'NNS'),\n",
              " ('so', 'RB'),\n",
              " ('am', 'VBP'),\n",
              " ('very', 'RB'),\n",
              " ('receptive', 'JJ'),\n",
              " ('to', 'TO'),\n",
              " ('any', 'DT'),\n",
              " ('ideas', 'NNS'),\n",
              " ('/', 'VBP'),\n",
              " ('suggestions', 'NNS'),\n",
              " ('/', 'VBP'),\n",
              " ('help', 'NN'),\n",
              " ('that', 'IN'),\n",
              " ('you', 'PRP'),\n",
              " ('can', 'MD'),\n",
              " ('offer', 'VB'),\n",
              " ('!', '.'),\n",
              " ('!', '.'),\n",
              " ('!', '.'),\n",
              " ('thanks', 'NNS'),\n",
              " ('in', 'IN'),\n",
              " ('advance', 'NN'),\n",
              " ('.', '.')]"
            ]
          },
          "metadata": {
            "tags": []
          },
          "execution_count": 16
        }
      ]
    },
    {
      "cell_type": "code",
      "metadata": {
        "collapsed": true,
        "id": "KgwKy20zu4ww"
      },
      "source": [
        "# Try to understand\n",
        "def get_wordnet_pos(pos_tag):\n",
        "    \"\"\"\n",
        "    Modifies pos_tag to get a more general nature of word\n",
        "    \"\"\"\n",
        "    if pos_tag.startswith('J'):\n",
        "        return wordnet.ADJ\n",
        "    elif pos_tag.startswith('V'):\n",
        "        return wordnet.VERB\n",
        "    elif pos_tag.startswith('N'):\n",
        "        return wordnet.NOUN\n",
        "    elif pos_tag.startswith('R'):\n",
        "        return wordnet.ADV\n",
        "    else:\n",
        "        return wordnet.NOUN"
      ],
      "execution_count": null,
      "outputs": []
    },
    {
      "cell_type": "markdown",
      "metadata": {
        "id": "Lvpdu1QUu4ww"
      },
      "source": [
        "### Lemmatizer "
      ]
    },
    {
      "cell_type": "code",
      "metadata": {
        "colab": {
          "base_uri": "https://localhost:8080/"
        },
        "id": "PAiK5Aiju4wx",
        "outputId": "4458f324-4394-4e22-9635-5d0956c634fe"
      },
      "source": [
        "#TODO: Lemmatize your email without pos & print it\n",
        "lemmatized_mail_no_pos = [lemmatizer.lemmatize(word[0]) for word in pos_tagged_mail]\n",
        "print(lemmatized_mail_no_pos)"
      ],
      "execution_count": null,
      "outputs": [
        {
          "output_type": "stream",
          "text": [
            "['subject', ':', 'ena', 'sale', 'on', 'hpl', 'just', 'to', 'update', 'you', 'on', 'this', 'project', \"'\", 's', 'status', ':', 'based', 'on', 'a', 'new', 'report', 'that', 'scott', 'mill', 'ran', 'for', 'me', 'from', 'sitara', ',', 'i', 'have', 'come', 'up', 'with', 'the', 'following', 'counterparties', 'a', 'the', 'one', 'to', 'which', 'ena', 'is', 'selling', 'gas', 'off', 'of', 'hpl', \"'\", 's', 'pipe', '.', 'altrade', 'transaction', ',', 'l', '.', 'l', '.', 'c', '.', 'gulf', 'gas', 'utility', 'company', 'brazoria', ',', 'city', 'of', 'panther', 'pipeline', ',', 'inc', '.', 'central', 'illinois', 'light', 'company', 'praxair', ',', 'inc', '.', 'central', 'power', 'and', 'light', 'company', 'reliant', 'energy', '-', 'entex', 'ce', '-', 'equistar', 'chemical', ',', 'lp', 'reliant', 'energy', '-', 'hl', '&', 'p', 'corpus', 'christi', 'gas', 'marketing', ',', 'lp', 'southern', 'union', 'company', 'd', '&', 'h', 'gas', 'company', ',', 'inc', '.', 'texas', 'utility', 'fuel', 'company', 'duke', 'energy', 'field', 'service', ',', 'inc', '.', 'txu', 'gas', 'distribution', 'entex', 'gas', 'marketing', 'company', 'union', 'carbide', 'corporation', 'equistar', 'chemical', ',', 'lp', 'unit', 'gas', 'transmission', 'company', 'inc', '.', 'since', 'i', \"'\", 'm', 'not', 'sure', 'exactly', 'what', 'get', 'entered', 'into', 'sitara', ',', 'pat', 'clynes', 'suggested', 'that', 'i', 'check', 'with', 'daren', 'farmer', 'to', 'make', 'sure', 'that', 'i', \"'\", 'm', 'not', 'missing', 'something', '(', 'which', 'i', 'did', 'below', ')', '.', 'while', 'i', 'am', 'waiting', 'for', 'a', 'response', 'from', 'him', 'and', '/', 'or', 'mary', 'smith', ',', 'i', 'will', 'begin', 'gathering', 'the', 'contractual', 'volume', 'under', 'the', 'above', 'contract', '.', '-', '-', '-', '-', '-', '-', '-', '-', '-', '-', '-', '-', '-', '-', '-', '-', '-', '-', '-', '-', '-', '-', 'forwarded', 'by', 'cheryl', 'dudley', '/', 'hou', '/', 'ect', 'on', '05', '/', '10', '/', '2000', '07', ':', '56', 'am', '-', '-', '-', '-', '-', '-', '-', '-', '-', '-', '-', '-', '-', '-', '-', '-', '-', '-', '-', '-', '-', '-', '-', '-', '-', '-', '-', 'cheryl', 'd', 'king', '05', '/', '08', '/', '2000', '04', ':', '11', 'pm', 'sent', 'by', ':', 'cheryl', 'dudley', 'to', ':', 'daren', 'j', 'farmer', '/', 'hou', '/', 'ect', '@', 'ect', ',', 'mary', 'm', 'smith', '/', 'hou', '/', 'ect', '@', 'ect', 'cc', ':', 'subject', ':', 'ena', 'sale', 'on', 'hpl', 'i', 'am', 'working', 'on', 'a', 'project', 'for', 'brenda', 'herod', '&', 'wa', 'wondering', 'if', 'one', 'of', 'you', 'could', 'tell', 'me', 'if', 'i', \"'\", 'm', 'on', 'the', 'right', 'track', '&', 'if', 'this', 'will', 'get', 'everything', 'for', 'which', 'she', 'is', 'looking', '.', 'she', 'is', 'trying', 'to', 'draft', 'a', 'long', '-', 'term', 'transport', '/', 'storage', 'agreement', 'between', 'ena', '&', 'hplc', 'which', 'will', 'allow', 'ena', 'to', 'move', 'the', 'gas', 'to', 'their', 'market', '.', 'in', 'order', 'to', 'accomplish', 'this', ',', 'she', 'need', 'to', 'know', 'all', 'of', 'the', 'sale', 'to', 'customer', 'that', 'ena', 'is', 'doing', 'off', 'of', 'hpl', \"'\", 's', 'pipe', '.', 'i', 'had', 'scott', 'mill', 'run', 'a', 'report', 'from', 'sitara', 'showing', 'all', 'ena', 'buy', '/', 'sell', 'activity', 'on', 'hpl', 'since', '7', '/', '99', '.', 'if', 'i', 'eliminate', 'the', 'buy', '&', 'the', 'desk', '-', 'to', '-', 'desk', 'deal', ',', 'will', 'this', 'give', 'me', 'everything', 'that', 'i', 'need', '?', 'are', 'there', 'buy', '/', 'sell', 'deal', 'done', 'with', 'ena', 'on', 'hpl', \"'\", 's', 'pipe', 'that', 'wouldn', \"'\", 't', 'show', 'up', 'in', 'sitara', '?', 'someone', 'mentioned', 'something', 'about', 'deal', 'where', 'hpl', 'transport', 'the', 'gas', 'on', 'it', \"'\", 's', 'own', 'behalf', 'then', 'ena', 'sell', 'it', 'to', 'a', 'customer', 'at', 'that', 'same', 'spot', '-', '-', '?', '?', '?', '?', '?', 'do', 'deal', 'like', 'that', 'happen', '?', 'would', 'they', 'show', 'up', 'in', 'sitara', '?', 'is', 'there', 'anything', 'else', 'that', 'i', \"'\", 'm', 'missing', '?', 'i', \"'\", 'm', 'not', 'real', 'familiar', 'with', 'how', 'some', 'of', 'these', 'deal', 'happen', 'nowadays', 'so', 'am', 'very', 'receptive', 'to', 'any', 'idea', '/', 'suggestion', '/', 'help', 'that', 'you', 'can', 'offer', '!', '!', '!', 'thanks', 'in', 'advance', '.']\n"
          ],
          "name": "stdout"
        }
      ]
    },
    {
      "cell_type": "code",
      "metadata": {
        "colab": {
          "base_uri": "https://localhost:8080/"
        },
        "id": "kMx_oeknu4wx",
        "scrolled": false,
        "outputId": "8ec87c8c-c61e-45c4-87eb-f5f392395d40"
      },
      "source": [
        "##TODO: Lemmatize your email with pos & print it\n",
        "lemmatized_mail = [lemmatizer.lemmatize(word[0],get_wordnet_pos(word[1])) for word in pos_tagged_mail]\n",
        "print(lemmatized_mail)"
      ],
      "execution_count": null,
      "outputs": [
        {
          "output_type": "stream",
          "text": [
            "['subject', ':', 'ena', 'sale', 'on', 'hpl', 'just', 'to', 'update', 'you', 'on', 'this', 'project', \"'\", 's', 'status', ':', 'base', 'on', 'a', 'new', 'report', 'that', 'scott', 'mill', 'ran', 'for', 'me', 'from', 'sitara', ',', 'i', 'have', 'come', 'up', 'with', 'the', 'follow', 'counterparties', 'a', 'the', 'one', 'to', 'which', 'ena', 'be', 'sell', 'gas', 'off', 'of', 'hpl', \"'\", 's', 'pipe', '.', 'altrade', 'transaction', ',', 'l', '.', 'l', '.', 'c', '.', 'gulf', 'gas', 'utility', 'company', 'brazoria', ',', 'city', 'of', 'panther', 'pipeline', ',', 'inc', '.', 'central', 'illinois', 'light', 'company', 'praxair', ',', 'inc', '.', 'central', 'power', 'and', 'light', 'company', 'reliant', 'energy', '-', 'entex', 'ce', '-', 'equistar', 'chemical', ',', 'lp', 'reliant', 'energy', '-', 'hl', '&', 'p', 'corpus', 'christi', 'gas', 'marketing', ',', 'lp', 'southern', 'union', 'company', 'd', '&', 'h', 'gas', 'company', ',', 'inc', '.', 'texas', 'utility', 'fuel', 'company', 'duke', 'energy', 'field', 'service', ',', 'inc', '.', 'txu', 'gas', 'distribution', 'entex', 'gas', 'marketing', 'company', 'union', 'carbide', 'corporation', 'equistar', 'chemical', ',', 'lp', 'unit', 'gas', 'transmission', 'company', 'inc', '.', 'since', 'i', \"'\", 'm', 'not', 'sure', 'exactly', 'what', 'get', 'enter', 'into', 'sitara', ',', 'pat', 'clynes', 'suggest', 'that', 'i', 'check', 'with', 'daren', 'farmer', 'to', 'make', 'sure', 'that', 'i', \"'\", 'm', 'not', 'miss', 'something', '(', 'which', 'i', 'do', 'below', ')', '.', 'while', 'i', 'be', 'wait', 'for', 'a', 'response', 'from', 'him', 'and', '/', 'or', 'mary', 'smith', ',', 'i', 'will', 'begin', 'gather', 'the', 'contractual', 'volume', 'under', 'the', 'above', 'contract', '.', '-', '-', '-', '-', '-', '-', '-', '-', '-', '-', '-', '-', '-', '-', '-', '-', '-', '-', '-', '-', '-', '-', 'forward', 'by', 'cheryl', 'dudley', '/', 'hou', '/', 'ect', 'on', '05', '/', '10', '/', '2000', '07', ':', '56', 'be', '-', '-', '-', '-', '-', '-', '-', '-', '-', '-', '-', '-', '-', '-', '-', '-', '-', '-', '-', '-', '-', '-', '-', '-', '-', '-', '-', 'cheryl', 'd', 'king', '05', '/', '08', '/', '2000', '04', ':', '11', 'pm', 'send', 'by', ':', 'cheryl', 'dudley', 'to', ':', 'daren', 'j', 'farmer', '/', 'hou', '/', 'ect', '@', 'ect', ',', 'mary', 'm', 'smith', '/', 'hou', '/', 'ect', '@', 'ect', 'cc', ':', 'subject', ':', 'ena', 'sale', 'on', 'hpl', 'i', 'be', 'work', 'on', 'a', 'project', 'for', 'brenda', 'herod', '&', 'be', 'wonder', 'if', 'one', 'of', 'you', 'could', 'tell', 'me', 'if', 'i', \"'\", 'm', 'on', 'the', 'right', 'track', '&', 'if', 'this', 'will', 'get', 'everything', 'for', 'which', 'she', 'be', 'look', '.', 'she', 'be', 'try', 'to', 'draft', 'a', 'long', '-', 'term', 'transport', '/', 'storage', 'agreement', 'between', 'ena', '&', 'hplc', 'which', 'will', 'allow', 'ena', 'to', 'move', 'the', 'gas', 'to', 'their', 'market', '.', 'in', 'order', 'to', 'accomplish', 'this', ',', 'she', 'need', 'to', 'know', 'all', 'of', 'the', 'sale', 'to', 'customer', 'that', 'ena', 'be', 'do', 'off', 'of', 'hpl', \"'\", 's', 'pipe', '.', 'i', 'have', 'scott', 'mill', 'run', 'a', 'report', 'from', 'sitara', 'show', 'all', 'ena', 'buy', '/', 'sell', 'activity', 'on', 'hpl', 'since', '7', '/', '99', '.', 'if', 'i', 'eliminate', 'the', 'buy', '&', 'the', 'desk', '-', 'to', '-', 'desk', 'deal', ',', 'will', 'this', 'give', 'me', 'everything', 'that', 'i', 'need', '?', 'be', 'there', 'buy', '/', 'sell', 'deal', 'do', 'with', 'ena', 'on', 'hpl', \"'\", 's', 'pipe', 'that', 'wouldn', \"'\", 't', 'show', 'up', 'in', 'sitara', '?', 'someone', 'mention', 'something', 'about', 'deal', 'where', 'hpl', 'transport', 'the', 'gas', 'on', 'it', \"'\", 's', 'own', 'behalf', 'then', 'ena', 'sell', 'it', 'to', 'a', 'customer', 'at', 'that', 'same', 'spot', '-', '-', '?', '?', '?', '?', '?', 'do', 'deal', 'like', 'that', 'happen', '?', 'would', 'they', 'show', 'up', 'in', 'sitara', '?', 'be', 'there', 'anything', 'else', 'that', 'i', \"'\", 'm', 'miss', '?', 'i', \"'\", 'm', 'not', 'real', 'familiar', 'with', 'how', 'some', 'of', 'these', 'deal', 'happen', 'nowadays', 'so', 'be', 'very', 'receptive', 'to', 'any', 'idea', '/', 'suggestion', '/', 'help', 'that', 'you', 'can', 'offer', '!', '!', '!', 'thanks', 'in', 'advance', '.']\n"
          ],
          "name": "stdout"
        }
      ]
    },
    {
      "cell_type": "code",
      "metadata": {
        "colab": {
          "base_uri": "https://localhost:8080/"
        },
        "id": "rrBzt-l6iUBy",
        "outputId": "d8bdc20a-0276-4fb1-a5a9-5ed1973ce644"
      },
      "source": [
        "# Pb with sent because looks like a Noun ...\n",
        "nltk.pos_tag([\"sent\"])"
      ],
      "execution_count": null,
      "outputs": [
        {
          "output_type": "execute_result",
          "data": {
            "text/plain": [
              "[('sent', 'NN')]"
            ]
          },
          "metadata": {
            "tags": []
          },
          "execution_count": 20
        }
      ]
    },
    {
      "cell_type": "code",
      "metadata": {
        "colab": {
          "base_uri": "https://localhost:8080/",
          "height": 35
        },
        "id": "3ajcZt83vqtm",
        "outputId": "0eddd5c2-ebb9-4cb5-bdf8-10680cc4d37f"
      },
      "source": [
        "lemmatizer.lemmatize('sent',wordnet.VERB)"
      ],
      "execution_count": null,
      "outputs": [
        {
          "output_type": "execute_result",
          "data": {
            "application/vnd.google.colaboratory.intrinsic+json": {
              "type": "string"
            },
            "text/plain": [
              "'send'"
            ]
          },
          "metadata": {
            "tags": []
          },
          "execution_count": 21
        }
      ]
    },
    {
      "cell_type": "code",
      "metadata": {
        "colab": {
          "base_uri": "https://localhost:8080/"
        },
        "id": "nAkJYAQou4wx",
        "scrolled": true,
        "outputId": "c3f63add-fad5-4ddf-89d4-3c2aa1dc393e"
      },
      "source": [
        "#TODO: Did we deleted word between tokenization & lemmatization ?\n",
        "print ('Length Lemmatized single email = ' + str(len(lemmatized_mail)) + ' words')\n",
        "print ('Length Tokenized single email = ' + str(len(tokenized_mail)) + ' words')"
      ],
      "execution_count": null,
      "outputs": [
        {
          "output_type": "stream",
          "text": [
            "Length Lemmatized single email = 590 words\n",
            "Length Tokenized single email = 590 words\n"
          ],
          "name": "stdout"
        }
      ]
    },
    {
      "cell_type": "markdown",
      "metadata": {
        "id": "W-4BSv2higiy"
      },
      "source": [
        "LEmmatizing doesn't remove words !!!"
      ]
    },
    {
      "cell_type": "markdown",
      "metadata": {
        "id": "LApH-UH0u4wx"
      },
      "source": [
        "## Stemmer"
      ]
    },
    {
      "cell_type": "code",
      "metadata": {
        "id": "xfz8W-shqaOs"
      },
      "source": [
        "stemmer = SnowballStemmer('english')"
      ],
      "execution_count": null,
      "outputs": []
    },
    {
      "cell_type": "code",
      "metadata": {
        "colab": {
          "base_uri": "https://localhost:8080/"
        },
        "id": "xrufJtUIu4wx",
        "outputId": "f05524d1-972d-4670-c8ea-052c73dd4cf1"
      },
      "source": [
        "\n",
        "#TODO: stem your email\n",
        "stemmed_email = [stemmer.stem(word) for word in lemmatized_mail]\n",
        "print(stemmed_email)"
      ],
      "execution_count": null,
      "outputs": [
        {
          "output_type": "stream",
          "text": [
            "['subject', ':', 'ena', 'sale', 'on', 'hpl', 'just', 'to', 'updat', 'you', 'on', 'this', 'project', \"'\", 's', 'status', ':', 'base', 'on', 'a', 'new', 'report', 'that', 'scott', 'mill', 'ran', 'for', 'me', 'from', 'sitara', ',', 'i', 'have', 'come', 'up', 'with', 'the', 'follow', 'counterparti', 'a', 'the', 'one', 'to', 'which', 'ena', 'be', 'sell', 'gas', 'off', 'of', 'hpl', \"'\", 's', 'pipe', '.', 'altrad', 'transact', ',', 'l', '.', 'l', '.', 'c', '.', 'gulf', 'gas', 'util', 'compani', 'brazoria', ',', 'citi', 'of', 'panther', 'pipelin', ',', 'inc', '.', 'central', 'illinoi', 'light', 'compani', 'praxair', ',', 'inc', '.', 'central', 'power', 'and', 'light', 'compani', 'reliant', 'energi', '-', 'entex', 'ce', '-', 'equistar', 'chemic', ',', 'lp', 'reliant', 'energi', '-', 'hl', '&', 'p', 'corpus', 'christi', 'gas', 'market', ',', 'lp', 'southern', 'union', 'compani', 'd', '&', 'h', 'gas', 'compani', ',', 'inc', '.', 'texa', 'util', 'fuel', 'compani', 'duke', 'energi', 'field', 'servic', ',', 'inc', '.', 'txu', 'gas', 'distribut', 'entex', 'gas', 'market', 'compani', 'union', 'carbid', 'corpor', 'equistar', 'chemic', ',', 'lp', 'unit', 'gas', 'transmiss', 'compani', 'inc', '.', 'sinc', 'i', \"'\", 'm', 'not', 'sure', 'exact', 'what', 'get', 'enter', 'into', 'sitara', ',', 'pat', 'clyne', 'suggest', 'that', 'i', 'check', 'with', 'daren', 'farmer', 'to', 'make', 'sure', 'that', 'i', \"'\", 'm', 'not', 'miss', 'someth', '(', 'which', 'i', 'do', 'below', ')', '.', 'while', 'i', 'be', 'wait', 'for', 'a', 'respons', 'from', 'him', 'and', '/', 'or', 'mari', 'smith', ',', 'i', 'will', 'begin', 'gather', 'the', 'contractu', 'volum', 'under', 'the', 'abov', 'contract', '.', '-', '-', '-', '-', '-', '-', '-', '-', '-', '-', '-', '-', '-', '-', '-', '-', '-', '-', '-', '-', '-', '-', 'forward', 'by', 'cheryl', 'dudley', '/', 'hou', '/', 'ect', 'on', '05', '/', '10', '/', '2000', '07', ':', '56', 'be', '-', '-', '-', '-', '-', '-', '-', '-', '-', '-', '-', '-', '-', '-', '-', '-', '-', '-', '-', '-', '-', '-', '-', '-', '-', '-', '-', 'cheryl', 'd', 'king', '05', '/', '08', '/', '2000', '04', ':', '11', 'pm', 'send', 'by', ':', 'cheryl', 'dudley', 'to', ':', 'daren', 'j', 'farmer', '/', 'hou', '/', 'ect', '@', 'ect', ',', 'mari', 'm', 'smith', '/', 'hou', '/', 'ect', '@', 'ect', 'cc', ':', 'subject', ':', 'ena', 'sale', 'on', 'hpl', 'i', 'be', 'work', 'on', 'a', 'project', 'for', 'brenda', 'herod', '&', 'be', 'wonder', 'if', 'one', 'of', 'you', 'could', 'tell', 'me', 'if', 'i', \"'\", 'm', 'on', 'the', 'right', 'track', '&', 'if', 'this', 'will', 'get', 'everyth', 'for', 'which', 'she', 'be', 'look', '.', 'she', 'be', 'tri', 'to', 'draft', 'a', 'long', '-', 'term', 'transport', '/', 'storag', 'agreement', 'between', 'ena', '&', 'hplc', 'which', 'will', 'allow', 'ena', 'to', 'move', 'the', 'gas', 'to', 'their', 'market', '.', 'in', 'order', 'to', 'accomplish', 'this', ',', 'she', 'need', 'to', 'know', 'all', 'of', 'the', 'sale', 'to', 'custom', 'that', 'ena', 'be', 'do', 'off', 'of', 'hpl', \"'\", 's', 'pipe', '.', 'i', 'have', 'scott', 'mill', 'run', 'a', 'report', 'from', 'sitara', 'show', 'all', 'ena', 'buy', '/', 'sell', 'activ', 'on', 'hpl', 'sinc', '7', '/', '99', '.', 'if', 'i', 'elimin', 'the', 'buy', '&', 'the', 'desk', '-', 'to', '-', 'desk', 'deal', ',', 'will', 'this', 'give', 'me', 'everyth', 'that', 'i', 'need', '?', 'be', 'there', 'buy', '/', 'sell', 'deal', 'do', 'with', 'ena', 'on', 'hpl', \"'\", 's', 'pipe', 'that', 'wouldn', \"'\", 't', 'show', 'up', 'in', 'sitara', '?', 'someon', 'mention', 'someth', 'about', 'deal', 'where', 'hpl', 'transport', 'the', 'gas', 'on', 'it', \"'\", 's', 'own', 'behalf', 'then', 'ena', 'sell', 'it', 'to', 'a', 'custom', 'at', 'that', 'same', 'spot', '-', '-', '?', '?', '?', '?', '?', 'do', 'deal', 'like', 'that', 'happen', '?', 'would', 'they', 'show', 'up', 'in', 'sitara', '?', 'be', 'there', 'anyth', 'els', 'that', 'i', \"'\", 'm', 'miss', '?', 'i', \"'\", 'm', 'not', 'real', 'familiar', 'with', 'how', 'some', 'of', 'these', 'deal', 'happen', 'nowaday', 'so', 'be', 'veri', 'recept', 'to', 'ani', 'idea', '/', 'suggest', '/', 'help', 'that', 'you', 'can', 'offer', '!', '!', '!', 'thank', 'in', 'advanc', '.']\n"
          ],
          "name": "stdout"
        }
      ]
    },
    {
      "cell_type": "code",
      "metadata": {
        "colab": {
          "base_uri": "https://localhost:8080/"
        },
        "id": "uieldqR_u4wy",
        "outputId": "69f1aa45-4f35-4e50-8f08-5f7d856cd68f"
      },
      "source": [
        "#TODO: print the length of your email\n",
        "\n",
        "print ('Length stemmed single email = ' + str(len(stemmed_email)) + ' words')"
      ],
      "execution_count": null,
      "outputs": [
        {
          "output_type": "stream",
          "text": [
            "Length stemmed single email = 590 words\n"
          ],
          "name": "stdout"
        }
      ]
    },
    {
      "cell_type": "markdown",
      "metadata": {
        "id": "j1uO9Ckou4wy"
      },
      "source": [
        "### Stopwords"
      ]
    },
    {
      "cell_type": "code",
      "metadata": {
        "colab": {
          "base_uri": "https://localhost:8080/"
        },
        "id": "PA4UqCAMu4wy",
        "scrolled": true,
        "outputId": "25438cb5-9c5a-4349-8a88-042f5d02a4c4"
      },
      "source": [
        "# Have a look at stopwords\n",
        "stoplist =stopwords.words('english')\n",
        "\n",
        "\n",
        "#TODO: print example of stop words\n",
        "print('Example of stop words in english :')\n",
        "print(stoplist)\n"
      ],
      "execution_count": null,
      "outputs": [
        {
          "output_type": "stream",
          "text": [
            "Example of stop words in english :\n",
            "['i', 'me', 'my', 'myself', 'we', 'our', 'ours', 'ourselves', 'you', \"you're\", \"you've\", \"you'll\", \"you'd\", 'your', 'yours', 'yourself', 'yourselves', 'he', 'him', 'his', 'himself', 'she', \"she's\", 'her', 'hers', 'herself', 'it', \"it's\", 'its', 'itself', 'they', 'them', 'their', 'theirs', 'themselves', 'what', 'which', 'who', 'whom', 'this', 'that', \"that'll\", 'these', 'those', 'am', 'is', 'are', 'was', 'were', 'be', 'been', 'being', 'have', 'has', 'had', 'having', 'do', 'does', 'did', 'doing', 'a', 'an', 'the', 'and', 'but', 'if', 'or', 'because', 'as', 'until', 'while', 'of', 'at', 'by', 'for', 'with', 'about', 'against', 'between', 'into', 'through', 'during', 'before', 'after', 'above', 'below', 'to', 'from', 'up', 'down', 'in', 'out', 'on', 'off', 'over', 'under', 'again', 'further', 'then', 'once', 'here', 'there', 'when', 'where', 'why', 'how', 'all', 'any', 'both', 'each', 'few', 'more', 'most', 'other', 'some', 'such', 'no', 'nor', 'not', 'only', 'own', 'same', 'so', 'than', 'too', 'very', 's', 't', 'can', 'will', 'just', 'don', \"don't\", 'should', \"should've\", 'now', 'd', 'll', 'm', 'o', 're', 've', 'y', 'ain', 'aren', \"aren't\", 'couldn', \"couldn't\", 'didn', \"didn't\", 'doesn', \"doesn't\", 'hadn', \"hadn't\", 'hasn', \"hasn't\", 'haven', \"haven't\", 'isn', \"isn't\", 'ma', 'mightn', \"mightn't\", 'mustn', \"mustn't\", 'needn', \"needn't\", 'shan', \"shan't\", 'shouldn', \"shouldn't\", 'wasn', \"wasn't\", 'weren', \"weren't\", 'won', \"won't\", 'wouldn', \"wouldn't\"]\n"
          ],
          "name": "stdout"
        }
      ]
    },
    {
      "cell_type": "code",
      "metadata": {
        "colab": {
          "base_uri": "https://localhost:8080/"
        },
        "id": "gGCfXBhPu4wy",
        "scrolled": true,
        "outputId": "5a3c187b-c824-4cc3-ff18-ba78382c7509"
      },
      "source": [
        "#TODO: removing stopwords\n",
        "mail_no_stopwords = [word for word in stemmed_email if word not in stoplist]\n",
        "print ('Length single email with stopwords = ' + str(len(stemmed_email)) + ' words')\n",
        "print ('Length single email without stopwords = ' + str(len(mail_no_stopwords)) + ' words')"
      ],
      "execution_count": null,
      "outputs": [
        {
          "output_type": "stream",
          "text": [
            "Length single email with stopwords = 590 words\n",
            "Length single email without stopwords = 408 words\n"
          ],
          "name": "stdout"
        }
      ]
    },
    {
      "cell_type": "code",
      "metadata": {
        "colab": {
          "base_uri": "https://localhost:8080/"
        },
        "id": "j51uw-Qvu4wy",
        "outputId": "c6e95afc-c329-4770-fd87-48c069bd0437"
      },
      "source": [
        "print(stemmed_email)\n",
        "print('---------------------------------')\n",
        "print(mail_no_stopwords)"
      ],
      "execution_count": null,
      "outputs": [
        {
          "output_type": "stream",
          "text": [
            "['subject', ':', 'ena', 'sale', 'on', 'hpl', 'just', 'to', 'updat', 'you', 'on', 'this', 'project', \"'\", 's', 'status', ':', 'base', 'on', 'a', 'new', 'report', 'that', 'scott', 'mill', 'ran', 'for', 'me', 'from', 'sitara', ',', 'i', 'have', 'come', 'up', 'with', 'the', 'follow', 'counterparti', 'a', 'the', 'one', 'to', 'which', 'ena', 'be', 'sell', 'gas', 'off', 'of', 'hpl', \"'\", 's', 'pipe', '.', 'altrad', 'transact', ',', 'l', '.', 'l', '.', 'c', '.', 'gulf', 'gas', 'util', 'compani', 'brazoria', ',', 'citi', 'of', 'panther', 'pipelin', ',', 'inc', '.', 'central', 'illinoi', 'light', 'compani', 'praxair', ',', 'inc', '.', 'central', 'power', 'and', 'light', 'compani', 'reliant', 'energi', '-', 'entex', 'ce', '-', 'equistar', 'chemic', ',', 'lp', 'reliant', 'energi', '-', 'hl', '&', 'p', 'corpus', 'christi', 'gas', 'market', ',', 'lp', 'southern', 'union', 'compani', 'd', '&', 'h', 'gas', 'compani', ',', 'inc', '.', 'texa', 'util', 'fuel', 'compani', 'duke', 'energi', 'field', 'servic', ',', 'inc', '.', 'txu', 'gas', 'distribut', 'entex', 'gas', 'market', 'compani', 'union', 'carbid', 'corpor', 'equistar', 'chemic', ',', 'lp', 'unit', 'gas', 'transmiss', 'compani', 'inc', '.', 'sinc', 'i', \"'\", 'm', 'not', 'sure', 'exact', 'what', 'get', 'enter', 'into', 'sitara', ',', 'pat', 'clyne', 'suggest', 'that', 'i', 'check', 'with', 'daren', 'farmer', 'to', 'make', 'sure', 'that', 'i', \"'\", 'm', 'not', 'miss', 'someth', '(', 'which', 'i', 'do', 'below', ')', '.', 'while', 'i', 'be', 'wait', 'for', 'a', 'respons', 'from', 'him', 'and', '/', 'or', 'mari', 'smith', ',', 'i', 'will', 'begin', 'gather', 'the', 'contractu', 'volum', 'under', 'the', 'abov', 'contract', '.', '-', '-', '-', '-', '-', '-', '-', '-', '-', '-', '-', '-', '-', '-', '-', '-', '-', '-', '-', '-', '-', '-', 'forward', 'by', 'cheryl', 'dudley', '/', 'hou', '/', 'ect', 'on', '05', '/', '10', '/', '2000', '07', ':', '56', 'be', '-', '-', '-', '-', '-', '-', '-', '-', '-', '-', '-', '-', '-', '-', '-', '-', '-', '-', '-', '-', '-', '-', '-', '-', '-', '-', '-', 'cheryl', 'd', 'king', '05', '/', '08', '/', '2000', '04', ':', '11', 'pm', 'send', 'by', ':', 'cheryl', 'dudley', 'to', ':', 'daren', 'j', 'farmer', '/', 'hou', '/', 'ect', '@', 'ect', ',', 'mari', 'm', 'smith', '/', 'hou', '/', 'ect', '@', 'ect', 'cc', ':', 'subject', ':', 'ena', 'sale', 'on', 'hpl', 'i', 'be', 'work', 'on', 'a', 'project', 'for', 'brenda', 'herod', '&', 'be', 'wonder', 'if', 'one', 'of', 'you', 'could', 'tell', 'me', 'if', 'i', \"'\", 'm', 'on', 'the', 'right', 'track', '&', 'if', 'this', 'will', 'get', 'everyth', 'for', 'which', 'she', 'be', 'look', '.', 'she', 'be', 'tri', 'to', 'draft', 'a', 'long', '-', 'term', 'transport', '/', 'storag', 'agreement', 'between', 'ena', '&', 'hplc', 'which', 'will', 'allow', 'ena', 'to', 'move', 'the', 'gas', 'to', 'their', 'market', '.', 'in', 'order', 'to', 'accomplish', 'this', ',', 'she', 'need', 'to', 'know', 'all', 'of', 'the', 'sale', 'to', 'custom', 'that', 'ena', 'be', 'do', 'off', 'of', 'hpl', \"'\", 's', 'pipe', '.', 'i', 'have', 'scott', 'mill', 'run', 'a', 'report', 'from', 'sitara', 'show', 'all', 'ena', 'buy', '/', 'sell', 'activ', 'on', 'hpl', 'sinc', '7', '/', '99', '.', 'if', 'i', 'elimin', 'the', 'buy', '&', 'the', 'desk', '-', 'to', '-', 'desk', 'deal', ',', 'will', 'this', 'give', 'me', 'everyth', 'that', 'i', 'need', '?', 'be', 'there', 'buy', '/', 'sell', 'deal', 'do', 'with', 'ena', 'on', 'hpl', \"'\", 's', 'pipe', 'that', 'wouldn', \"'\", 't', 'show', 'up', 'in', 'sitara', '?', 'someon', 'mention', 'someth', 'about', 'deal', 'where', 'hpl', 'transport', 'the', 'gas', 'on', 'it', \"'\", 's', 'own', 'behalf', 'then', 'ena', 'sell', 'it', 'to', 'a', 'custom', 'at', 'that', 'same', 'spot', '-', '-', '?', '?', '?', '?', '?', 'do', 'deal', 'like', 'that', 'happen', '?', 'would', 'they', 'show', 'up', 'in', 'sitara', '?', 'be', 'there', 'anyth', 'els', 'that', 'i', \"'\", 'm', 'miss', '?', 'i', \"'\", 'm', 'not', 'real', 'familiar', 'with', 'how', 'some', 'of', 'these', 'deal', 'happen', 'nowaday', 'so', 'be', 'veri', 'recept', 'to', 'ani', 'idea', '/', 'suggest', '/', 'help', 'that', 'you', 'can', 'offer', '!', '!', '!', 'thank', 'in', 'advanc', '.']\n",
            "---------------------------------\n",
            "['subject', ':', 'ena', 'sale', 'hpl', 'updat', 'project', \"'\", 'status', ':', 'base', 'new', 'report', 'scott', 'mill', 'ran', 'sitara', ',', 'come', 'follow', 'counterparti', 'one', 'ena', 'sell', 'gas', 'hpl', \"'\", 'pipe', '.', 'altrad', 'transact', ',', 'l', '.', 'l', '.', 'c', '.', 'gulf', 'gas', 'util', 'compani', 'brazoria', ',', 'citi', 'panther', 'pipelin', ',', 'inc', '.', 'central', 'illinoi', 'light', 'compani', 'praxair', ',', 'inc', '.', 'central', 'power', 'light', 'compani', 'reliant', 'energi', '-', 'entex', 'ce', '-', 'equistar', 'chemic', ',', 'lp', 'reliant', 'energi', '-', 'hl', '&', 'p', 'corpus', 'christi', 'gas', 'market', ',', 'lp', 'southern', 'union', 'compani', '&', 'h', 'gas', 'compani', ',', 'inc', '.', 'texa', 'util', 'fuel', 'compani', 'duke', 'energi', 'field', 'servic', ',', 'inc', '.', 'txu', 'gas', 'distribut', 'entex', 'gas', 'market', 'compani', 'union', 'carbid', 'corpor', 'equistar', 'chemic', ',', 'lp', 'unit', 'gas', 'transmiss', 'compani', 'inc', '.', 'sinc', \"'\", 'sure', 'exact', 'get', 'enter', 'sitara', ',', 'pat', 'clyne', 'suggest', 'check', 'daren', 'farmer', 'make', 'sure', \"'\", 'miss', 'someth', '(', ')', '.', 'wait', 'respons', '/', 'mari', 'smith', ',', 'begin', 'gather', 'contractu', 'volum', 'abov', 'contract', '.', '-', '-', '-', '-', '-', '-', '-', '-', '-', '-', '-', '-', '-', '-', '-', '-', '-', '-', '-', '-', '-', '-', 'forward', 'cheryl', 'dudley', '/', 'hou', '/', 'ect', '05', '/', '10', '/', '2000', '07', ':', '56', '-', '-', '-', '-', '-', '-', '-', '-', '-', '-', '-', '-', '-', '-', '-', '-', '-', '-', '-', '-', '-', '-', '-', '-', '-', '-', '-', 'cheryl', 'king', '05', '/', '08', '/', '2000', '04', ':', '11', 'pm', 'send', ':', 'cheryl', 'dudley', ':', 'daren', 'j', 'farmer', '/', 'hou', '/', 'ect', '@', 'ect', ',', 'mari', 'smith', '/', 'hou', '/', 'ect', '@', 'ect', 'cc', ':', 'subject', ':', 'ena', 'sale', 'hpl', 'work', 'project', 'brenda', 'herod', '&', 'wonder', 'one', 'could', 'tell', \"'\", 'right', 'track', '&', 'get', 'everyth', 'look', '.', 'tri', 'draft', 'long', '-', 'term', 'transport', '/', 'storag', 'agreement', 'ena', '&', 'hplc', 'allow', 'ena', 'move', 'gas', 'market', '.', 'order', 'accomplish', ',', 'need', 'know', 'sale', 'custom', 'ena', 'hpl', \"'\", 'pipe', '.', 'scott', 'mill', 'run', 'report', 'sitara', 'show', 'ena', 'buy', '/', 'sell', 'activ', 'hpl', 'sinc', '7', '/', '99', '.', 'elimin', 'buy', '&', 'desk', '-', '-', 'desk', 'deal', ',', 'give', 'everyth', 'need', '?', 'buy', '/', 'sell', 'deal', 'ena', 'hpl', \"'\", 'pipe', \"'\", 'show', 'sitara', '?', 'someon', 'mention', 'someth', 'deal', 'hpl', 'transport', 'gas', \"'\", 'behalf', 'ena', 'sell', 'custom', 'spot', '-', '-', '?', '?', '?', '?', '?', 'deal', 'like', 'happen', '?', 'would', 'show', 'sitara', '?', 'anyth', 'els', \"'\", 'miss', '?', \"'\", 'real', 'familiar', 'deal', 'happen', 'nowaday', 'veri', 'recept', 'ani', 'idea', '/', 'suggest', '/', 'help', 'offer', '!', '!', '!', 'thank', 'advanc', '.']\n"
          ],
          "name": "stdout"
        }
      ]
    },
    {
      "cell_type": "code",
      "metadata": {
        "collapsed": true,
        "id": "4o1bNeE3u4wy"
      },
      "source": [
        "#TODO: add some relevant stopwords\n",
        "stoplist += ['fw','subject']"
      ],
      "execution_count": null,
      "outputs": []
    },
    {
      "cell_type": "code",
      "metadata": {
        "collapsed": true,
        "id": "EPAOY_EMu4wy"
      },
      "source": [
        "#TODO: removing new stopwords\n",
        "mail_no_stopwords = [word for word in stemmed_email if word not in stoplist]"
      ],
      "execution_count": null,
      "outputs": []
    },
    {
      "cell_type": "code",
      "metadata": {
        "colab": {
          "base_uri": "https://localhost:8080/"
        },
        "id": "vu2rPSQtu4wz",
        "outputId": "ce240cd8-bc11-4b67-f774-4dcc8f1684aa"
      },
      "source": [
        "print(stemmed_email)\n",
        "print('---------------------------------')\n",
        "print(mail_no_stopwords)\n",
        "print('---------------------------------')\n",
        "print ('Length single email without stopwords = ' + str(len(mail_no_stopwords)) + ' words' )"
      ],
      "execution_count": null,
      "outputs": [
        {
          "output_type": "stream",
          "text": [
            "['subject', ':', 'ena', 'sale', 'on', 'hpl', 'just', 'to', 'updat', 'you', 'on', 'this', 'project', \"'\", 's', 'status', ':', 'base', 'on', 'a', 'new', 'report', 'that', 'scott', 'mill', 'ran', 'for', 'me', 'from', 'sitara', ',', 'i', 'have', 'come', 'up', 'with', 'the', 'follow', 'counterparti', 'a', 'the', 'one', 'to', 'which', 'ena', 'be', 'sell', 'gas', 'off', 'of', 'hpl', \"'\", 's', 'pipe', '.', 'altrad', 'transact', ',', 'l', '.', 'l', '.', 'c', '.', 'gulf', 'gas', 'util', 'compani', 'brazoria', ',', 'citi', 'of', 'panther', 'pipelin', ',', 'inc', '.', 'central', 'illinoi', 'light', 'compani', 'praxair', ',', 'inc', '.', 'central', 'power', 'and', 'light', 'compani', 'reliant', 'energi', '-', 'entex', 'ce', '-', 'equistar', 'chemic', ',', 'lp', 'reliant', 'energi', '-', 'hl', '&', 'p', 'corpus', 'christi', 'gas', 'market', ',', 'lp', 'southern', 'union', 'compani', 'd', '&', 'h', 'gas', 'compani', ',', 'inc', '.', 'texa', 'util', 'fuel', 'compani', 'duke', 'energi', 'field', 'servic', ',', 'inc', '.', 'txu', 'gas', 'distribut', 'entex', 'gas', 'market', 'compani', 'union', 'carbid', 'corpor', 'equistar', 'chemic', ',', 'lp', 'unit', 'gas', 'transmiss', 'compani', 'inc', '.', 'sinc', 'i', \"'\", 'm', 'not', 'sure', 'exact', 'what', 'get', 'enter', 'into', 'sitara', ',', 'pat', 'clyne', 'suggest', 'that', 'i', 'check', 'with', 'daren', 'farmer', 'to', 'make', 'sure', 'that', 'i', \"'\", 'm', 'not', 'miss', 'someth', '(', 'which', 'i', 'do', 'below', ')', '.', 'while', 'i', 'be', 'wait', 'for', 'a', 'respons', 'from', 'him', 'and', '/', 'or', 'mari', 'smith', ',', 'i', 'will', 'begin', 'gather', 'the', 'contractu', 'volum', 'under', 'the', 'abov', 'contract', '.', '-', '-', '-', '-', '-', '-', '-', '-', '-', '-', '-', '-', '-', '-', '-', '-', '-', '-', '-', '-', '-', '-', 'forward', 'by', 'cheryl', 'dudley', '/', 'hou', '/', 'ect', 'on', '05', '/', '10', '/', '2000', '07', ':', '56', 'be', '-', '-', '-', '-', '-', '-', '-', '-', '-', '-', '-', '-', '-', '-', '-', '-', '-', '-', '-', '-', '-', '-', '-', '-', '-', '-', '-', 'cheryl', 'd', 'king', '05', '/', '08', '/', '2000', '04', ':', '11', 'pm', 'send', 'by', ':', 'cheryl', 'dudley', 'to', ':', 'daren', 'j', 'farmer', '/', 'hou', '/', 'ect', '@', 'ect', ',', 'mari', 'm', 'smith', '/', 'hou', '/', 'ect', '@', 'ect', 'cc', ':', 'subject', ':', 'ena', 'sale', 'on', 'hpl', 'i', 'be', 'work', 'on', 'a', 'project', 'for', 'brenda', 'herod', '&', 'be', 'wonder', 'if', 'one', 'of', 'you', 'could', 'tell', 'me', 'if', 'i', \"'\", 'm', 'on', 'the', 'right', 'track', '&', 'if', 'this', 'will', 'get', 'everyth', 'for', 'which', 'she', 'be', 'look', '.', 'she', 'be', 'tri', 'to', 'draft', 'a', 'long', '-', 'term', 'transport', '/', 'storag', 'agreement', 'between', 'ena', '&', 'hplc', 'which', 'will', 'allow', 'ena', 'to', 'move', 'the', 'gas', 'to', 'their', 'market', '.', 'in', 'order', 'to', 'accomplish', 'this', ',', 'she', 'need', 'to', 'know', 'all', 'of', 'the', 'sale', 'to', 'custom', 'that', 'ena', 'be', 'do', 'off', 'of', 'hpl', \"'\", 's', 'pipe', '.', 'i', 'have', 'scott', 'mill', 'run', 'a', 'report', 'from', 'sitara', 'show', 'all', 'ena', 'buy', '/', 'sell', 'activ', 'on', 'hpl', 'sinc', '7', '/', '99', '.', 'if', 'i', 'elimin', 'the', 'buy', '&', 'the', 'desk', '-', 'to', '-', 'desk', 'deal', ',', 'will', 'this', 'give', 'me', 'everyth', 'that', 'i', 'need', '?', 'be', 'there', 'buy', '/', 'sell', 'deal', 'do', 'with', 'ena', 'on', 'hpl', \"'\", 's', 'pipe', 'that', 'wouldn', \"'\", 't', 'show', 'up', 'in', 'sitara', '?', 'someon', 'mention', 'someth', 'about', 'deal', 'where', 'hpl', 'transport', 'the', 'gas', 'on', 'it', \"'\", 's', 'own', 'behalf', 'then', 'ena', 'sell', 'it', 'to', 'a', 'custom', 'at', 'that', 'same', 'spot', '-', '-', '?', '?', '?', '?', '?', 'do', 'deal', 'like', 'that', 'happen', '?', 'would', 'they', 'show', 'up', 'in', 'sitara', '?', 'be', 'there', 'anyth', 'els', 'that', 'i', \"'\", 'm', 'miss', '?', 'i', \"'\", 'm', 'not', 'real', 'familiar', 'with', 'how', 'some', 'of', 'these', 'deal', 'happen', 'nowaday', 'so', 'be', 'veri', 'recept', 'to', 'ani', 'idea', '/', 'suggest', '/', 'help', 'that', 'you', 'can', 'offer', '!', '!', '!', 'thank', 'in', 'advanc', '.']\n",
            "---------------------------------\n",
            "[':', 'ena', 'sale', 'hpl', 'updat', 'project', \"'\", 'status', ':', 'base', 'new', 'report', 'scott', 'mill', 'ran', 'sitara', ',', 'come', 'follow', 'counterparti', 'one', 'ena', 'sell', 'gas', 'hpl', \"'\", 'pipe', '.', 'altrad', 'transact', ',', 'l', '.', 'l', '.', 'c', '.', 'gulf', 'gas', 'util', 'compani', 'brazoria', ',', 'citi', 'panther', 'pipelin', ',', 'inc', '.', 'central', 'illinoi', 'light', 'compani', 'praxair', ',', 'inc', '.', 'central', 'power', 'light', 'compani', 'reliant', 'energi', '-', 'entex', 'ce', '-', 'equistar', 'chemic', ',', 'lp', 'reliant', 'energi', '-', 'hl', '&', 'p', 'corpus', 'christi', 'gas', 'market', ',', 'lp', 'southern', 'union', 'compani', '&', 'h', 'gas', 'compani', ',', 'inc', '.', 'texa', 'util', 'fuel', 'compani', 'duke', 'energi', 'field', 'servic', ',', 'inc', '.', 'txu', 'gas', 'distribut', 'entex', 'gas', 'market', 'compani', 'union', 'carbid', 'corpor', 'equistar', 'chemic', ',', 'lp', 'unit', 'gas', 'transmiss', 'compani', 'inc', '.', 'sinc', \"'\", 'sure', 'exact', 'get', 'enter', 'sitara', ',', 'pat', 'clyne', 'suggest', 'check', 'daren', 'farmer', 'make', 'sure', \"'\", 'miss', 'someth', '(', ')', '.', 'wait', 'respons', '/', 'mari', 'smith', ',', 'begin', 'gather', 'contractu', 'volum', 'abov', 'contract', '.', '-', '-', '-', '-', '-', '-', '-', '-', '-', '-', '-', '-', '-', '-', '-', '-', '-', '-', '-', '-', '-', '-', 'forward', 'cheryl', 'dudley', '/', 'hou', '/', 'ect', '05', '/', '10', '/', '2000', '07', ':', '56', '-', '-', '-', '-', '-', '-', '-', '-', '-', '-', '-', '-', '-', '-', '-', '-', '-', '-', '-', '-', '-', '-', '-', '-', '-', '-', '-', 'cheryl', 'king', '05', '/', '08', '/', '2000', '04', ':', '11', 'pm', 'send', ':', 'cheryl', 'dudley', ':', 'daren', 'j', 'farmer', '/', 'hou', '/', 'ect', '@', 'ect', ',', 'mari', 'smith', '/', 'hou', '/', 'ect', '@', 'ect', 'cc', ':', ':', 'ena', 'sale', 'hpl', 'work', 'project', 'brenda', 'herod', '&', 'wonder', 'one', 'could', 'tell', \"'\", 'right', 'track', '&', 'get', 'everyth', 'look', '.', 'tri', 'draft', 'long', '-', 'term', 'transport', '/', 'storag', 'agreement', 'ena', '&', 'hplc', 'allow', 'ena', 'move', 'gas', 'market', '.', 'order', 'accomplish', ',', 'need', 'know', 'sale', 'custom', 'ena', 'hpl', \"'\", 'pipe', '.', 'scott', 'mill', 'run', 'report', 'sitara', 'show', 'ena', 'buy', '/', 'sell', 'activ', 'hpl', 'sinc', '7', '/', '99', '.', 'elimin', 'buy', '&', 'desk', '-', '-', 'desk', 'deal', ',', 'give', 'everyth', 'need', '?', 'buy', '/', 'sell', 'deal', 'ena', 'hpl', \"'\", 'pipe', \"'\", 'show', 'sitara', '?', 'someon', 'mention', 'someth', 'deal', 'hpl', 'transport', 'gas', \"'\", 'behalf', 'ena', 'sell', 'custom', 'spot', '-', '-', '?', '?', '?', '?', '?', 'deal', 'like', 'happen', '?', 'would', 'show', 'sitara', '?', 'anyth', 'els', \"'\", 'miss', '?', \"'\", 'real', 'familiar', 'deal', 'happen', 'nowaday', 'veri', 'recept', 'ani', 'idea', '/', 'suggest', '/', 'help', 'offer', '!', '!', '!', 'thank', 'advanc', '.']\n",
            "---------------------------------\n",
            "Length single email without stopwords = 406 words\n"
          ],
          "name": "stdout"
        }
      ]
    },
    {
      "cell_type": "markdown",
      "metadata": {
        "id": "zL1L_ITTu4wz"
      },
      "source": [
        "### Punctuation"
      ]
    },
    {
      "cell_type": "code",
      "metadata": {
        "id": "fSj-160rqfRY"
      },
      "source": [
        "#TODO: create a punctuation list\n",
        "stop_punctuation = [':', '(', ')', '/', '|', ',', ']', ';',\n",
        "                    '.', '*', '#', '\"', '&', '~', '``',\n",
        "                    '-', '_', '\\\\', '@','?','!','\\'', '[']"
      ],
      "execution_count": null,
      "outputs": []
    },
    {
      "cell_type": "code",
      "metadata": {
        "colab": {
          "base_uri": "https://localhost:8080/"
        },
        "id": "aSf79bn1u4wz",
        "scrolled": true,
        "outputId": "b4c1bda0-a50c-4f1f-b245-e43e4347fd52"
      },
      "source": [
        "#TODO: removing punctuation & print it\n",
        "mail_clean = [word for word in mail_no_stopwords if word not in stop_punctuation]\n",
        "\n",
        "print(mail_clean)\n",
        "print ('\\nLength single email without stopwords = ' + str(len(mail_clean)) + ' words')"
      ],
      "execution_count": null,
      "outputs": [
        {
          "output_type": "stream",
          "text": [
            "['ena', 'sale', 'hpl', 'updat', 'project', 'status', 'base', 'new', 'report', 'scott', 'mill', 'ran', 'sitara', 'come', 'follow', 'counterparti', 'one', 'ena', 'sell', 'gas', 'hpl', 'pipe', 'altrad', 'transact', 'l', 'l', 'c', 'gulf', 'gas', 'util', 'compani', 'brazoria', 'citi', 'panther', 'pipelin', 'inc', 'central', 'illinoi', 'light', 'compani', 'praxair', 'inc', 'central', 'power', 'light', 'compani', 'reliant', 'energi', 'entex', 'ce', 'equistar', 'chemic', 'lp', 'reliant', 'energi', 'hl', 'p', 'corpus', 'christi', 'gas', 'market', 'lp', 'southern', 'union', 'compani', 'h', 'gas', 'compani', 'inc', 'texa', 'util', 'fuel', 'compani', 'duke', 'energi', 'field', 'servic', 'inc', 'txu', 'gas', 'distribut', 'entex', 'gas', 'market', 'compani', 'union', 'carbid', 'corpor', 'equistar', 'chemic', 'lp', 'unit', 'gas', 'transmiss', 'compani', 'inc', 'sinc', 'sure', 'exact', 'get', 'enter', 'sitara', 'pat', 'clyne', 'suggest', 'check', 'daren', 'farmer', 'make', 'sure', 'miss', 'someth', 'wait', 'respons', 'mari', 'smith', 'begin', 'gather', 'contractu', 'volum', 'abov', 'contract', 'forward', 'cheryl', 'dudley', 'hou', 'ect', '05', '10', '2000', '07', '56', 'cheryl', 'king', '05', '08', '2000', '04', '11', 'pm', 'send', 'cheryl', 'dudley', 'daren', 'j', 'farmer', 'hou', 'ect', 'ect', 'mari', 'smith', 'hou', 'ect', 'ect', 'cc', 'ena', 'sale', 'hpl', 'work', 'project', 'brenda', 'herod', 'wonder', 'one', 'could', 'tell', 'right', 'track', 'get', 'everyth', 'look', 'tri', 'draft', 'long', 'term', 'transport', 'storag', 'agreement', 'ena', 'hplc', 'allow', 'ena', 'move', 'gas', 'market', 'order', 'accomplish', 'need', 'know', 'sale', 'custom', 'ena', 'hpl', 'pipe', 'scott', 'mill', 'run', 'report', 'sitara', 'show', 'ena', 'buy', 'sell', 'activ', 'hpl', 'sinc', '7', '99', 'elimin', 'buy', 'desk', 'desk', 'deal', 'give', 'everyth', 'need', 'buy', 'sell', 'deal', 'ena', 'hpl', 'pipe', 'show', 'sitara', 'someon', 'mention', 'someth', 'deal', 'hpl', 'transport', 'gas', 'behalf', 'ena', 'sell', 'custom', 'spot', 'deal', 'like', 'happen', 'would', 'show', 'sitara', 'anyth', 'els', 'miss', 'real', 'familiar', 'deal', 'happen', 'nowaday', 'veri', 'recept', 'ani', 'idea', 'suggest', 'help', 'offer', 'thank', 'advanc']\n",
            "\n",
            "Length single email without stopwords = 259 words\n"
          ],
          "name": "stdout"
        }
      ]
    },
    {
      "cell_type": "markdown",
      "metadata": {
        "id": "sExljiCWu4wz"
      },
      "source": [
        "## B. Preprocessing all emails"
      ]
    },
    {
      "cell_type": "markdown",
      "metadata": {
        "id": "9Qs_OPuCu4wz"
      },
      "source": [
        "### Functions definition "
      ]
    },
    {
      "cell_type": "code",
      "metadata": {
        "collapsed": true,
        "id": "PMmjWfxZu4wz"
      },
      "source": [
        "def preprocess(sentence):\n",
        "    \"\"\"\n",
        "    Tokenizes, lowers, and stems\n",
        "    \"\"\"\n",
        "    stemmer = SnowballStemmer('english')\n",
        "    lemmatizer = WordNetLemmatizer()\n",
        "\n",
        "    # Lower the sentence\n",
        "    lower_mail = sentence.lower()\n",
        "\n",
        "    # Tokenize it \n",
        "    tokenized_mail = word_tokenize(lower_mail)\n",
        "\n",
        "    # Get POS for each word\n",
        "    pos_tagged_mail = nltk.pos_tag(tokenized_mail)\n",
        "\n",
        "    # Lemmatize\n",
        "    lemmatized_mail = [lemmatizer.lemmatize(word[0],get_wordnet_pos(word[1])) for word in pos_tagged_mail]\n",
        "\n",
        "    # Stem\n",
        "    stemmed_email = [stemmer.stem(word) for word in lemmatized_mail]\n",
        "\n",
        "    return stemmed_email\n"
      ],
      "execution_count": null,
      "outputs": []
    },
    {
      "cell_type": "code",
      "metadata": {
        "colab": {
          "base_uri": "https://localhost:8080/"
        },
        "id": "jRDZu2x17aJt",
        "outputId": "3d517961-2049-4fdf-88e3-df72fef633ab"
      },
      "source": [
        "print(preprocess(\"Hello, my name is toto\"))"
      ],
      "execution_count": null,
      "outputs": [
        {
          "output_type": "stream",
          "text": [
            "['hello', ',', 'my', 'name', 'be', 'toto']\n"
          ],
          "name": "stdout"
        }
      ]
    },
    {
      "cell_type": "markdown",
      "metadata": {
        "id": "3m1sL-wcu4w2"
      },
      "source": [
        "## IV. Vectorization"
      ]
    },
    {
      "cell_type": "code",
      "metadata": {
        "colab": {
          "base_uri": "https://localhost:8080/",
          "height": 204
        },
        "id": "G-XuFtR57n1e",
        "outputId": "d3f67180-6535-4581-8c49-631438222c13"
      },
      "source": [
        "hams.head()"
      ],
      "execution_count": null,
      "outputs": [
        {
          "output_type": "execute_result",
          "data": {
            "text/html": [
              "<div>\n",
              "<style scoped>\n",
              "    .dataframe tbody tr th:only-of-type {\n",
              "        vertical-align: middle;\n",
              "    }\n",
              "\n",
              "    .dataframe tbody tr th {\n",
              "        vertical-align: top;\n",
              "    }\n",
              "\n",
              "    .dataframe thead th {\n",
              "        text-align: right;\n",
              "    }\n",
              "</style>\n",
              "<table border=\"1\" class=\"dataframe\">\n",
              "  <thead>\n",
              "    <tr style=\"text-align: right;\">\n",
              "      <th></th>\n",
              "      <th>type</th>\n",
              "      <th>text</th>\n",
              "    </tr>\n",
              "  </thead>\n",
              "  <tbody>\n",
              "    <tr>\n",
              "      <th>0</th>\n",
              "      <td>ham</td>\n",
              "      <td>Subject: ena sales on hpl just to update you o...</td>\n",
              "    </tr>\n",
              "    <tr>\n",
              "      <th>1</th>\n",
              "      <td>ham</td>\n",
              "      <td>Subject: 98 - 6736 &amp; 98 - 9638 for 1997 ( ua 4...</td>\n",
              "    </tr>\n",
              "    <tr>\n",
              "      <th>2</th>\n",
              "      <td>ham</td>\n",
              "      <td>Subject: hpl nominations for december 28 , 199...</td>\n",
              "    </tr>\n",
              "    <tr>\n",
              "      <th>3</th>\n",
              "      <td>ham</td>\n",
              "      <td>Subject: revised nom - kcs resources daren , i...</td>\n",
              "    </tr>\n",
              "    <tr>\n",
              "      <th>4</th>\n",
              "      <td>ham</td>\n",
              "      <td>Subject: new production - sitara deals needed ...</td>\n",
              "    </tr>\n",
              "  </tbody>\n",
              "</table>\n",
              "</div>"
            ],
            "text/plain": [
              "  type                                               text\n",
              "0  ham  Subject: ena sales on hpl just to update you o...\n",
              "1  ham  Subject: 98 - 6736 & 98 - 9638 for 1997 ( ua 4...\n",
              "2  ham  Subject: hpl nominations for december 28 , 199...\n",
              "3  ham  Subject: revised nom - kcs resources daren , i...\n",
              "4  ham  Subject: new production - sitara deals needed ..."
            ]
          },
          "metadata": {
            "tags": []
          },
          "execution_count": 36
        }
      ]
    },
    {
      "cell_type": "markdown",
      "metadata": {
        "id": "CVpiIkafu4w2"
      },
      "source": [
        "# TFIDF"
      ]
    },
    {
      "cell_type": "code",
      "metadata": {
        "collapsed": true,
        "id": "bjU0j8xJu4w3"
      },
      "source": [
        "#clean text ie preprocess + remove stop words and punctuation\n",
        "def clean_text(text):\n",
        "    text_preprocessed = preprocess(text)\n",
        "    #clean_mail_tmp = [word for word in text_preprocessed if word not in stoplist]\n",
        "    clean_mail = [word for word in text_preprocessed if word not in stop_punctuation and not word in stoplist]\n",
        "    return ' '.join(clean_mail)"
      ],
      "execution_count": null,
      "outputs": []
    },
    {
      "cell_type": "code",
      "metadata": {
        "colab": {
          "base_uri": "https://localhost:8080/"
        },
        "id": "ZbHT8V-bFnRP",
        "outputId": "04f517b9-566e-4fd0-bbcb-7745bb8ece79"
      },
      "source": [
        "print(clean_text(\"Hello, my name is toto\"))"
      ],
      "execution_count": null,
      "outputs": [
        {
          "output_type": "stream",
          "text": [
            "hello name toto\n"
          ],
          "name": "stdout"
        }
      ]
    },
    {
      "cell_type": "code",
      "metadata": {
        "id": "9-2siftQu4w3",
        "scrolled": true
      },
      "source": [
        "# creating a new column with cleaned content for hams\n",
        "hams[\"clean_content\"]=hams.text.apply(clean_text)\n"
      ],
      "execution_count": null,
      "outputs": []
    },
    {
      "cell_type": "code",
      "metadata": {
        "id": "RWO8h9D7hoBT"
      },
      "source": [
        "# creating a new column with cleaned content for spams\n",
        "spams[\"clean_content\"]=spams.text.apply(clean_text)"
      ],
      "execution_count": null,
      "outputs": []
    },
    {
      "cell_type": "code",
      "metadata": {
        "colab": {
          "base_uri": "https://localhost:8080/",
          "height": 204
        },
        "id": "w10Mb3z7IwZg",
        "outputId": "d2c55f0c-d3b6-40e0-d446-d94cd24cca6c"
      },
      "source": [
        "hams.head(5)"
      ],
      "execution_count": null,
      "outputs": [
        {
          "output_type": "execute_result",
          "data": {
            "text/html": [
              "<div>\n",
              "<style scoped>\n",
              "    .dataframe tbody tr th:only-of-type {\n",
              "        vertical-align: middle;\n",
              "    }\n",
              "\n",
              "    .dataframe tbody tr th {\n",
              "        vertical-align: top;\n",
              "    }\n",
              "\n",
              "    .dataframe thead th {\n",
              "        text-align: right;\n",
              "    }\n",
              "</style>\n",
              "<table border=\"1\" class=\"dataframe\">\n",
              "  <thead>\n",
              "    <tr style=\"text-align: right;\">\n",
              "      <th></th>\n",
              "      <th>type</th>\n",
              "      <th>text</th>\n",
              "      <th>clean_content</th>\n",
              "    </tr>\n",
              "  </thead>\n",
              "  <tbody>\n",
              "    <tr>\n",
              "      <th>0</th>\n",
              "      <td>ham</td>\n",
              "      <td>Subject: ena sales on hpl just to update you o...</td>\n",
              "      <td>ena sale hpl updat project status base new rep...</td>\n",
              "    </tr>\n",
              "    <tr>\n",
              "      <th>1</th>\n",
              "      <td>ham</td>\n",
              "      <td>Subject: 98 - 6736 &amp; 98 - 9638 for 1997 ( ua 4...</td>\n",
              "      <td>98 6736 98 9638 1997 ua 4 issu abov refer mete...</td>\n",
              "    </tr>\n",
              "    <tr>\n",
              "      <th>2</th>\n",
              "      <td>ham</td>\n",
              "      <td>Subject: hpl nominations for december 28 , 199...</td>\n",
              "      <td>hpl nomin decemb 28 1999 see attach file hpll ...</td>\n",
              "    </tr>\n",
              "    <tr>\n",
              "      <th>3</th>\n",
              "      <td>ham</td>\n",
              "      <td>Subject: revised nom - kcs resources daren , i...</td>\n",
              "      <td>revis nom kcs resourc daren bob forward robert...</td>\n",
              "    </tr>\n",
              "    <tr>\n",
              "      <th>4</th>\n",
              "      <td>ham</td>\n",
              "      <td>Subject: new production - sitara deals needed ...</td>\n",
              "      <td>new product sitara deal need daren fyi bob for...</td>\n",
              "    </tr>\n",
              "  </tbody>\n",
              "</table>\n",
              "</div>"
            ],
            "text/plain": [
              "  type  ...                                      clean_content\n",
              "0  ham  ...  ena sale hpl updat project status base new rep...\n",
              "1  ham  ...  98 6736 98 9638 1997 ua 4 issu abov refer mete...\n",
              "2  ham  ...  hpl nomin decemb 28 1999 see attach file hpll ...\n",
              "3  ham  ...  revis nom kcs resourc daren bob forward robert...\n",
              "4  ham  ...  new product sitara deal need daren fyi bob for...\n",
              "\n",
              "[5 rows x 3 columns]"
            ]
          },
          "metadata": {
            "tags": []
          },
          "execution_count": 41
        }
      ]
    },
    {
      "cell_type": "code",
      "metadata": {
        "id": "2OfA2VFjLLP8"
      },
      "source": [
        "from sklearn.feature_extraction.text import TfidfVectorizer"
      ],
      "execution_count": null,
      "outputs": []
    },
    {
      "cell_type": "code",
      "metadata": {
        "collapsed": true,
        "id": "Y7M1jCR2u4w3"
      },
      "source": [
        "# define tfidf for hams, apply tranform et get feature names\n",
        "tfidf = TfidfVectorizer(use_idf=True)\n",
        "X_hams = tfidf.fit_transform(hams.clean_content)\n",
        "features_hams = tfidf.get_feature_names()"
      ],
      "execution_count": null,
      "outputs": []
    },
    {
      "cell_type": "code",
      "metadata": {
        "colab": {
          "base_uri": "https://localhost:8080/"
        },
        "id": "wQ2WHMtMn5K-",
        "outputId": "c05911fd-ccc1-4780-dbc5-252c7393fade"
      },
      "source": [
        "# get most important words\n",
        "df_hams = pd.DataFrame(X_hams[0].T.todense(), index=features_hams, columns=[\"TF-IDF\"])\n",
        "df_hams = df_hams.sort_values('TF-IDF', ascending=False)\n",
        "print (df_hams.head(15))"
      ],
      "execution_count": null,
      "outputs": [
        {
          "output_type": "stream",
          "text": [
            "            TF-IDF\n",
            "ena       0.340768\n",
            "compani   0.242816\n",
            "hpl       0.239767\n",
            "gas       0.237789\n",
            "sitara    0.217198\n",
            "inc       0.195207\n",
            "lp        0.167581\n",
            "cheryl    0.166892\n",
            "pipe      0.150991\n",
            "sell      0.143602\n",
            "dudley    0.138881\n",
            "deal      0.133625\n",
            "equistar  0.126106\n",
            "ect       0.123440\n",
            "chemic    0.120421\n"
          ],
          "name": "stdout"
        }
      ]
    },
    {
      "cell_type": "code",
      "metadata": {
        "id": "LwyQYy2Ao7qy"
      },
      "source": [
        "# define tfidf for spams, apply tranform et get feature names\n",
        "\n",
        "X_spams = tfidf.fit_transform(spams.clean_content)\n",
        "features_spams = tfidf.get_feature_names()"
      ],
      "execution_count": null,
      "outputs": []
    },
    {
      "cell_type": "code",
      "metadata": {
        "colab": {
          "base_uri": "https://localhost:8080/"
        },
        "id": "kJdiY3C3pIHW",
        "outputId": "4bd7aa6d-19e8-4744-85a0-b8acb10e9445"
      },
      "source": [
        "# get most important words\n",
        "df_spams = pd.DataFrame(X_spams[0].T.todense(), index=features_spams, columns=[\"TF-IDF\"])\n",
        "df_spams = df_spams.sort_values('TF-IDF', ascending=False)\n",
        "print (df_spams.head(15))"
      ],
      "execution_count": null,
      "outputs": [
        {
          "output_type": "stream",
          "text": [
            "                 TF-IDF\n",
            "naturalgolden  0.174546\n",
            "meganbang      0.174546\n",
            "ole            0.169344\n",
            "shoehorn       0.169344\n",
            "bld            0.165308\n",
            "intervenor     0.159224\n",
            "look           0.157819\n",
            "pietism        0.156809\n",
            "honeycomb      0.156809\n",
            "lookup         0.154679\n",
            "skeleton       0.154679\n",
            "retract        0.152774\n",
            "res            0.152774\n",
            "scaup          0.152774\n",
            "brandywin      0.152774\n"
          ],
          "name": "stdout"
        }
      ]
    },
    {
      "cell_type": "markdown",
      "metadata": {
        "id": "CA6ZD0rnu4w5"
      },
      "source": [
        "# Let's try to use word2vec"
      ]
    },
    {
      "cell_type": "markdown",
      "metadata": {
        "id": "8k9qswKru4w5"
      },
      "source": [
        "Useful link for Word2Vec API : https://radimrehurek.com/gensim/models/word2vec.html"
      ]
    },
    {
      "cell_type": "code",
      "metadata": {
        "id": "H39ilKd5rPIh"
      },
      "source": [
        "w2v_model = Word2Vec(window=4,\n",
        "                     min_count=20,\n",
        "                     sample=6e-5, \n",
        "                     alpha=0.03, \n",
        "                     min_alpha=0.0007, \n",
        "                     negative=20,\n",
        "                     size=25)"
      ],
      "execution_count": null,
      "outputs": []
    },
    {
      "cell_type": "code",
      "metadata": {
        "collapsed": true,
        "id": "qRPszyZ5u4w5"
      },
      "source": [
        "#TODO : create a Word2vect space using all ham emails\n",
        "#content_w2v = Word2Vec(['My','name','is','toto','and','i','am','glad','to','be','here'], size=20, window=5)\n",
        "\n",
        "#word2vec = Word2Vec(['My','name','is','toto','and','i','am','glad','to','be','here'], min_count=2)\n",
        "\n",
        "w2v_model.build_vocab([word_tokenize(sentence) for sentence in hams.clean_content])"
      ],
      "execution_count": null,
      "outputs": []
    },
    {
      "cell_type": "code",
      "metadata": {
        "colab": {
          "base_uri": "https://localhost:8080/",
          "height": 215
        },
        "id": "heMc04tEu4w5",
        "outputId": "8a6ab858-38e4-4e18-c669-05f3eaab8a74"
      },
      "source": [
        "#TODO: find most similar word for hello\n",
        "#word2vec.wv.most_similar('name')\n",
        "\n",
        "vocabulary = word2vec.wv.vocab\n",
        "print(vocabulary)"
      ],
      "execution_count": null,
      "outputs": [
        {
          "output_type": "error",
          "ename": "NameError",
          "evalue": "ignored",
          "traceback": [
            "\u001b[0;31m---------------------------------------------------------------------------\u001b[0m",
            "\u001b[0;31mNameError\u001b[0m                                 Traceback (most recent call last)",
            "\u001b[0;32m<ipython-input-49-f6c1d85b4e8b>\u001b[0m in \u001b[0;36m<module>\u001b[0;34m()\u001b[0m\n\u001b[1;32m      2\u001b[0m \u001b[0;31m#word2vec.wv.most_similar('name')\u001b[0m\u001b[0;34m\u001b[0m\u001b[0;34m\u001b[0m\u001b[0;34m\u001b[0m\u001b[0m\n\u001b[1;32m      3\u001b[0m \u001b[0;34m\u001b[0m\u001b[0m\n\u001b[0;32m----> 4\u001b[0;31m \u001b[0mvocabulary\u001b[0m \u001b[0;34m=\u001b[0m \u001b[0mword2vec\u001b[0m\u001b[0;34m.\u001b[0m\u001b[0mwv\u001b[0m\u001b[0;34m.\u001b[0m\u001b[0mvocab\u001b[0m\u001b[0;34m\u001b[0m\u001b[0;34m\u001b[0m\u001b[0m\n\u001b[0m\u001b[1;32m      5\u001b[0m \u001b[0mprint\u001b[0m\u001b[0;34m(\u001b[0m\u001b[0mvocabulary\u001b[0m\u001b[0;34m)\u001b[0m\u001b[0;34m\u001b[0m\u001b[0;34m\u001b[0m\u001b[0m\n",
            "\u001b[0;31mNameError\u001b[0m: name 'word2vec' is not defined"
          ]
        }
      ]
    },
    {
      "cell_type": "code",
      "metadata": {
        "id": "Bjg9b2NMu4w6",
        "colab": {
          "base_uri": "https://localhost:8080/"
        },
        "outputId": "b54d90a3-3f9c-416a-ab99-7696672e3b7c"
      },
      "source": [
        "#TODO: find most similar word for pay\n",
        "w2v_model.wv.most_similar('enron')"
      ],
      "execution_count": null,
      "outputs": [
        {
          "output_type": "execute_result",
          "data": {
            "text/plain": [
              "[('rimer', 0.6868952512741089),\n",
              " ('989', 0.6628721952438354),\n",
              " ('677', 0.657296895980835),\n",
              " ('669', 0.6524802446365356),\n",
              " ('handlowej', 0.6521056294441223),\n",
              " ('eml', 0.6357815861701965),\n",
              " ('microwav', 0.6342266798019409),\n",
              " ('circl', 0.6266490817070007),\n",
              " ('luci', 0.6257796287536621),\n",
              " ('dyersdal', 0.6244508028030396)]"
            ]
          },
          "metadata": {
            "tags": []
          },
          "execution_count": 53
        }
      ]
    },
    {
      "cell_type": "code",
      "metadata": {
        "id": "DPGfgH2_u4w6",
        "colab": {
          "base_uri": "https://localhost:8080/",
          "height": 324
        },
        "outputId": "3284c592-055d-48cf-b36e-8c9d1cb70ef9"
      },
      "source": [
        "#TODO: find most similar word for a punctuation\n",
        "w2v_model.wv.most_similar('.')"
      ],
      "execution_count": null,
      "outputs": [
        {
          "output_type": "error",
          "ename": "KeyError",
          "evalue": "ignored",
          "traceback": [
            "\u001b[0;31m---------------------------------------------------------------------------\u001b[0m",
            "\u001b[0;31mKeyError\u001b[0m                                  Traceback (most recent call last)",
            "\u001b[0;32m<ipython-input-54-ab05c860c1b4>\u001b[0m in \u001b[0;36m<module>\u001b[0;34m()\u001b[0m\n\u001b[1;32m      1\u001b[0m \u001b[0;31m#TODO: find most similar word for a punctuation\u001b[0m\u001b[0;34m\u001b[0m\u001b[0;34m\u001b[0m\u001b[0;34m\u001b[0m\u001b[0m\n\u001b[0;32m----> 2\u001b[0;31m \u001b[0mw2v_model\u001b[0m\u001b[0;34m.\u001b[0m\u001b[0mwv\u001b[0m\u001b[0;34m.\u001b[0m\u001b[0mmost_similar\u001b[0m\u001b[0;34m(\u001b[0m\u001b[0;34m'.'\u001b[0m\u001b[0;34m)\u001b[0m\u001b[0;34m\u001b[0m\u001b[0;34m\u001b[0m\u001b[0m\n\u001b[0m",
            "\u001b[0;32m/usr/local/lib/python3.6/dist-packages/gensim/models/keyedvectors.py\u001b[0m in \u001b[0;36mmost_similar\u001b[0;34m(self, positive, negative, topn, restrict_vocab, indexer)\u001b[0m\n\u001b[1;32m    529\u001b[0m                 \u001b[0mmean\u001b[0m\u001b[0;34m.\u001b[0m\u001b[0mappend\u001b[0m\u001b[0;34m(\u001b[0m\u001b[0mweight\u001b[0m \u001b[0;34m*\u001b[0m \u001b[0mword\u001b[0m\u001b[0;34m)\u001b[0m\u001b[0;34m\u001b[0m\u001b[0;34m\u001b[0m\u001b[0m\n\u001b[1;32m    530\u001b[0m             \u001b[0;32melse\u001b[0m\u001b[0;34m:\u001b[0m\u001b[0;34m\u001b[0m\u001b[0;34m\u001b[0m\u001b[0m\n\u001b[0;32m--> 531\u001b[0;31m                 \u001b[0mmean\u001b[0m\u001b[0;34m.\u001b[0m\u001b[0mappend\u001b[0m\u001b[0;34m(\u001b[0m\u001b[0mweight\u001b[0m \u001b[0;34m*\u001b[0m \u001b[0mself\u001b[0m\u001b[0;34m.\u001b[0m\u001b[0mword_vec\u001b[0m\u001b[0;34m(\u001b[0m\u001b[0mword\u001b[0m\u001b[0;34m,\u001b[0m \u001b[0muse_norm\u001b[0m\u001b[0;34m=\u001b[0m\u001b[0;32mTrue\u001b[0m\u001b[0;34m)\u001b[0m\u001b[0;34m)\u001b[0m\u001b[0;34m\u001b[0m\u001b[0;34m\u001b[0m\u001b[0m\n\u001b[0m\u001b[1;32m    532\u001b[0m                 \u001b[0;32mif\u001b[0m \u001b[0mword\u001b[0m \u001b[0;32min\u001b[0m \u001b[0mself\u001b[0m\u001b[0;34m.\u001b[0m\u001b[0mvocab\u001b[0m\u001b[0;34m:\u001b[0m\u001b[0;34m\u001b[0m\u001b[0;34m\u001b[0m\u001b[0m\n\u001b[1;32m    533\u001b[0m                     \u001b[0mall_words\u001b[0m\u001b[0;34m.\u001b[0m\u001b[0madd\u001b[0m\u001b[0;34m(\u001b[0m\u001b[0mself\u001b[0m\u001b[0;34m.\u001b[0m\u001b[0mvocab\u001b[0m\u001b[0;34m[\u001b[0m\u001b[0mword\u001b[0m\u001b[0;34m]\u001b[0m\u001b[0;34m.\u001b[0m\u001b[0mindex\u001b[0m\u001b[0;34m)\u001b[0m\u001b[0;34m\u001b[0m\u001b[0;34m\u001b[0m\u001b[0m\n",
            "\u001b[0;32m/usr/local/lib/python3.6/dist-packages/gensim/models/keyedvectors.py\u001b[0m in \u001b[0;36mword_vec\u001b[0;34m(self, word, use_norm)\u001b[0m\n\u001b[1;32m    450\u001b[0m             \u001b[0;32mreturn\u001b[0m \u001b[0mresult\u001b[0m\u001b[0;34m\u001b[0m\u001b[0;34m\u001b[0m\u001b[0m\n\u001b[1;32m    451\u001b[0m         \u001b[0;32melse\u001b[0m\u001b[0;34m:\u001b[0m\u001b[0;34m\u001b[0m\u001b[0;34m\u001b[0m\u001b[0m\n\u001b[0;32m--> 452\u001b[0;31m             \u001b[0;32mraise\u001b[0m \u001b[0mKeyError\u001b[0m\u001b[0;34m(\u001b[0m\u001b[0;34m\"word '%s' not in vocabulary\"\u001b[0m \u001b[0;34m%\u001b[0m \u001b[0mword\u001b[0m\u001b[0;34m)\u001b[0m\u001b[0;34m\u001b[0m\u001b[0;34m\u001b[0m\u001b[0m\n\u001b[0m\u001b[1;32m    453\u001b[0m \u001b[0;34m\u001b[0m\u001b[0m\n\u001b[1;32m    454\u001b[0m     \u001b[0;32mdef\u001b[0m \u001b[0mget_vector\u001b[0m\u001b[0;34m(\u001b[0m\u001b[0mself\u001b[0m\u001b[0;34m,\u001b[0m \u001b[0mword\u001b[0m\u001b[0;34m)\u001b[0m\u001b[0;34m:\u001b[0m\u001b[0;34m\u001b[0m\u001b[0;34m\u001b[0m\u001b[0m\n",
            "\u001b[0;31mKeyError\u001b[0m: \"word '.' not in vocabulary\""
          ]
        }
      ]
    },
    {
      "cell_type": "code",
      "metadata": {
        "id": "TEKzHD3Ju4w6",
        "colab": {
          "base_uri": "https://localhost:8080/"
        },
        "outputId": "f9e2bdef-1549-42a3-adba-f04a5e699ca6"
      },
      "source": [
        "#TODO: show the vector of one word\n",
        "w2v_model['enron']"
      ],
      "execution_count": null,
      "outputs": [
        {
          "output_type": "stream",
          "text": [
            "/usr/local/lib/python3.6/dist-packages/ipykernel_launcher.py:2: DeprecationWarning: Call to deprecated `__getitem__` (Method will be removed in 4.0.0, use self.wv.__getitem__() instead).\n",
            "  \n"
          ],
          "name": "stderr"
        },
        {
          "output_type": "execute_result",
          "data": {
            "text/plain": [
              "array([ 0.01555214,  0.01417663, -0.01815792,  0.00565587,  0.00616158,\n",
              "       -0.01404526, -0.01383935,  0.01774728,  0.01530855, -0.00327919,\n",
              "        0.00025413, -0.00563626,  0.01901538,  0.00717324, -0.00925716,\n",
              "       -0.00365147, -0.01569095,  0.00353409, -0.01126589,  0.00028959,\n",
              "       -0.01234843,  0.0190894 ,  0.00212715, -0.01598966,  0.01321758],\n",
              "      dtype=float32)"
            ]
          },
          "metadata": {
            "tags": []
          },
          "execution_count": 55
        }
      ]
    },
    {
      "cell_type": "code",
      "metadata": {
        "id": "mVSKgoGmu4w6",
        "colab": {
          "base_uri": "https://localhost:8080/",
          "height": 89
        },
        "outputId": "b3bf8121-2476-404b-f939-be2ba216a1a2"
      },
      "source": [
        "#TODO: find the word which doesn't match in {pay, money, cash, start}\n",
        "w2v_model.wv.doesnt_match('pay money cash start'.split(' '))"
      ],
      "execution_count": null,
      "outputs": [
        {
          "output_type": "stream",
          "text": [
            "/usr/local/lib/python3.6/dist-packages/gensim/models/keyedvectors.py:895: FutureWarning: arrays to stack must be passed as a \"sequence\" type such as list or tuple. Support for non-sequence iterables such as generators is deprecated as of NumPy 1.16 and will raise an error in the future.\n",
            "  vectors = vstack(self.word_vec(word, use_norm=True) for word in used_words).astype(REAL)\n"
          ],
          "name": "stderr"
        },
        {
          "output_type": "execute_result",
          "data": {
            "application/vnd.google.colaboratory.intrinsic+json": {
              "type": "string"
            },
            "text/plain": [
              "'cash'"
            ]
          },
          "metadata": {
            "tags": []
          },
          "execution_count": 56
        }
      ]
    },
    {
      "cell_type": "code",
      "metadata": {
        "colab": {
          "base_uri": "https://localhost:8080/"
        },
        "id": "sN8gg-4EuCdR",
        "outputId": "936d1a8e-e395-4960-e7d5-0e97b6f91af8"
      },
      "source": [
        "# similarity\n",
        "w2v_model.wv.similarity(\"enron\", 'nippon')"
      ],
      "execution_count": null,
      "outputs": [
        {
          "output_type": "execute_result",
          "data": {
            "text/plain": [
              "0.084869556"
            ]
          },
          "metadata": {
            "tags": []
          },
          "execution_count": 57
        }
      ]
    },
    {
      "cell_type": "markdown",
      "metadata": {
        "id": "HP20DXgPS15y"
      },
      "source": [
        ""
      ]
    },
    {
      "cell_type": "markdown",
      "metadata": {
        "id": "55jyHeoPS_YL"
      },
      "source": [
        "# V - Classification\n"
      ]
    },
    {
      "cell_type": "markdown",
      "metadata": {
        "id": "WCPubM3bTIAL"
      },
      "source": [
        "## 1. Split data for spam detection learning"
      ]
    },
    {
      "cell_type": "markdown",
      "metadata": {
        "id": "yOZQNQhjTXDH"
      },
      "source": [
        "We now split the data between train and test (proportion 80%/20%)\n",
        "\n",
        ">**reminder**\n",
        "<br/>\n",
        "- Training set : data on which we are going to learn what is a spam and what is a ham\n",
        "- Testing set : data that we will keep isolated, and on which we will test the algorithm. the model will never have seen these data when working on it"
      ]
    },
    {
      "cell_type": "markdown",
      "metadata": {
        "id": "wRjEvV_rwZ1B"
      },
      "source": [
        "![54a0d00e-9768-4862-bac8-d6b98c9f2907.png](data:image/png;base64,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)"
      ]
    },
    {
      "cell_type": "code",
      "metadata": {
        "id": "lEobDVx07fqw"
      },
      "source": [
        "hams_list = hams.clean_content.to_list()\n",
        "spams_list = spams.clean_content.to_list()"
      ],
      "execution_count": null,
      "outputs": []
    },
    {
      "cell_type": "markdown",
      "metadata": {
        "id": "0JV4Y6k8TrSn"
      },
      "source": [
        "Add its label to each mail"
      ]
    },
    {
      "cell_type": "code",
      "metadata": {
        "id": "xLH8D5SRTWxf"
      },
      "source": [
        "# TODO : Split data into train & test using train_test_split function\n",
        "\n",
        "from sklearn.model_selection import train_test_split\n",
        "\n",
        "train_hams, test_hams = train_test_split(hams_list, train_size=0.8, test_size=0.2, shuffle=False)\n",
        "train_spams, test_spams = train_test_split(spams_list, train_size=0.8, test_size=0.2, shuffle=False)\n",
        "\n"
      ],
      "execution_count": null,
      "outputs": []
    },
    {
      "cell_type": "code",
      "metadata": {
        "id": "zS9POBjiTHdW",
        "colab": {
          "base_uri": "https://localhost:8080/"
        },
        "outputId": "3b8dada6-ec00-4529-a70e-9c1062443468"
      },
      "source": [
        "# TODO create a feature and label vector for all mails\n",
        "\n",
        "train_set = [(mail,'spam') for mail in train_spams] + [(mail,'ham') for mail in train_hams]\n",
        "print('Train set size = ' + str(len(train_set)) + ' emails')\n",
        "\n",
        "test_set = [(mail,'spam') for mail in test_spams] + [(mail,'ham') for mail in test_hams]\n",
        "print('Test set size = ' + str(len(test_set)) + ' emails')\n",
        "\n"
      ],
      "execution_count": null,
      "outputs": [
        {
          "output_type": "stream",
          "text": [
            "Train set size = 26972 emails\n",
            "Test set size = 6744 emails\n"
          ],
          "name": "stdout"
        }
      ]
    },
    {
      "cell_type": "code",
      "metadata": {
        "id": "mTBBI4Wd-0f9"
      },
      "source": [
        "# tokenize each mail\n",
        "def get_features(text):\n",
        "    return {word: True for word in word_tokenize(text)}"
      ],
      "execution_count": null,
      "outputs": []
    },
    {
      "cell_type": "code",
      "metadata": {
        "colab": {
          "base_uri": "https://localhost:8080/"
        },
        "id": "PfAUpNXP8hLq",
        "outputId": "02bc6e69-54a1-4003-e605-d1a643b7e176"
      },
      "source": [
        "# extract the features\n",
        "all_features_train = [(get_features(email), label) for (email, label) in train_set]\n",
        "print ('Collected ' + str(len(all_features_train)) + ' feature sets')\n",
        "\n",
        "# extract the features\n",
        "all_features_test = [(get_features(email), label) for (email, label) in test_set]\n",
        "print ('Collected ' + str(len(all_features_test)) + ' feature sets')"
      ],
      "execution_count": null,
      "outputs": [
        {
          "output_type": "stream",
          "text": [
            "Collected 26972 feature sets\n",
            "Collected 6744 feature sets\n"
          ],
          "name": "stdout"
        }
      ]
    },
    {
      "cell_type": "code",
      "metadata": {
        "colab": {
          "base_uri": "https://localhost:8080/"
        },
        "id": "reUuiEnZ_rFL",
        "outputId": "f85bf20c-37a4-4f92-cdab-9caf5c68bd8c"
      },
      "source": [
        "all_features_train[1]"
      ],
      "execution_count": null,
      "outputs": [
        {
          "output_type": "execute_result",
          "data": {
            "text/plain": [
              "({'%': True,\n",
              "  'clck': True,\n",
              "  'complet': True,\n",
              "  'confirm': True,\n",
              "  'ebay': True,\n",
              "  'express': True,\n",
              "  'feder': True,\n",
              "  'fedex': True,\n",
              "  'fortun': True,\n",
              "  'futur': True,\n",
              "  'januari': True,\n",
              "  'learn': True,\n",
              "  'like': True,\n",
              "  'mail': True,\n",
              "  'make': True,\n",
              "  'money': True,\n",
              "  'number': True,\n",
              "  'order': True,\n",
              "  'random': True,\n",
              "  'receiv': True,\n",
              "  'regist': True,\n",
              "  'ship': True,\n",
              "  'softwar': True,\n",
              "  'system': True,\n",
              "  'thank': True,\n",
              "  'track': True,\n",
              "  'turnkey': True,\n",
              "  'turori': True,\n",
              "  'userid': True,\n",
              "  'via': True,\n",
              "  'video': True,\n",
              "  'want': True,\n",
              "  'word': True,\n",
              "  'would': True},\n",
              " 'spam')"
            ]
          },
          "metadata": {
            "tags": []
          },
          "execution_count": 101
        }
      ]
    },
    {
      "cell_type": "code",
      "metadata": {
        "id": "vFqmwFr0AoTo"
      },
      "source": [
        "train_set_NB = [(feature[0],feature[1]) for feature in all_features_train]\n",
        "\n",
        "test_set_NB = [(feature[0],feature[1]) for feature in all_features_test]"
      ],
      "execution_count": null,
      "outputs": []
    },
    {
      "cell_type": "code",
      "metadata": {
        "colab": {
          "base_uri": "https://localhost:8080/"
        },
        "id": "obg3h43nBVjT",
        "outputId": "a2af0491-bcf5-4270-99a9-ff10bdcd17d6"
      },
      "source": [
        "train_set_NB[0]"
      ],
      "execution_count": null,
      "outputs": [
        {
          "output_type": "execute_result",
          "data": {
            "text/plain": [
              "({'acc': True,\n",
              "  'add': True,\n",
              "  'aitken': True,\n",
              "  'amaz': True,\n",
              "  'anyon': True,\n",
              "  'babe': True,\n",
              "  'bio': True,\n",
              "  'biz': True,\n",
              "  'bld': True,\n",
              "  'brand': True,\n",
              "  'brandywin': True,\n",
              "  'browser': True,\n",
              "  'byrn': True,\n",
              "  'cam': True,\n",
              "  'catatonia': True,\n",
              "  'catfish': True,\n",
              "  'com': True,\n",
              "  'come': True,\n",
              "  'companion': True,\n",
              "  'copi': True,\n",
              "  'counterattack': True,\n",
              "  'creat': True,\n",
              "  'date': True,\n",
              "  'develop': True,\n",
              "  'electrocardiograph': True,\n",
              "  'encomium': True,\n",
              "  'even': True,\n",
              "  'everi': True,\n",
              "  'fashion': True,\n",
              "  'find': True,\n",
              "  'form': True,\n",
              "  'friendship': True,\n",
              "  'good': True,\n",
              "  'help': True,\n",
              "  'honeycomb': True,\n",
              "  'http': True,\n",
              "  'intervenor': True,\n",
              "  'line': True,\n",
              "  'look': True,\n",
              "  'lookup': True,\n",
              "  'love': True,\n",
              "  'matter': True,\n",
              "  'may': True,\n",
              "  'meganbang': True,\n",
              "  'monster': True,\n",
              "  'movi': True,\n",
              "  'naturalgolden': True,\n",
              "  'new': True,\n",
              "  'ole': True,\n",
              "  'pa': True,\n",
              "  'pietism': True,\n",
              "  'plz': True,\n",
              "  'preemptiv': True,\n",
              "  'quick': True,\n",
              "  'res': True,\n",
              "  'retract': True,\n",
              "  'road': True,\n",
              "  'satisfact': True,\n",
              "  'scaup': True,\n",
              "  'see': True,\n",
              "  'sens': True,\n",
              "  'shoehorn': True,\n",
              "  'site': True,\n",
              "  'skeleton': True,\n",
              "  'ste': True,\n",
              "  'step': True,\n",
              "  'terrif': True,\n",
              "  'time': True,\n",
              "  'tri': True,\n",
              "  'turn': True,\n",
              "  'war': True,\n",
              "  'word': True,\n",
              "  'www': True,\n",
              "  'youll': True},\n",
              " 'spam')"
            ]
          },
          "metadata": {
            "tags": []
          },
          "execution_count": 103
        }
      ]
    },
    {
      "cell_type": "markdown",
      "metadata": {
        "id": "zJ7zbYdZTxdg"
      },
      "source": [
        "## 2. Define Classifier Models"
      ]
    },
    {
      "cell_type": "code",
      "metadata": {
        "id": "0Im9S7qIT1vA"
      },
      "source": [
        "\n",
        "\n",
        "# Definition of the classification function using Naive Bayes model\n",
        "\n",
        "from nltk import NaiveBayesClassifier, classify\n",
        "\n",
        "\n"
      ],
      "execution_count": null,
      "outputs": []
    },
    {
      "cell_type": "code",
      "metadata": {
        "id": "v910A269UBUj"
      },
      "source": [
        "# Definition of the classification function using Logistic Regression\n",
        "# TODO\n",
        "\n",
        "from sklearn.linear_model import LogisticRegression\n",
        "from sklearn.feature_extraction.text import CountVectorizer,TfidfVectorizer"
      ],
      "execution_count": null,
      "outputs": []
    },
    {
      "cell_type": "markdown",
      "metadata": {
        "id": "xhcbMJnOUR-y"
      },
      "source": [
        "### Let's train  models on preproced data"
      ]
    },
    {
      "cell_type": "code",
      "metadata": {
        "id": "TGbiL9U0UXx1"
      },
      "source": [
        "#TODO: train the Naive Bayes classifier for all_features\n",
        "\n",
        "NBclassifier = NaiveBayesClassifier.train(train_set_NB)"
      ],
      "execution_count": null,
      "outputs": []
    },
    {
      "cell_type": "code",
      "metadata": {
        "id": "OzrZHvJ3UhlY",
        "colab": {
          "base_uri": "https://localhost:8080/"
        },
        "outputId": "9492bfd1-55cf-4d5e-e3e7-dd123151243a"
      },
      "source": [
        "#TODO: show most informative features\n",
        "\n",
        "NBclassifier.show_most_informative_features(10)"
      ],
      "execution_count": null,
      "outputs": [
        {
          "output_type": "stream",
          "text": [
            "Most Informative Features\n",
            "                   enron = True              ham : spam   =   4471.1 : 1.0\n",
            "                     hpl = True              ham : spam   =    485.5 : 1.0\n",
            "                     php = True             spam : ham    =    483.4 : 1.0\n",
            "                   corel = True             spam : ham    =    268.2 : 1.0\n",
            "                       \u0001 = True              ham : spam   =    256.3 : 1.0\n",
            "              macromedia = True             spam : ham    =    241.9 : 1.0\n",
            "                   louis = True              ham : spam   =    238.1 : 1.0\n",
            "                     eol = True              ham : spam   =    214.8 : 1.0\n",
            "                     713 = True              ham : spam   =    207.9 : 1.0\n",
            "                   daren = True              ham : spam   =    196.3 : 1.0\n"
          ],
          "name": "stdout"
        }
      ]
    },
    {
      "cell_type": "code",
      "metadata": {
        "id": "HDvn5-AOUkvC",
        "colab": {
          "base_uri": "https://localhost:8080/"
        },
        "outputId": "d085c2b4-6883-4ef0-e08c-723e06d85b7a"
      },
      "source": [
        "#TODO: evaluate accuracy of the model\n",
        "\n",
        "print ('Accuracy of the test set = ' + str(classify.accuracy(NBclassifier, test_set_NB)))"
      ],
      "execution_count": null,
      "outputs": [
        {
          "output_type": "stream",
          "text": [
            "Accuracy of the test set = 0.9863582443653618\n"
          ],
          "name": "stdout"
        }
      ]
    },
    {
      "cell_type": "code",
      "metadata": {
        "id": "7Xe7ZUJOUYSv",
        "colab": {
          "base_uri": "https://localhost:8080/"
        },
        "outputId": "3786c45a-7732-43c5-fdd2-384481de305f"
      },
      "source": [
        "\n",
        "#TODO: train the Logistic Regression classifier for all_features\n",
        "from nltk.classify import SklearnClassifier\n",
        "from sklearn.linear_model import LogisticRegression\n",
        "\n",
        "classifLog = SklearnClassifier(LogisticRegression())\n",
        "classifLog.train(train_set_NB)"
      ],
      "execution_count": null,
      "outputs": [
        {
          "output_type": "execute_result",
          "data": {
            "text/plain": [
              "<SklearnClassifier(LogisticRegression(C=1.0, class_weight=None, dual=False, fit_intercept=True,\n",
              "                   intercept_scaling=1, l1_ratio=None, max_iter=100,\n",
              "                   multi_class='auto', n_jobs=None, penalty='l2',\n",
              "                   random_state=None, solver='lbfgs', tol=0.0001, verbose=0,\n",
              "                   warm_start=False))>"
            ]
          },
          "metadata": {
            "tags": []
          },
          "execution_count": 115
        }
      ]
    },
    {
      "cell_type": "code",
      "metadata": {
        "id": "X9MhIk_1UfCo",
        "colab": {
          "base_uri": "https://localhost:8080/",
          "height": 181
        },
        "outputId": "6a4615ce-c181-4257-e30c-65461804d40d"
      },
      "source": [
        "#TODO: show most informative features\n",
        "classifLog.show_most_informative_features(10)"
      ],
      "execution_count": null,
      "outputs": [
        {
          "output_type": "error",
          "ename": "AttributeError",
          "evalue": "ignored",
          "traceback": [
            "\u001b[0;31m---------------------------------------------------------------------------\u001b[0m",
            "\u001b[0;31mAttributeError\u001b[0m                            Traceback (most recent call last)",
            "\u001b[0;32m<ipython-input-124-1f95fbe0a1ad>\u001b[0m in \u001b[0;36m<module>\u001b[0;34m()\u001b[0m\n\u001b[1;32m      1\u001b[0m \u001b[0;31m#TODO: show most informative features\u001b[0m\u001b[0;34m\u001b[0m\u001b[0;34m\u001b[0m\u001b[0;34m\u001b[0m\u001b[0m\n\u001b[0;32m----> 2\u001b[0;31m \u001b[0mclassifLog\u001b[0m\u001b[0;34m.\u001b[0m\u001b[0mshow_most_informative_features\u001b[0m\u001b[0;34m(\u001b[0m\u001b[0;36m10\u001b[0m\u001b[0;34m)\u001b[0m\u001b[0;34m\u001b[0m\u001b[0;34m\u001b[0m\u001b[0m\n\u001b[0m",
            "\u001b[0;31mAttributeError\u001b[0m: 'SklearnClassifier' object has no attribute 'show_most_informative_features'"
          ]
        }
      ]
    },
    {
      "cell_type": "code",
      "metadata": {
        "id": "NuOP3_ocUlW4",
        "colab": {
          "base_uri": "https://localhost:8080/"
        },
        "outputId": "b626e3ac-c0a3-48fc-b10e-94be66be22ba"
      },
      "source": [
        "#TODO: evaluate accuracy of the model & compare with the previous model\n",
        "\n",
        "print ('Accuracy of the test set = ' + str(classify.accuracy(classifLog, test_set_NB)))"
      ],
      "execution_count": null,
      "outputs": [
        {
          "output_type": "stream",
          "text": [
            "Accuracy of the test set = 0.9739027283511269\n"
          ],
          "name": "stdout"
        }
      ]
    },
    {
      "cell_type": "code",
      "metadata": {
        "id": "6P3mb6XJUq_2",
        "colab": {
          "base_uri": "https://localhost:8080/",
          "height": 246
        },
        "outputId": "ff595f06-7c7b-491c-f14d-32ff0c44a102"
      },
      "source": [
        "#TODO: create a wordcloud with most informative features for spam for NBC & LR\n",
        "\n",
        "\n",
        "from wordcloud import WordCloud\n",
        "\n",
        "# Plotting\n",
        "import matplotlib.pyplot as plt\n",
        "%matplotlib inline\n",
        "\n",
        "\n",
        "\n",
        "# Complicated\n",
        "def most_informative_features_by_label(classifier, label, n=50):\n",
        "    \"\"\"\n",
        "    Returns features and their importance\n",
        "    \"\"\"\n",
        "    cpdist = classifier._feature_probdist\n",
        "    feature_list = []\n",
        "    for (fname, fval) in classifier.most_informative_features(n):\n",
        "        def labelprob(l):\n",
        "            return cpdist[l, fname].prob(fval)\n",
        "        labels = sorted([l for l in classifier._labels if fval in cpdist[l, fname].samples()], \n",
        "                        key=labelprob)\n",
        "        if labels[-1] == label:\n",
        "            feature_list.append(fname)\n",
        "    return feature_list\n",
        "\n",
        "wordcloud_spam = WordCloud(background_color='white').generate(' '.join(most_informative_features_by_label(NBclassifier,'spam')))\n",
        "plt.imshow(wordcloud_spam)\n",
        "plt.title(\"Most informative features - Spam\\n\")\n",
        "plt.axis()\n",
        "plt.show()"
      ],
      "execution_count": null,
      "outputs": [
        {
          "output_type": "display_data",
          "data": {
            "image/png": "[encoded data removed]",
            "text/plain": [
              "<Figure size 432x288 with 1 Axes>"
            ]
          },
          "metadata": {
            "tags": [],
            "needs_background": "light"
          }
        }
      ]
    },
    {
      "cell_type": "markdown",
      "metadata": {
        "id": "JOdg5nBLU4fR"
      },
      "source": [
        "### Indicators of model quality\n"
      ]
    },
    {
      "cell_type": "code",
      "metadata": {
        "id": "lSWsXrRbU75u",
        "colab": {
          "base_uri": "https://localhost:8080/"
        },
        "outputId": "da2a6c94-1ffc-4a19-a6cf-3f44ba0123c1"
      },
      "source": [
        "\n",
        "#TODO: show confusion matrix on test set ++ precision on spam prediction on test set + recall on spam prediction on test set for NBC & LRC\n",
        "\n",
        "# variables\n",
        "\n",
        "test_features = [feature[0] for feature in test_set_NB]\n",
        "test_label = [feature[1] for feature in test_set_NB]\n",
        "prediction = NBclassifier.classify_many(test_features)\n",
        "\n",
        "#TODO: show confusion matrix on test set ++ precision on spam prediction on test set + recall on spam prediction on test set\n",
        "\n",
        "cm = ConfusionMatrix(test_label, prediction)\n",
        "print(\"Confusion Matrix on test set\" )\n",
        "print(cm)"
      ],
      "execution_count": null,
      "outputs": [
        {
          "output_type": "stream",
          "text": [
            "Confusion Matrix on test set\n",
            "     |         s |\n",
            "     |    h    p |\n",
            "     |    a    a |\n",
            "     |    m    m |\n",
            "-----+-----------+\n",
            " ham |<3268>  41 |\n",
            "spam |   51<3384>|\n",
            "-----+-----------+\n",
            "(row = reference; col = test)\n",
            "\n"
          ],
          "name": "stdout"
        }
      ]
    },
    {
      "cell_type": "code",
      "metadata": {
        "id": "CF7LZ5zUU_Lq"
      },
      "source": [
        ""
      ],
      "execution_count": null,
      "outputs": []
    }
  ]
}