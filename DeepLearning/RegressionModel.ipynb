{
 "cells": [
  {
   "cell_type": "markdown",
   "metadata": {},
   "source": [
    "# Exercise 1 : first model"
   ]
  },
  {
   "cell_type": "code",
   "execution_count": 1,
   "metadata": {
    "scrolled": true
   },
   "outputs": [
    {
     "name": "stdout",
     "output_type": "stream",
     "text": [
      "Model: \"sequential\"\n",
      "_________________________________________________________________\n",
      "Layer (type)                 Output Shape              Param #   \n",
      "=================================================================\n",
      "dense (Dense)                (None, 10)                30        \n",
      "_________________________________________________________________\n",
      "dense_1 (Dense)              (None, 1)                 11        \n",
      "=================================================================\n",
      "Total params: 41\n",
      "Trainable params: 41\n",
      "Non-trainable params: 0\n",
      "_________________________________________________________________\n"
     ]
    }
   ],
   "source": [
    "from keras.models import Sequential\n",
    "from keras.layers import Dense\n",
    "\n",
    "model1=Sequential()\n",
    "model1.add(Dense(10, input_shape=(2,)))\n",
    "model1.add(Dense(1))\n",
    "model1.summary()"
   ]
  },
  {
   "cell_type": "markdown",
   "metadata": {},
   "source": [
    " # Exercise 2 : number of parameters"
   ]
  },
  {
   "cell_type": "code",
   "execution_count": 2,
   "metadata": {
    "scrolled": false
   },
   "outputs": [
    {
     "name": "stdout",
     "output_type": "stream",
     "text": [
      "Model: \"sequential_1\"\n",
      "_________________________________________________________________\n",
      "Layer (type)                 Output Shape              Param #   \n",
      "=================================================================\n",
      "dense_2 (Dense)              (None, 5)                 20        \n",
      "_________________________________________________________________\n",
      "dense_3 (Dense)              (None, 1)                 6         \n",
      "=================================================================\n",
      "Total params: 26\n",
      "Trainable params: 26\n",
      "Non-trainable params: 0\n",
      "_________________________________________________________________\n",
      "Layer 0 weights:\n",
      " [[-0.7006796   0.5181944   0.05861187 -0.25622767  0.596837  ]\n",
      " [ 0.61565024  0.4013483  -0.02400082 -0.6123954  -0.2808438 ]\n",
      " [-0.01121849 -0.69145113 -0.61827606 -0.28482366  0.7216242 ]] \n",
      "Layer 0 biases: [0. 0. 0. 0. 0.]\n",
      "Layer 1 weights:\n",
      " [[ 0.8875761 ]\n",
      " [ 0.10366559]\n",
      " [ 0.23454237]\n",
      " [-0.15371728]\n",
      " [-0.27267385]] \n",
      "Layer 1 biases: [0.]\n"
     ]
    }
   ],
   "source": [
    "from keras.models import Sequential\n",
    "from keras.layers import Dense\n",
    "\n",
    "model2=Sequential()\n",
    "model2.add(Dense(5, input_shape=(3,), activation='relu'))\n",
    "model2.add(Dense(1))\n",
    "model2.summary()\n",
    "\n",
    "weights0, biases0 = model2.layers[0].get_weights()\n",
    "weights1, biases1 = model2.layers[1].get_weights()\n",
    "print('Layer 0 weights:\\n', weights0, '\\nLayer 0 biases:' , biases0)\n",
    "print('Layer 1 weights:\\n', weights1, '\\nLayer 1 biases:' , biases1)"
   ]
  },
  {
   "cell_type": "markdown",
   "metadata": {},
   "source": [
    "# Exercise 3 : build a model"
   ]
  },
  {
   "cell_type": "code",
   "execution_count": 3,
   "metadata": {},
   "outputs": [
    {
     "name": "stdout",
     "output_type": "stream",
     "text": [
      "First layer activations:\n",
      " [[3.5  3.5  3.5 ]\n",
      " [0.25 0.25 0.25]]\n"
     ]
    }
   ],
   "source": [
    "from keras.models import Sequential, Model\n",
    "from keras.layers import Dense\n",
    "import numpy as np\n",
    "\n",
    "model3=Sequential()\n",
    "model3.add(Dense(3, input_shape=(2,), activation='relu', kernel_initializer='ones', bias_initializer='zeros'))\n",
    "model3.add(Dense(1))\n",
    "\n",
    "get_1st_layer_output=Model(inputs=model3.layers[0].input,outputs=model3.layers[0].output)\n",
    "\n",
    "x=np.array([[0.5,3],[-0.75,1]])\n",
    "print('First layer activations:\\n', get_1st_layer_output.predict(x))"
   ]
  },
  {
   "cell_type": "markdown",
   "metadata": {},
   "source": [
    "# Exercise 4 : Regression model"
   ]
  },
  {
   "cell_type": "code",
   "execution_count": 4,
   "metadata": {},
   "outputs": [
    {
     "name": "stdout",
     "output_type": "stream",
     "text": [
      "Epoch 1/30\n",
      "63/63 [==============================] - 0s 2ms/step - loss: 1699.5608\n",
      "Epoch 2/30\n",
      "63/63 [==============================] - 0s 2ms/step - loss: 355.0478\n",
      "Epoch 3/30\n",
      "63/63 [==============================] - 0s 2ms/step - loss: 141.5052\n",
      "Epoch 4/30\n",
      "63/63 [==============================] - 0s 2ms/step - loss: 121.2710\n",
      "Epoch 5/30\n",
      "63/63 [==============================] - 0s 2ms/step - loss: 99.7318\n",
      "Epoch 6/30\n",
      "63/63 [==============================] - 0s 2ms/step - loss: 75.4082\n",
      "Epoch 7/30\n",
      "63/63 [==============================] - 0s 2ms/step - loss: 49.6818\n",
      "Epoch 8/30\n",
      "63/63 [==============================] - 0s 2ms/step - loss: 28.8378\n",
      "Epoch 9/30\n",
      "63/63 [==============================] - 0s 2ms/step - loss: 16.0726\n",
      "Epoch 10/30\n",
      "63/63 [==============================] - 0s 2ms/step - loss: 9.8112\n",
      "Epoch 11/30\n",
      "63/63 [==============================] - 0s 2ms/step - loss: 5.9863\n",
      "Epoch 12/30\n",
      "63/63 [==============================] - 0s 2ms/step - loss: 4.0602\n",
      "Epoch 13/30\n",
      "63/63 [==============================] - 0s 2ms/step - loss: 2.7073\n",
      "Epoch 14/30\n",
      "63/63 [==============================] - 0s 2ms/step - loss: 1.9233\n",
      "Epoch 15/30\n",
      "63/63 [==============================] - 0s 2ms/step - loss: 1.4022\n",
      "Epoch 16/30\n",
      "63/63 [==============================] - 0s 2ms/step - loss: 1.0270\n",
      "Epoch 17/30\n",
      "63/63 [==============================] - 0s 2ms/step - loss: 0.9834\n",
      "Epoch 18/30\n",
      "63/63 [==============================] - 0s 2ms/step - loss: 0.6605\n",
      "Epoch 19/30\n",
      "63/63 [==============================] - 0s 2ms/step - loss: 0.6134\n",
      "Epoch 20/30\n",
      "63/63 [==============================] - 0s 2ms/step - loss: 0.4693\n",
      "Epoch 21/30\n",
      "63/63 [==============================] - 0s 2ms/step - loss: 0.4052\n",
      "Epoch 22/30\n",
      "63/63 [==============================] - 0s 2ms/step - loss: 0.3842\n",
      "Epoch 23/30\n",
      "63/63 [==============================] - 0s 2ms/step - loss: 0.2273\n",
      "Epoch 24/30\n",
      "63/63 [==============================] - 0s 2ms/step - loss: 0.2179\n",
      "Epoch 25/30\n",
      "63/63 [==============================] - 0s 2ms/step - loss: 0.2404\n",
      "Epoch 26/30\n",
      "63/63 [==============================] - 0s 2ms/step - loss: 0.1583\n",
      "Epoch 27/30\n",
      "63/63 [==============================] - 0s 2ms/step - loss: 0.1541\n",
      "Epoch 28/30\n",
      "63/63 [==============================] - 0s 2ms/step - loss: 0.1653\n",
      "Epoch 29/30\n",
      "63/63 [==============================] - 0s 2ms/step - loss: 0.1602\n",
      "Epoch 30/30\n",
      "63/63 [==============================] - 0s 2ms/step - loss: 0.1363\n"
     ]
    }
   ],
   "source": [
    "from keras.models import Sequential\n",
    "from keras.layers import Dense\n",
    "import numpy as np\n",
    "\n",
    "time_steps=np.load('data/time.npy')\n",
    "y_positions=np.load('data/positions.npy')\n",
    "\n",
    "model4=Sequential()\n",
    "model4.add(Dense(50, input_shape=(1,), activation='relu'))\n",
    "model4.add(Dense(50, activation='relu'))\n",
    "model4.add(Dense(50, activation='relu'))\n",
    "model4.add(Dense(1))\n",
    "\n",
    "model4.compile(optimizer='adam', loss='mse')\n",
    "model4.fit(time_steps, y_positions, epochs=30)\n",
    "\n",
    "preds20=model4.predict(np.arange(-10,11))"
   ]
  },
  {
   "cell_type": "code",
   "execution_count": 5,
   "metadata": {},
   "outputs": [
    {
     "data": {
      "image/png": "[encoded data removed]",
      "text/plain": [
       "<Figure size 432x288 with 1 Axes>"
      ]
     },
     "metadata": {
      "needs_background": "light"
     },
     "output_type": "display_data"
    }
   ],
   "source": [
    "import matplotlib.pyplot as plt\n",
    "def plot_orbit(model_preds):\n",
    "  axeslim = int(len(model_preds)/2)\n",
    "  plt.plot(np.arange(-axeslim, axeslim + 1),np.arange(-axeslim, axeslim + 1)**2,color=\"mediumslateblue\")\n",
    "  plt.plot(np.arange(-axeslim, axeslim + 1),model_preds,color=\"orange\")\n",
    "  plt.axis([-40, 41, -5, 550])\n",
    "  plt.legend([\"Real Orbit\", 'Predicted orbit'],loc=\"lower left\")\n",
    "  plt.title(\"Predicted orbit vs Real Orbit\")\n",
    "  plt.show()\n",
    "\n",
    "plot_orbit(preds20)"
   ]
  },
  {
   "cell_type": "code",
   "execution_count": 6,
   "metadata": {
    "scrolled": false
   },
   "outputs": [
    {
     "data": {
      "image/png": "[encoded data removed]",
      "text/plain": [
       "<Figure size 432x288 with 1 Axes>"
      ]
     },
     "metadata": {
      "needs_background": "light"
     },
     "output_type": "display_data"
    }
   ],
   "source": [
    "plot_orbit(model4.predict(np.arange(-40,41)))"
   ]
  }
 ],
 "metadata": {
  "kernelspec": {
   "display_name": "Python 3",
   "language": "python",
   "name": "python3"
  },
  "language_info": {
   "codemirror_mode": {
    "name": "ipython",
    "version": 3
   },
   "file_extension": ".py",
   "mimetype": "text/x-python",
   "name": "python",
   "nbconvert_exporter": "python",
   "pygments_lexer": "ipython3",
   "version": "3.7.6"
  }
 },
 "nbformat": 4,
 "nbformat_minor": 2
}
